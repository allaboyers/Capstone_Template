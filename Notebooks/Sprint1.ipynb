{
 "cells": [
  {
   "cell_type": "markdown",
   "id": "057770a3",
   "metadata": {},
   "source": [
    "# Toronto Parking Ticket Revenues\n",
    "# Capstone Project\n",
    "## Sprint 1"
   ]
  },
  {
   "cell_type": "markdown",
   "id": "f9065266",
   "metadata": {},
   "source": [
    "### Alla B.\n",
    "Email: allaboyers@gmail.com\n",
    "\n",
    "### October 19, 2023"
   ]
  },
  {
   "cell_type": "markdown",
   "id": "b567f8c9",
   "metadata": {},
   "source": [
    "### Table of Contents\n",
    "1. [Overview: The Problem and Opportunity](#Overview:-The-Problem-and-Opportunity)\n",
    "2. [Part 1 - The Data: Explanation of the Data](#Part-1---The-Data:-Explanation-of-the-Data)\n",
    "3. [Part 2 - Basic Cleaning and EDA](#Part-2---Basic-Cleaning-and-EDA)\n",
    "4. [Part 3 - Next Steps](#Part-3---Next-Steps)"
   ]
  },
  {
   "cell_type": "markdown",
   "id": "35748c56",
   "metadata": {},
   "source": [
    "## Overview: The Problem and Opportunity"
   ]
  },
  {
   "cell_type": "markdown",
   "id": "bf15944b",
   "metadata": {},
   "source": [
    "Parking tickets across the city generate millions in revenue for the City of Toronto every year. However, the City of Toronto's revenue from parking tickets has been declining year over year. There is an opportunity to reverse this decline or even increase ticket revenue by making the City of Toronto's Administrative Penalty System (APS) more efficient. Using machine learning can enhance the efficiency of the APS, identifying priority areas where illegal parking has been observed. These areas can be sorted by locations with the highest number of parking infractions (e.g., in the last month or week) and by the highest ticket amounts issued. The impact of an efficient model can make the city safer and more attractive to residents and tourists. The potential revenue opportunity could be as significant as [30 million dollars a year](https://www.thestar.com/opinion/contributors/the-number-of-parking-tickets-has-plunged-in-cash-strapped-toronto-why-the-lax-enforcement/article_588cb2a7-843e-5e23-aef7-d8f2ff9afdb1.html#:~:text=The%20city's%20annual%20revenue%20from,estimated%20%2490%20million%20in%202021.) . Furthermore, by mitigating gridlocks, we can prevent potential damage to economic prosperity, an issue estimated at [$6 billion by the Toronto Board of Trade](https://www.cbc.ca/news/canada/toronto/parking-rules-don-t-apply-to-all-1.1045718) (as of 2011)."
   ]
  },
  {
   "cell_type": "markdown",
   "id": "36418018",
   "metadata": {},
   "source": [
    "## The Data: Explanation of the Data"
   ]
  },
  {
   "cell_type": "markdown",
   "id": "7f8daef0",
   "metadata": {},
   "source": [
    "The dataset for this project will be sourced from the [Open Data Portal of the City of Toronto](https://open.toronto.ca/dataset/parking-tickets/) (2020-2022). The dataset contains non-identifiable information relating to each parking ticket issued for each calendar year. The tickets are issued by Toronto Police Services (TPS) personnel as well as persons certified and authorized to issue tickets by TPS. The data set contains complete records only. Incomplete records in the City database are not included in the data set. Incomplete records may exist due to a variety of reasons e.g. the vehicle registration is out-of-province, tickets paid prior to staff entering the ticket data, etc. The volume of incomplete records relative to the overall volume is low and therefore presents insignificant impact to trend analysis."
   ]
  },
  {
   "cell_type": "markdown",
   "id": "a0a40b12",
   "metadata": {},
   "source": [
    "| ITEM   NAME            | DESCRIPTION                                                  |\n",
    "|------------------------|--------------------------------------------------------------|\n",
    "|                        |                                                              |\n",
    "| TAG_NUMBER_MASKED      | First three (3) characters masked   with asterisks           |\n",
    "| DATE_OF_INFRACTION     | Date the infraction   occurred in YYYYMMDD format            |\n",
    "| INFRACTION_CODE        | Applicable Infraction   code (numeric)                       |\n",
    "| INFRACTION_DESCRIPTION | Short description of   the infraction                        |\n",
    "| SET_FINE_AMOUNT        | Amount of set fine   applicable (in dollars)                 |\n",
    "| TIME_OF_INFRACTION     | Time the infraction   occurred  in HHMM format (24-hr clock) |\n",
    "| LOCATION1              | Code to denote   proximity (see table below)                 |\n",
    "| LOCATION2              | Street address                                               |\n",
    "| LOCATION3              | Code to denote   proximity (optional)                        |\n",
    "| LOCATION4              | Street address   (optional)                                  |\n",
    "| PROVINCE               | Province or state   code of vehicle licence plate            |\n",
    "|                        |                                                              |\n",
    "|                        |                                                              |\n",
    "| Proximity Code Table   |                                                              |\n",
    "| PROXIMITY CODE         | DESCRIPTION                                                  |\n",
    "| AT                     | At                                                           |\n",
    "| NR                     | Near                                                         |\n",
    "| OPP                    | Opposite                                                     |\n",
    "| R/O                    | Rear   of                                                    |\n",
    "| N/S                    | North   Side                                                 |\n",
    "| S/S                    | South   Side                                                 |\n",
    "| E/S                    | East   Side                                                  |\n",
    "| W/S                    | West   Side                                                  |\n",
    "| N/O                    | North   of                                                   |\n",
    "| S/O                    | South   of                                                   |\n",
    "| E/O                    | East   of                                                    |\n",
    "| W/O                    | West   of                                                    |"
   ]
  },
  {
   "cell_type": "code",
   "execution_count": 1,
   "id": "2caabe00",
   "metadata": {},
   "outputs": [],
   "source": [
    "# import libraries\n",
    "import numpy as np\n",
    "import pandas as pd\n",
    "import matplotlib.pyplot as plt\n",
    "import seaborn as sns"
   ]
  },
  {
   "cell_type": "markdown",
   "id": "1914509a",
   "metadata": {},
   "source": [
    "Read in data: Create file paths of 29 `.csv files`. "
   ]
  },
  {
   "cell_type": "code",
   "execution_count": 2,
   "id": "1199c778",
   "metadata": {},
   "outputs": [],
   "source": [
    "file_paths = ['Downloads/Capstone_Project_Data/parking_tickets_all/Parking_Tags_Data_2020.000.csv', \n",
    "             'Downloads/Capstone_Project_Data/parking_tickets_all/Parking_Tags_Data_2020.001.csv',\n",
    "            'Downloads/Capstone_Project_Data/parking_tickets_all/Parking_Tags_Data_2020.002.csv',\n",
    "             'Downloads/Capstone_Project_Data/parking_tickets_all/Parking_Tags_Data_2020.003.csv',\n",
    "             'Downloads/Capstone_Project_Data/parking_tickets_all/Parking_Tags_Data_2020.004.csv',\n",
    "             'Downloads/Capstone_Project_Data/parking_tickets_all/Parking_Tags_Data_2020.005.csv',\n",
    "             'Downloads/Capstone_Project_Data/parking_tickets_all/Parking_Tags_Data_2021.000.csv',\n",
    "             'Downloads/Capstone_Project_Data/parking_tickets_all/Parking_Tags_Data_2021.001.csv',\n",
    "             'Downloads/Capstone_Project_Data/parking_tickets_all/Parking_Tags_Data_2021.002.csv',\n",
    "             'Downloads/Capstone_Project_Data/parking_tickets_all/Parking_Tags_Data_2021.003.csv',\n",
    "             'Downloads/Capstone_Project_Data/parking_tickets_all/Parking_Tags_Data_2021.004.csv',\n",
    "             'Downloads/Capstone_Project_Data/parking_tickets_all/Parking_Tags_Data_2021.005.csv',\n",
    "             'Downloads/Capstone_Project_Data/parking_tickets_all/Parking_Tags_Data_2021.006.csv',\n",
    "             'Downloads/Capstone_Project_Data/parking_tickets_all/Parking_Tags_Data_2021.007.csv',\n",
    "             'Downloads/Capstone_Project_Data/parking_tickets_all/Parking_Tags_Data_2021.008.csv',\n",
    "             'Downloads/Capstone_Project_Data/parking_tickets_all/Parking_Tags_Data_2021.009.csv',\n",
    "             'Downloads/Capstone_Project_Data/parking_tickets_all/Parking_Tags_Data_2021.010.csv',\n",
    "             'Downloads/Capstone_Project_Data/parking_tickets_all/Parking_Tags_Data_2021.011.csv',\n",
    "             'Downloads/Capstone_Project_Data/parking_tickets_all/Parking_Tags_Data_2021.012.csv',\n",
    "             'Downloads/Capstone_Project_Data/parking_tickets_all/Parking_Tags_Data_2021.013.csv',\n",
    "             'Downloads/Capstone_Project_Data/parking_tickets_all/Parking_Tags_Data_2021.014.csv',\n",
    "             'Downloads/Capstone_Project_Data/parking_tickets_all/Parking_Tags_Data_2022.000.csv',\n",
    "             'Downloads/Capstone_Project_Data/parking_tickets_all/Parking_Tags_Data_2022.001.csv',\n",
    "             'Downloads/Capstone_Project_Data/parking_tickets_all/Parking_Tags_Data_2022.002.csv',\n",
    "             'Downloads/Capstone_Project_Data/parking_tickets_all/Parking_Tags_Data_2022.003.csv',\n",
    "             'Downloads/Capstone_Project_Data/parking_tickets_all/Parking_Tags_Data_2022.004.csv',\n",
    "             'Downloads/Capstone_Project_Data/parking_tickets_all/Parking_Tags_Data_2022.005.csv',\n",
    "             'Downloads/Capstone_Project_Data/parking_tickets_all/Parking_Tags_Data_2022.006.csv']"
   ]
  },
  {
   "cell_type": "code",
   "execution_count": 3,
   "id": "8fda8f64",
   "metadata": {
    "scrolled": true
   },
   "outputs": [
    {
     "data": {
      "text/plain": [
       "['Downloads/Capstone_Project_Data/parking_tickets_all/Parking_Tags_Data_2020.000.csv',\n",
       " 'Downloads/Capstone_Project_Data/parking_tickets_all/Parking_Tags_Data_2020.001.csv',\n",
       " 'Downloads/Capstone_Project_Data/parking_tickets_all/Parking_Tags_Data_2020.002.csv',\n",
       " 'Downloads/Capstone_Project_Data/parking_tickets_all/Parking_Tags_Data_2020.003.csv',\n",
       " 'Downloads/Capstone_Project_Data/parking_tickets_all/Parking_Tags_Data_2020.004.csv',\n",
       " 'Downloads/Capstone_Project_Data/parking_tickets_all/Parking_Tags_Data_2020.005.csv',\n",
       " 'Downloads/Capstone_Project_Data/parking_tickets_all/Parking_Tags_Data_2021.000.csv',\n",
       " 'Downloads/Capstone_Project_Data/parking_tickets_all/Parking_Tags_Data_2021.001.csv',\n",
       " 'Downloads/Capstone_Project_Data/parking_tickets_all/Parking_Tags_Data_2021.002.csv',\n",
       " 'Downloads/Capstone_Project_Data/parking_tickets_all/Parking_Tags_Data_2021.003.csv',\n",
       " 'Downloads/Capstone_Project_Data/parking_tickets_all/Parking_Tags_Data_2021.004.csv',\n",
       " 'Downloads/Capstone_Project_Data/parking_tickets_all/Parking_Tags_Data_2021.005.csv',\n",
       " 'Downloads/Capstone_Project_Data/parking_tickets_all/Parking_Tags_Data_2021.006.csv',\n",
       " 'Downloads/Capstone_Project_Data/parking_tickets_all/Parking_Tags_Data_2021.007.csv',\n",
       " 'Downloads/Capstone_Project_Data/parking_tickets_all/Parking_Tags_Data_2021.008.csv',\n",
       " 'Downloads/Capstone_Project_Data/parking_tickets_all/Parking_Tags_Data_2021.009.csv',\n",
       " 'Downloads/Capstone_Project_Data/parking_tickets_all/Parking_Tags_Data_2021.010.csv',\n",
       " 'Downloads/Capstone_Project_Data/parking_tickets_all/Parking_Tags_Data_2021.011.csv',\n",
       " 'Downloads/Capstone_Project_Data/parking_tickets_all/Parking_Tags_Data_2021.012.csv',\n",
       " 'Downloads/Capstone_Project_Data/parking_tickets_all/Parking_Tags_Data_2021.013.csv',\n",
       " 'Downloads/Capstone_Project_Data/parking_tickets_all/Parking_Tags_Data_2021.014.csv',\n",
       " 'Downloads/Capstone_Project_Data/parking_tickets_all/Parking_Tags_Data_2022.000.csv',\n",
       " 'Downloads/Capstone_Project_Data/parking_tickets_all/Parking_Tags_Data_2022.001.csv',\n",
       " 'Downloads/Capstone_Project_Data/parking_tickets_all/Parking_Tags_Data_2022.002.csv',\n",
       " 'Downloads/Capstone_Project_Data/parking_tickets_all/Parking_Tags_Data_2022.003.csv',\n",
       " 'Downloads/Capstone_Project_Data/parking_tickets_all/Parking_Tags_Data_2022.004.csv',\n",
       " 'Downloads/Capstone_Project_Data/parking_tickets_all/Parking_Tags_Data_2022.005.csv',\n",
       " 'Downloads/Capstone_Project_Data/parking_tickets_all/Parking_Tags_Data_2022.006.csv']"
      ]
     },
     "execution_count": 3,
     "metadata": {},
     "output_type": "execute_result"
    }
   ],
   "source": [
    "# check\n",
    "file_paths"
   ]
  },
  {
   "cell_type": "code",
   "execution_count": 4,
   "id": "d434c042",
   "metadata": {},
   "outputs": [],
   "source": [
    "# create an empty list to store DataFrames\n",
    "dataframes = []\n",
    "\n",
    "# iterate over each file and load it into a DataFrame\n",
    "for file_path in file_paths:\n",
    "    df = pd.read_csv(file_path, dtype={\"time_of_infraction\": str}) \n",
    "    # basic EDA showed there was a problem with data type of time_of_infraction column and converting it didn't \n",
    "    # fix the problem, added 'dtype' to read in the column as string\n",
    "    dataframes.append(df)\n",
    "\n",
    "# now we have a list of DataFrames, one for each .csv file\n",
    "\n",
    "\n",
    "# combine all DataFrames into a single DataFrame\n",
    "parking_df = pd.concat(dataframes, ignore_index=True)\n"
   ]
  },
  {
   "cell_type": "code",
   "execution_count": 5,
   "id": "599d691a",
   "metadata": {
    "scrolled": true
   },
   "outputs": [
    {
     "data": {
      "text/html": [
       "<div>\n",
       "<style scoped>\n",
       "    .dataframe tbody tr th:only-of-type {\n",
       "        vertical-align: middle;\n",
       "    }\n",
       "\n",
       "    .dataframe tbody tr th {\n",
       "        vertical-align: top;\n",
       "    }\n",
       "\n",
       "    .dataframe thead th {\n",
       "        text-align: right;\n",
       "    }\n",
       "</style>\n",
       "<table border=\"1\" class=\"dataframe\">\n",
       "  <thead>\n",
       "    <tr style=\"text-align: right;\">\n",
       "      <th></th>\n",
       "      <th>tag_number_masked</th>\n",
       "      <th>date_of_infraction</th>\n",
       "      <th>infraction_code</th>\n",
       "      <th>infraction_description</th>\n",
       "      <th>set_fine_amount</th>\n",
       "      <th>time_of_infraction</th>\n",
       "      <th>location1</th>\n",
       "      <th>location2</th>\n",
       "      <th>location3</th>\n",
       "      <th>location4</th>\n",
       "      <th>province</th>\n",
       "    </tr>\n",
       "  </thead>\n",
       "  <tbody>\n",
       "    <tr>\n",
       "      <th>0</th>\n",
       "      <td>***60020</td>\n",
       "      <td>20200101</td>\n",
       "      <td>3</td>\n",
       "      <td>PARK ON PRIVATE PROPERTY</td>\n",
       "      <td>30</td>\n",
       "      <td>0001</td>\n",
       "      <td>NaN</td>\n",
       "      <td>4700 JANE ST</td>\n",
       "      <td>NaN</td>\n",
       "      <td>NaN</td>\n",
       "      <td>SK</td>\n",
       "    </tr>\n",
       "    <tr>\n",
       "      <th>1</th>\n",
       "      <td>***46473</td>\n",
       "      <td>20200101</td>\n",
       "      <td>29</td>\n",
       "      <td>PARK PROHIBITED TIME NO PERMIT</td>\n",
       "      <td>30</td>\n",
       "      <td>0002</td>\n",
       "      <td>OPP</td>\n",
       "      <td>573 CLENDENAN AVE</td>\n",
       "      <td>NaN</td>\n",
       "      <td>NaN</td>\n",
       "      <td>ON</td>\n",
       "    </tr>\n",
       "    <tr>\n",
       "      <th>2</th>\n",
       "      <td>***46474</td>\n",
       "      <td>20200101</td>\n",
       "      <td>29</td>\n",
       "      <td>PARK PROHIBITED TIME NO PERMIT</td>\n",
       "      <td>30</td>\n",
       "      <td>0002</td>\n",
       "      <td>NR</td>\n",
       "      <td>573 CLENDENAN AVE</td>\n",
       "      <td>NaN</td>\n",
       "      <td>NaN</td>\n",
       "      <td>ON</td>\n",
       "    </tr>\n",
       "    <tr>\n",
       "      <th>3</th>\n",
       "      <td>***46475</td>\n",
       "      <td>20200101</td>\n",
       "      <td>29</td>\n",
       "      <td>PARK PROHIBITED TIME NO PERMIT</td>\n",
       "      <td>30</td>\n",
       "      <td>0004</td>\n",
       "      <td>NR</td>\n",
       "      <td>21 MARIA ST</td>\n",
       "      <td>NaN</td>\n",
       "      <td>NaN</td>\n",
       "      <td>ON</td>\n",
       "    </tr>\n",
       "    <tr>\n",
       "      <th>4</th>\n",
       "      <td>***46674</td>\n",
       "      <td>20200101</td>\n",
       "      <td>29</td>\n",
       "      <td>PARK PROHIBITED TIME NO PERMIT</td>\n",
       "      <td>30</td>\n",
       "      <td>0004</td>\n",
       "      <td>NR</td>\n",
       "      <td>164 GLENHOLME AVE</td>\n",
       "      <td>NaN</td>\n",
       "      <td>NaN</td>\n",
       "      <td>ON</td>\n",
       "    </tr>\n",
       "  </tbody>\n",
       "</table>\n",
       "</div>"
      ],
      "text/plain": [
       "  tag_number_masked  date_of_infraction  infraction_code  \\\n",
       "0          ***60020            20200101                3   \n",
       "1          ***46473            20200101               29   \n",
       "2          ***46474            20200101               29   \n",
       "3          ***46475            20200101               29   \n",
       "4          ***46674            20200101               29   \n",
       "\n",
       "           infraction_description  set_fine_amount time_of_infraction  \\\n",
       "0        PARK ON PRIVATE PROPERTY               30               0001   \n",
       "1  PARK PROHIBITED TIME NO PERMIT               30               0002   \n",
       "2  PARK PROHIBITED TIME NO PERMIT               30               0002   \n",
       "3  PARK PROHIBITED TIME NO PERMIT               30               0004   \n",
       "4  PARK PROHIBITED TIME NO PERMIT               30               0004   \n",
       "\n",
       "  location1          location2 location3 location4 province  \n",
       "0       NaN       4700 JANE ST       NaN       NaN       SK  \n",
       "1       OPP  573 CLENDENAN AVE       NaN       NaN       ON  \n",
       "2        NR  573 CLENDENAN AVE       NaN       NaN       ON  \n",
       "3        NR        21 MARIA ST       NaN       NaN       ON  \n",
       "4        NR  164 GLENHOLME AVE       NaN       NaN       ON  "
      ]
     },
     "execution_count": 5,
     "metadata": {},
     "output_type": "execute_result"
    }
   ],
   "source": [
    "# now we have all 29 files inserted in a single DataFrame\n",
    "# check first five rows\n",
    "parking_df.head()"
   ]
  },
  {
   "cell_type": "code",
   "execution_count": 6,
   "id": "5b2ed5d6",
   "metadata": {
    "scrolled": true
   },
   "outputs": [
    {
     "data": {
      "text/html": [
       "<div>\n",
       "<style scoped>\n",
       "    .dataframe tbody tr th:only-of-type {\n",
       "        vertical-align: middle;\n",
       "    }\n",
       "\n",
       "    .dataframe tbody tr th {\n",
       "        vertical-align: top;\n",
       "    }\n",
       "\n",
       "    .dataframe thead th {\n",
       "        text-align: right;\n",
       "    }\n",
       "</style>\n",
       "<table border=\"1\" class=\"dataframe\">\n",
       "  <thead>\n",
       "    <tr style=\"text-align: right;\">\n",
       "      <th></th>\n",
       "      <th>tag_number_masked</th>\n",
       "      <th>date_of_infraction</th>\n",
       "      <th>infraction_code</th>\n",
       "      <th>infraction_description</th>\n",
       "      <th>set_fine_amount</th>\n",
       "      <th>time_of_infraction</th>\n",
       "      <th>location1</th>\n",
       "      <th>location2</th>\n",
       "      <th>location3</th>\n",
       "      <th>location4</th>\n",
       "      <th>province</th>\n",
       "    </tr>\n",
       "  </thead>\n",
       "  <tbody>\n",
       "    <tr>\n",
       "      <th>3410160</th>\n",
       "      <td>***43181</td>\n",
       "      <td>20220426</td>\n",
       "      <td>192</td>\n",
       "      <td>STAND SIGNED TRANSIT STOP</td>\n",
       "      <td>150</td>\n",
       "      <td>1928</td>\n",
       "      <td>NR</td>\n",
       "      <td>5351 YONGE ST</td>\n",
       "      <td>NaN</td>\n",
       "      <td>NaN</td>\n",
       "      <td>ON</td>\n",
       "    </tr>\n",
       "    <tr>\n",
       "      <th>1257324</th>\n",
       "      <td>***98183</td>\n",
       "      <td>20201122</td>\n",
       "      <td>320</td>\n",
       "      <td>PARK NON-BUS-BUS PK ZNE DY/TM</td>\n",
       "      <td>150</td>\n",
       "      <td>1228</td>\n",
       "      <td>NR</td>\n",
       "      <td>244 VICTORIA ST</td>\n",
       "      <td>NaN</td>\n",
       "      <td>NaN</td>\n",
       "      <td>ON</td>\n",
       "    </tr>\n",
       "    <tr>\n",
       "      <th>2701432</th>\n",
       "      <td>***32539</td>\n",
       "      <td>20211123</td>\n",
       "      <td>207</td>\n",
       "      <td>PARK MACHINE-REQD FEE NOT PAID</td>\n",
       "      <td>30</td>\n",
       "      <td>1317</td>\n",
       "      <td>NR</td>\n",
       "      <td>76 RONCESVALLES AVE</td>\n",
       "      <td>NaN</td>\n",
       "      <td>NaN</td>\n",
       "      <td>ON</td>\n",
       "    </tr>\n",
       "    <tr>\n",
       "      <th>429828</th>\n",
       "      <td>***82108</td>\n",
       "      <td>20200311</td>\n",
       "      <td>415</td>\n",
       "      <td>PARK COMMERC LOAD ZONE NOT LDG</td>\n",
       "      <td>40</td>\n",
       "      <td>1231</td>\n",
       "      <td>OPP</td>\n",
       "      <td>2 SNOOKER ST</td>\n",
       "      <td>NaN</td>\n",
       "      <td>NaN</td>\n",
       "      <td>ON</td>\n",
       "    </tr>\n",
       "    <tr>\n",
       "      <th>1803075</th>\n",
       "      <td>***07923</td>\n",
       "      <td>20210614</td>\n",
       "      <td>5</td>\n",
       "      <td>PARK-SIGNED HWY-PROHIBIT DY/TM</td>\n",
       "      <td>50</td>\n",
       "      <td>1359</td>\n",
       "      <td>S/S</td>\n",
       "      <td>BASIN ST</td>\n",
       "      <td>E/O</td>\n",
       "      <td>BOUCHETTE ST</td>\n",
       "      <td>ON</td>\n",
       "    </tr>\n",
       "  </tbody>\n",
       "</table>\n",
       "</div>"
      ],
      "text/plain": [
       "        tag_number_masked  date_of_infraction  infraction_code  \\\n",
       "3410160          ***43181            20220426              192   \n",
       "1257324          ***98183            20201122              320   \n",
       "2701432          ***32539            20211123              207   \n",
       "429828           ***82108            20200311              415   \n",
       "1803075          ***07923            20210614                5   \n",
       "\n",
       "                 infraction_description  set_fine_amount time_of_infraction  \\\n",
       "3410160       STAND SIGNED TRANSIT STOP              150               1928   \n",
       "1257324   PARK NON-BUS-BUS PK ZNE DY/TM              150               1228   \n",
       "2701432  PARK MACHINE-REQD FEE NOT PAID               30               1317   \n",
       "429828   PARK COMMERC LOAD ZONE NOT LDG               40               1231   \n",
       "1803075  PARK-SIGNED HWY-PROHIBIT DY/TM               50               1359   \n",
       "\n",
       "        location1            location2 location3     location4 province  \n",
       "3410160        NR        5351 YONGE ST       NaN           NaN       ON  \n",
       "1257324        NR      244 VICTORIA ST       NaN           NaN       ON  \n",
       "2701432        NR  76 RONCESVALLES AVE       NaN           NaN       ON  \n",
       "429828        OPP         2 SNOOKER ST       NaN           NaN       ON  \n",
       "1803075       S/S             BASIN ST       E/O  BOUCHETTE ST       ON  "
      ]
     },
     "execution_count": 6,
     "metadata": {},
     "output_type": "execute_result"
    }
   ],
   "source": [
    "# check a random sample\n",
    "parking_df.sample(5)"
   ]
  },
  {
   "cell_type": "code",
   "execution_count": 7,
   "id": "c9f378c0",
   "metadata": {
    "scrolled": true
   },
   "outputs": [
    {
     "data": {
      "text/html": [
       "<div>\n",
       "<style scoped>\n",
       "    .dataframe tbody tr th:only-of-type {\n",
       "        vertical-align: middle;\n",
       "    }\n",
       "\n",
       "    .dataframe tbody tr th {\n",
       "        vertical-align: top;\n",
       "    }\n",
       "\n",
       "    .dataframe thead th {\n",
       "        text-align: right;\n",
       "    }\n",
       "</style>\n",
       "<table border=\"1\" class=\"dataframe\">\n",
       "  <thead>\n",
       "    <tr style=\"text-align: right;\">\n",
       "      <th></th>\n",
       "      <th>tag_number_masked</th>\n",
       "      <th>date_of_infraction</th>\n",
       "      <th>infraction_code</th>\n",
       "      <th>infraction_description</th>\n",
       "      <th>set_fine_amount</th>\n",
       "      <th>time_of_infraction</th>\n",
       "      <th>location1</th>\n",
       "      <th>location2</th>\n",
       "      <th>location3</th>\n",
       "      <th>location4</th>\n",
       "      <th>province</th>\n",
       "    </tr>\n",
       "  </thead>\n",
       "  <tbody>\n",
       "    <tr>\n",
       "      <th>4635366</th>\n",
       "      <td>***17631</td>\n",
       "      <td>20221212</td>\n",
       "      <td>336</td>\n",
       "      <td>PARK-FAIL TO DISPLAY PERMIT</td>\n",
       "      <td>30</td>\n",
       "      <td>0946</td>\n",
       "      <td>NR</td>\n",
       "      <td>141 QUEENSDALE AVE</td>\n",
       "      <td>NaN</td>\n",
       "      <td>NaN</td>\n",
       "      <td>ON</td>\n",
       "    </tr>\n",
       "    <tr>\n",
       "      <th>4635367</th>\n",
       "      <td>***52578</td>\n",
       "      <td>20221212</td>\n",
       "      <td>312</td>\n",
       "      <td>PARKING MACH-NOT USED/NO FEE</td>\n",
       "      <td>75</td>\n",
       "      <td>0947</td>\n",
       "      <td>AT</td>\n",
       "      <td>465 HURON STREET</td>\n",
       "      <td>NaN</td>\n",
       "      <td>NaN</td>\n",
       "      <td>ON</td>\n",
       "    </tr>\n",
       "    <tr>\n",
       "      <th>4635368</th>\n",
       "      <td>***52962</td>\n",
       "      <td>20221212</td>\n",
       "      <td>4</td>\n",
       "      <td>PARK ON MUNICIPAL PROPERTY</td>\n",
       "      <td>30</td>\n",
       "      <td>0947</td>\n",
       "      <td>AT</td>\n",
       "      <td>100 GRANGEWAY AVE.</td>\n",
       "      <td>NaN</td>\n",
       "      <td>NaN</td>\n",
       "      <td>ON</td>\n",
       "    </tr>\n",
       "    <tr>\n",
       "      <th>4635369</th>\n",
       "      <td>***57475</td>\n",
       "      <td>20221212</td>\n",
       "      <td>29</td>\n",
       "      <td>PARK PROHIBITED TIME NO PERMIT</td>\n",
       "      <td>30</td>\n",
       "      <td>0947</td>\n",
       "      <td>NR</td>\n",
       "      <td>199 NIAGARA ST</td>\n",
       "      <td>NaN</td>\n",
       "      <td>NaN</td>\n",
       "      <td>ON</td>\n",
       "    </tr>\n",
       "    <tr>\n",
       "      <th>4635370</th>\n",
       "      <td>***57476</td>\n",
       "      <td>20221212</td>\n",
       "      <td>29</td>\n",
       "      <td>PARK PROHIBITED TIME NO PERMIT</td>\n",
       "      <td>30</td>\n",
       "      <td>0947</td>\n",
       "      <td>NR</td>\n",
       "      <td>199 NIAGARA ST</td>\n",
       "      <td>NaN</td>\n",
       "      <td>NaN</td>\n",
       "      <td>ON</td>\n",
       "    </tr>\n",
       "  </tbody>\n",
       "</table>\n",
       "</div>"
      ],
      "text/plain": [
       "        tag_number_masked  date_of_infraction  infraction_code  \\\n",
       "4635366          ***17631            20221212              336   \n",
       "4635367          ***52578            20221212              312   \n",
       "4635368          ***52962            20221212                4   \n",
       "4635369          ***57475            20221212               29   \n",
       "4635370          ***57476            20221212               29   \n",
       "\n",
       "                 infraction_description  set_fine_amount time_of_infraction  \\\n",
       "4635366     PARK-FAIL TO DISPLAY PERMIT               30               0946   \n",
       "4635367    PARKING MACH-NOT USED/NO FEE               75               0947   \n",
       "4635368      PARK ON MUNICIPAL PROPERTY               30               0947   \n",
       "4635369  PARK PROHIBITED TIME NO PERMIT               30               0947   \n",
       "4635370  PARK PROHIBITED TIME NO PERMIT               30               0947   \n",
       "\n",
       "        location1           location2 location3 location4 province  \n",
       "4635366        NR  141 QUEENSDALE AVE       NaN       NaN       ON  \n",
       "4635367        AT    465 HURON STREET       NaN       NaN       ON  \n",
       "4635368        AT  100 GRANGEWAY AVE.       NaN       NaN       ON  \n",
       "4635369        NR      199 NIAGARA ST       NaN       NaN       ON  \n",
       "4635370        NR      199 NIAGARA ST       NaN       NaN       ON  "
      ]
     },
     "execution_count": 7,
     "metadata": {},
     "output_type": "execute_result"
    }
   ],
   "source": [
    "# check last rows\n",
    "parking_df.tail()"
   ]
  },
  {
   "cell_type": "markdown",
   "id": "fc19376d",
   "metadata": {},
   "source": [
    "## Part 2 - Basic Cleaning and EDA"
   ]
  },
  {
   "cell_type": "code",
   "execution_count": 8,
   "id": "4b2c22ff",
   "metadata": {},
   "outputs": [
    {
     "data": {
      "text/plain": [
       "(4635371, 11)"
      ]
     },
     "execution_count": 8,
     "metadata": {},
     "output_type": "execute_result"
    }
   ],
   "source": [
    "# check DataFrame shape\n",
    "parking_df.shape"
   ]
  },
  {
   "cell_type": "markdown",
   "id": "eb0d6b14",
   "metadata": {},
   "source": [
    "The DataFrame has 4,635,371 rows and 11 columns."
   ]
  },
  {
   "cell_type": "code",
   "execution_count": 9,
   "id": "ae52608c",
   "metadata": {
    "scrolled": false
   },
   "outputs": [
    {
     "name": "stdout",
     "output_type": "stream",
     "text": [
      "<class 'pandas.core.frame.DataFrame'>\n",
      "RangeIndex: 4635371 entries, 0 to 4635370\n",
      "Data columns (total 11 columns):\n",
      " #   Column                  Dtype \n",
      "---  ------                  ----- \n",
      " 0   tag_number_masked       object\n",
      " 1   date_of_infraction      int64 \n",
      " 2   infraction_code         int64 \n",
      " 3   infraction_description  object\n",
      " 4   set_fine_amount         int64 \n",
      " 5   time_of_infraction      object\n",
      " 6   location1               object\n",
      " 7   location2               object\n",
      " 8   location3               object\n",
      " 9   location4               object\n",
      " 10  province                object\n",
      "dtypes: int64(3), object(8)\n",
      "memory usage: 389.0+ MB\n"
     ]
    }
   ],
   "source": [
    "# check data types and columns\n",
    "parking_df.info()"
   ]
  },
  {
   "cell_type": "markdown",
   "id": "8c1d6ea2",
   "metadata": {},
   "source": [
    "We have object and int64 columns. `Date_of_infraction` is int64 and needs to be converted to Datetime for use in the analysis. `Time_of_infraction` is an object and also requires conversion to Datetime. Additionally, since the dataset is large, we can convert `set_fine_amount` and `infraction_code` to int32 to use less RAM."
   ]
  },
  {
   "cell_type": "code",
   "execution_count": 10,
   "id": "f802d44e",
   "metadata": {},
   "outputs": [],
   "source": [
    "# convert int64 to int 32\n",
    "parking_df['set_fine_amount'] = parking_df['set_fine_amount'].astype('int32')"
   ]
  },
  {
   "cell_type": "code",
   "execution_count": 11,
   "id": "cee33687",
   "metadata": {},
   "outputs": [],
   "source": [
    "# convert int64 to int 32\n",
    "parking_df['infraction_code'] = parking_df['infraction_code'].astype('int32')"
   ]
  },
  {
   "cell_type": "code",
   "execution_count": 12,
   "id": "9676df18",
   "metadata": {
    "scrolled": true
   },
   "outputs": [
    {
     "name": "stdout",
     "output_type": "stream",
     "text": [
      "<class 'pandas.core.frame.DataFrame'>\n",
      "RangeIndex: 4635371 entries, 0 to 4635370\n",
      "Data columns (total 11 columns):\n",
      " #   Column                  Dtype \n",
      "---  ------                  ----- \n",
      " 0   tag_number_masked       object\n",
      " 1   date_of_infraction      int64 \n",
      " 2   infraction_code         int32 \n",
      " 3   infraction_description  object\n",
      " 4   set_fine_amount         int32 \n",
      " 5   time_of_infraction      object\n",
      " 6   location1               object\n",
      " 7   location2               object\n",
      " 8   location3               object\n",
      " 9   location4               object\n",
      " 10  province                object\n",
      "dtypes: int32(2), int64(1), object(8)\n",
      "memory usage: 353.7+ MB\n"
     ]
    }
   ],
   "source": [
    "# check\n",
    "parking_df.info()"
   ]
  },
  {
   "cell_type": "code",
   "execution_count": 13,
   "id": "e99660f9",
   "metadata": {},
   "outputs": [
    {
     "data": {
      "text/html": [
       "<div>\n",
       "<style scoped>\n",
       "    .dataframe tbody tr th:only-of-type {\n",
       "        vertical-align: middle;\n",
       "    }\n",
       "\n",
       "    .dataframe tbody tr th {\n",
       "        vertical-align: top;\n",
       "    }\n",
       "\n",
       "    .dataframe thead th {\n",
       "        text-align: right;\n",
       "    }\n",
       "</style>\n",
       "<table border=\"1\" class=\"dataframe\">\n",
       "  <thead>\n",
       "    <tr style=\"text-align: right;\">\n",
       "      <th></th>\n",
       "      <th>tag_number_masked</th>\n",
       "      <th>date_of_infraction</th>\n",
       "      <th>infraction_code</th>\n",
       "      <th>infraction_description</th>\n",
       "      <th>set_fine_amount</th>\n",
       "      <th>time_of_infraction</th>\n",
       "      <th>location1</th>\n",
       "      <th>location2</th>\n",
       "      <th>location3</th>\n",
       "      <th>location4</th>\n",
       "      <th>province</th>\n",
       "    </tr>\n",
       "  </thead>\n",
       "  <tbody>\n",
       "    <tr>\n",
       "      <th>0</th>\n",
       "      <td>***60020</td>\n",
       "      <td>20200101</td>\n",
       "      <td>3</td>\n",
       "      <td>PARK ON PRIVATE PROPERTY</td>\n",
       "      <td>30</td>\n",
       "      <td>0001</td>\n",
       "      <td>NaN</td>\n",
       "      <td>4700 JANE ST</td>\n",
       "      <td>NaN</td>\n",
       "      <td>NaN</td>\n",
       "      <td>SK</td>\n",
       "    </tr>\n",
       "    <tr>\n",
       "      <th>1</th>\n",
       "      <td>***46473</td>\n",
       "      <td>20200101</td>\n",
       "      <td>29</td>\n",
       "      <td>PARK PROHIBITED TIME NO PERMIT</td>\n",
       "      <td>30</td>\n",
       "      <td>0002</td>\n",
       "      <td>OPP</td>\n",
       "      <td>573 CLENDENAN AVE</td>\n",
       "      <td>NaN</td>\n",
       "      <td>NaN</td>\n",
       "      <td>ON</td>\n",
       "    </tr>\n",
       "    <tr>\n",
       "      <th>2</th>\n",
       "      <td>***46474</td>\n",
       "      <td>20200101</td>\n",
       "      <td>29</td>\n",
       "      <td>PARK PROHIBITED TIME NO PERMIT</td>\n",
       "      <td>30</td>\n",
       "      <td>0002</td>\n",
       "      <td>NR</td>\n",
       "      <td>573 CLENDENAN AVE</td>\n",
       "      <td>NaN</td>\n",
       "      <td>NaN</td>\n",
       "      <td>ON</td>\n",
       "    </tr>\n",
       "    <tr>\n",
       "      <th>3</th>\n",
       "      <td>***46475</td>\n",
       "      <td>20200101</td>\n",
       "      <td>29</td>\n",
       "      <td>PARK PROHIBITED TIME NO PERMIT</td>\n",
       "      <td>30</td>\n",
       "      <td>0004</td>\n",
       "      <td>NR</td>\n",
       "      <td>21 MARIA ST</td>\n",
       "      <td>NaN</td>\n",
       "      <td>NaN</td>\n",
       "      <td>ON</td>\n",
       "    </tr>\n",
       "    <tr>\n",
       "      <th>4</th>\n",
       "      <td>***46674</td>\n",
       "      <td>20200101</td>\n",
       "      <td>29</td>\n",
       "      <td>PARK PROHIBITED TIME NO PERMIT</td>\n",
       "      <td>30</td>\n",
       "      <td>0004</td>\n",
       "      <td>NR</td>\n",
       "      <td>164 GLENHOLME AVE</td>\n",
       "      <td>NaN</td>\n",
       "      <td>NaN</td>\n",
       "      <td>ON</td>\n",
       "    </tr>\n",
       "  </tbody>\n",
       "</table>\n",
       "</div>"
      ],
      "text/plain": [
       "  tag_number_masked  date_of_infraction  infraction_code  \\\n",
       "0          ***60020            20200101                3   \n",
       "1          ***46473            20200101               29   \n",
       "2          ***46474            20200101               29   \n",
       "3          ***46475            20200101               29   \n",
       "4          ***46674            20200101               29   \n",
       "\n",
       "           infraction_description  set_fine_amount time_of_infraction  \\\n",
       "0        PARK ON PRIVATE PROPERTY               30               0001   \n",
       "1  PARK PROHIBITED TIME NO PERMIT               30               0002   \n",
       "2  PARK PROHIBITED TIME NO PERMIT               30               0002   \n",
       "3  PARK PROHIBITED TIME NO PERMIT               30               0004   \n",
       "4  PARK PROHIBITED TIME NO PERMIT               30               0004   \n",
       "\n",
       "  location1          location2 location3 location4 province  \n",
       "0       NaN       4700 JANE ST       NaN       NaN       SK  \n",
       "1       OPP  573 CLENDENAN AVE       NaN       NaN       ON  \n",
       "2        NR  573 CLENDENAN AVE       NaN       NaN       ON  \n",
       "3        NR        21 MARIA ST       NaN       NaN       ON  \n",
       "4        NR  164 GLENHOLME AVE       NaN       NaN       ON  "
      ]
     },
     "execution_count": 13,
     "metadata": {},
     "output_type": "execute_result"
    }
   ],
   "source": [
    "# check\n",
    "parking_df.head()"
   ]
  },
  {
   "cell_type": "code",
   "execution_count": 14,
   "id": "91501291",
   "metadata": {},
   "outputs": [],
   "source": [
    "# convert date_of_infraction to Datetime\n",
    "parking_df['date_of_infraction'] = pd.to_datetime(parking_df['date_of_infraction'], format='%Y%m%d')"
   ]
  },
  {
   "cell_type": "code",
   "execution_count": 15,
   "id": "1a16ee72",
   "metadata": {},
   "outputs": [
    {
     "name": "stdout",
     "output_type": "stream",
     "text": [
      "<class 'pandas.core.frame.DataFrame'>\n",
      "RangeIndex: 4635371 entries, 0 to 4635370\n",
      "Data columns (total 11 columns):\n",
      " #   Column                  Dtype         \n",
      "---  ------                  -----         \n",
      " 0   tag_number_masked       object        \n",
      " 1   date_of_infraction      datetime64[ns]\n",
      " 2   infraction_code         int32         \n",
      " 3   infraction_description  object        \n",
      " 4   set_fine_amount         int32         \n",
      " 5   time_of_infraction      object        \n",
      " 6   location1               object        \n",
      " 7   location2               object        \n",
      " 8   location3               object        \n",
      " 9   location4               object        \n",
      " 10  province                object        \n",
      "dtypes: datetime64[ns](1), int32(2), object(8)\n",
      "memory usage: 353.7+ MB\n"
     ]
    }
   ],
   "source": [
    "# check\n",
    "parking_df.info()"
   ]
  },
  {
   "cell_type": "code",
   "execution_count": 16,
   "id": "76813997",
   "metadata": {},
   "outputs": [
    {
     "data": {
      "text/html": [
       "<div>\n",
       "<style scoped>\n",
       "    .dataframe tbody tr th:only-of-type {\n",
       "        vertical-align: middle;\n",
       "    }\n",
       "\n",
       "    .dataframe tbody tr th {\n",
       "        vertical-align: top;\n",
       "    }\n",
       "\n",
       "    .dataframe thead th {\n",
       "        text-align: right;\n",
       "    }\n",
       "</style>\n",
       "<table border=\"1\" class=\"dataframe\">\n",
       "  <thead>\n",
       "    <tr style=\"text-align: right;\">\n",
       "      <th></th>\n",
       "      <th>tag_number_masked</th>\n",
       "      <th>date_of_infraction</th>\n",
       "      <th>infraction_code</th>\n",
       "      <th>infraction_description</th>\n",
       "      <th>set_fine_amount</th>\n",
       "      <th>time_of_infraction</th>\n",
       "      <th>location1</th>\n",
       "      <th>location2</th>\n",
       "      <th>location3</th>\n",
       "      <th>location4</th>\n",
       "      <th>province</th>\n",
       "    </tr>\n",
       "  </thead>\n",
       "  <tbody>\n",
       "    <tr>\n",
       "      <th>0</th>\n",
       "      <td>***60020</td>\n",
       "      <td>2020-01-01</td>\n",
       "      <td>3</td>\n",
       "      <td>PARK ON PRIVATE PROPERTY</td>\n",
       "      <td>30</td>\n",
       "      <td>0001</td>\n",
       "      <td>NaN</td>\n",
       "      <td>4700 JANE ST</td>\n",
       "      <td>NaN</td>\n",
       "      <td>NaN</td>\n",
       "      <td>SK</td>\n",
       "    </tr>\n",
       "    <tr>\n",
       "      <th>1</th>\n",
       "      <td>***46473</td>\n",
       "      <td>2020-01-01</td>\n",
       "      <td>29</td>\n",
       "      <td>PARK PROHIBITED TIME NO PERMIT</td>\n",
       "      <td>30</td>\n",
       "      <td>0002</td>\n",
       "      <td>OPP</td>\n",
       "      <td>573 CLENDENAN AVE</td>\n",
       "      <td>NaN</td>\n",
       "      <td>NaN</td>\n",
       "      <td>ON</td>\n",
       "    </tr>\n",
       "    <tr>\n",
       "      <th>2</th>\n",
       "      <td>***46474</td>\n",
       "      <td>2020-01-01</td>\n",
       "      <td>29</td>\n",
       "      <td>PARK PROHIBITED TIME NO PERMIT</td>\n",
       "      <td>30</td>\n",
       "      <td>0002</td>\n",
       "      <td>NR</td>\n",
       "      <td>573 CLENDENAN AVE</td>\n",
       "      <td>NaN</td>\n",
       "      <td>NaN</td>\n",
       "      <td>ON</td>\n",
       "    </tr>\n",
       "    <tr>\n",
       "      <th>3</th>\n",
       "      <td>***46475</td>\n",
       "      <td>2020-01-01</td>\n",
       "      <td>29</td>\n",
       "      <td>PARK PROHIBITED TIME NO PERMIT</td>\n",
       "      <td>30</td>\n",
       "      <td>0004</td>\n",
       "      <td>NR</td>\n",
       "      <td>21 MARIA ST</td>\n",
       "      <td>NaN</td>\n",
       "      <td>NaN</td>\n",
       "      <td>ON</td>\n",
       "    </tr>\n",
       "    <tr>\n",
       "      <th>4</th>\n",
       "      <td>***46674</td>\n",
       "      <td>2020-01-01</td>\n",
       "      <td>29</td>\n",
       "      <td>PARK PROHIBITED TIME NO PERMIT</td>\n",
       "      <td>30</td>\n",
       "      <td>0004</td>\n",
       "      <td>NR</td>\n",
       "      <td>164 GLENHOLME AVE</td>\n",
       "      <td>NaN</td>\n",
       "      <td>NaN</td>\n",
       "      <td>ON</td>\n",
       "    </tr>\n",
       "  </tbody>\n",
       "</table>\n",
       "</div>"
      ],
      "text/plain": [
       "  tag_number_masked date_of_infraction  infraction_code  \\\n",
       "0          ***60020         2020-01-01                3   \n",
       "1          ***46473         2020-01-01               29   \n",
       "2          ***46474         2020-01-01               29   \n",
       "3          ***46475         2020-01-01               29   \n",
       "4          ***46674         2020-01-01               29   \n",
       "\n",
       "           infraction_description  set_fine_amount time_of_infraction  \\\n",
       "0        PARK ON PRIVATE PROPERTY               30               0001   \n",
       "1  PARK PROHIBITED TIME NO PERMIT               30               0002   \n",
       "2  PARK PROHIBITED TIME NO PERMIT               30               0002   \n",
       "3  PARK PROHIBITED TIME NO PERMIT               30               0004   \n",
       "4  PARK PROHIBITED TIME NO PERMIT               30               0004   \n",
       "\n",
       "  location1          location2 location3 location4 province  \n",
       "0       NaN       4700 JANE ST       NaN       NaN       SK  \n",
       "1       OPP  573 CLENDENAN AVE       NaN       NaN       ON  \n",
       "2        NR  573 CLENDENAN AVE       NaN       NaN       ON  \n",
       "3        NR        21 MARIA ST       NaN       NaN       ON  \n",
       "4        NR  164 GLENHOLME AVE       NaN       NaN       ON  "
      ]
     },
     "execution_count": 16,
     "metadata": {},
     "output_type": "execute_result"
    }
   ],
   "source": [
    "# check\n",
    "parking_df.head()"
   ]
  },
  {
   "cell_type": "code",
   "execution_count": 17,
   "id": "8b2353a1",
   "metadata": {
    "scrolled": true
   },
   "outputs": [
    {
     "data": {
      "text/plain": [
       "array(['0001', '0002', '0004', ..., '2400', '2838', '1197'], dtype=object)"
      ]
     },
     "execution_count": 17,
     "metadata": {},
     "output_type": "execute_result"
    }
   ],
   "source": [
    "# check time_of_infraction column\n",
    "parking_df['time_of_infraction'].unique()"
   ]
  },
  {
   "cell_type": "markdown",
   "id": "e0a78886",
   "metadata": {},
   "source": [
    "There seems to be some issue with the data, after 2400 there are two more values that are most probably typos.\n",
    "\n",
    "Check those two rows."
   ]
  },
  {
   "cell_type": "code",
   "execution_count": 18,
   "id": "d495dee7",
   "metadata": {
    "scrolled": true
   },
   "outputs": [
    {
     "name": "stdout",
     "output_type": "stream",
     "text": [
      "        tag_number_masked date_of_infraction  infraction_code  \\\n",
      "3179563          ***22517         2022-03-15                3   \n",
      "\n",
      "           infraction_description  set_fine_amount time_of_infraction  \\\n",
      "3179563  PARK ON PRIVATE PROPERTY               30               2838   \n",
      "\n",
      "        location1          location2 location3 location4 province  \n",
      "3179563       605  FINCH AVENUE WEST       NaN       NaN       ON  \n"
     ]
    }
   ],
   "source": [
    "specific_value = '2838' \n",
    "result = parking_df[parking_df['time_of_infraction'] == specific_value]\n",
    "print(result)"
   ]
  },
  {
   "cell_type": "code",
   "execution_count": 19,
   "id": "1e749cfa",
   "metadata": {},
   "outputs": [
    {
     "name": "stdout",
     "output_type": "stream",
     "text": [
      "        tag_number_masked date_of_infraction  infraction_code  \\\n",
      "3717727          ***19297         2022-06-21              312   \n",
      "\n",
      "               infraction_description  set_fine_amount time_of_infraction  \\\n",
      "3717727  PARKING MACH-NOT USED/NO FEE               75               1197   \n",
      "\n",
      "        location1         location2 location3 location4 province  \n",
      "3717727       NaN  10 KINGSDALE AVE       NaN       NaN       ON  \n"
     ]
    }
   ],
   "source": [
    "specific_value2 = '1197' \n",
    "result2 = parking_df[parking_df['time_of_infraction'] == specific_value2]\n",
    "print(result2)"
   ]
  },
  {
   "cell_type": "markdown",
   "id": "3d14416a",
   "metadata": {},
   "source": [
    "Drop those two rows. Dropping two rows will not affect our result since it's only 2 rows in over 4 mln rows. (tiny percentage)."
   ]
  },
  {
   "cell_type": "code",
   "execution_count": 20,
   "id": "c332be7a",
   "metadata": {},
   "outputs": [],
   "source": [
    "parking_df = parking_df.drop(parking_df.index[3179563])"
   ]
  },
  {
   "cell_type": "code",
   "execution_count": 21,
   "id": "91db3487",
   "metadata": {},
   "outputs": [],
   "source": [
    "parking_df = parking_df.drop(parking_df.index[3717727])"
   ]
  },
  {
   "cell_type": "code",
   "execution_count": 22,
   "id": "5837a420",
   "metadata": {},
   "outputs": [
    {
     "data": {
      "text/plain": [
       "array(['0001', '0002', '0004', ..., '0090', '2400', '1197'], dtype=object)"
      ]
     },
     "execution_count": 22,
     "metadata": {},
     "output_type": "execute_result"
    }
   ],
   "source": [
    "# check time_of_infraction column\n",
    "parking_df['time_of_infraction'].unique()"
   ]
  },
  {
   "cell_type": "code",
   "execution_count": 23,
   "id": "4b08e9fd",
   "metadata": {},
   "outputs": [
    {
     "data": {
      "text/plain": [
       "(4635369, 11)"
      ]
     },
     "execution_count": 23,
     "metadata": {},
     "output_type": "execute_result"
    }
   ],
   "source": [
    "# check\n",
    "parking_df.shape"
   ]
  },
  {
   "cell_type": "markdown",
   "id": "4ce83755",
   "metadata": {},
   "source": [
    "There are more values in the dataset that do not correspond to the proper time format ('0090', '1197')."
   ]
  },
  {
   "cell_type": "markdown",
   "id": "acdf9c99",
   "metadata": {},
   "source": [
    "Also, still getting an error while converting `time_of_infraction` to Datetime data type. \n",
    "\n",
    "tried:\n",
    "parking_df['time_of_infraction'] = pd.to_datetime(parking_df['time_of_infraction'], format='%H%M', errors='coerce')\n",
    "\n",
    "getting a parsing error, added errors='coerce' argument to handle parsing errors by setting them to NaT (Not a Timestamp) instead of raising an error. Still it doesn't convert to a proper format.\n",
    "\n",
    "\n",
    "**`time_of_infraction` column needs to be inspected further.**"
   ]
  },
  {
   "cell_type": "markdown",
   "id": "5ea0edd6",
   "metadata": {},
   "source": [
    "Check missing values and calculate percentage of missing values."
   ]
  },
  {
   "cell_type": "code",
   "execution_count": 24,
   "id": "ffa6101a",
   "metadata": {
    "scrolled": true
   },
   "outputs": [
    {
     "data": {
      "text/plain": [
       "tag_number_masked               0\n",
       "date_of_infraction              0\n",
       "infraction_code                 0\n",
       "infraction_description          0\n",
       "set_fine_amount                 0\n",
       "time_of_infraction           3136\n",
       "location1                  599577\n",
       "location2                     310\n",
       "location3                 4262932\n",
       "location4                 4262294\n",
       "province                        0\n",
       "dtype: int64"
      ]
     },
     "execution_count": 24,
     "metadata": {},
     "output_type": "execute_result"
    }
   ],
   "source": [
    "parking_df.isna().sum()"
   ]
  },
  {
   "cell_type": "code",
   "execution_count": 25,
   "id": "28fa4cb1",
   "metadata": {
    "scrolled": true
   },
   "outputs": [
    {
     "data": {
      "text/plain": [
       "0.06765372940104661"
      ]
     },
     "execution_count": 25,
     "metadata": {},
     "output_type": "execute_result"
    }
   ],
   "source": [
    "parking_df['time_of_infraction'].isna().sum()/parking_df.shape[0]*100"
   ]
  },
  {
   "cell_type": "code",
   "execution_count": 26,
   "id": "57d05806",
   "metadata": {
    "scrolled": true
   },
   "outputs": [
    {
     "data": {
      "text/plain": [
       "0.00668770922012897"
      ]
     },
     "execution_count": 26,
     "metadata": {},
     "output_type": "execute_result"
    }
   ],
   "source": [
    "parking_df['location2'].isna().sum()/parking_df.shape[0]*100"
   ]
  },
  {
   "cell_type": "markdown",
   "id": "9f277cda",
   "metadata": {},
   "source": [
    "For both columns, missing values account for a very small percentage. One possible reason for the `time_of_infraction` conversion error could be the presence of missing values. Missing values in both columns should be imputed.\n",
    "\n",
    "`Location1` and `Location3` are codes used to denote proximity and are optional. `Location4` provides an additional street address for cases where the street number is missing in `Location2`. `Location4` is also optional.\n",
    "\n",
    "TO DO: Further inspection of the location columns is necessary to determine whether some of them can be dropped or if they should be concatenated with other location columns."
   ]
  },
  {
   "cell_type": "markdown",
   "id": "bf381938",
   "metadata": {},
   "source": [
    "Check distinct `location2` values."
   ]
  },
  {
   "cell_type": "code",
   "execution_count": 27,
   "id": "df511fba",
   "metadata": {},
   "outputs": [
    {
     "data": {
      "text/plain": [
       "295129"
      ]
     },
     "execution_count": 27,
     "metadata": {},
     "output_type": "execute_result"
    }
   ],
   "source": [
    "parking_df[\"location2\"].nunique()"
   ]
  },
  {
   "cell_type": "markdown",
   "id": "65a8f237",
   "metadata": {},
   "source": [
    "TO DO: Inspect location2 addresses to assess whether we can group them by proximity and reduce the number of distinct values."
   ]
  },
  {
   "cell_type": "markdown",
   "id": "b2dfec22",
   "metadata": {},
   "source": [
    "Check distinct `infraction_description` values."
   ]
  },
  {
   "cell_type": "code",
   "execution_count": 28,
   "id": "6b588891",
   "metadata": {},
   "outputs": [
    {
     "data": {
      "text/plain": [
       "array(['PARK ON PRIVATE PROPERTY', 'PARK PROHIBITED TIME NO PERMIT',\n",
       "       'PARK-VEH. W/O VALID ONT PLATE', 'STAND VEH.-PROHIBIT TIME/DAY',\n",
       "       'PARK ON MUNICIPAL PROPERTY', 'STOP-SIGNED HWY-PROHIBIT TM/DY',\n",
       "       'PARK-SIGNED HWY-PROHIBIT DY/TM', 'PARK-FAIL TO DISPLAY PERMIT',\n",
       "       'FAIL TO PARK/STOP PARALL. RGHT', 'PARK-OBSTRUCT (DRWAY/LANEWAY)',\n",
       "       'PARK IN A FIRE ROUTE', 'STAND NON-TAXI IN SIGNED STAND',\n",
       "       'PARK ONSTRT ACCESSIBLE NO PRMT', 'PARK CONTRARY POSTED CONDITION',\n",
       "       'PARK-SIGNED HWY-PUBLIC LANE', 'PARK-WITHIN 3M OF FIRE HYDRANT',\n",
       "       'STND ACCESSIBLE LOAD NO PERMIT', 'STND ACCESSIBLE LOAD NOT DRP/O',\n",
       "       'STAND SIGNED TRANSIT STOP', 'PARK-N.YORK 2AM-6AM DEC1-MAR31',\n",
       "       'PARK - LONGER THAN 3 HOURS', 'STOP-(ON/OVER) (SIDEWK/FTPATH)',\n",
       "       'PARK-WITHIN 9M INTERSECT ROAD', 'PARK - ON BOULEVARD',\n",
       "       'PARK IN ACCESSIBLE NO PERMIT', 'STAND IN ACCESSIBLE NO PERMIT',\n",
       "       'PARK-W/O VALID NON-ONT PLATE', 'FAIL TO PARK/STOP PARALL. CURB',\n",
       "       'PARK - BOULEVD NO VALID PLATES', 'PARK-(FRNT/60 CM) DRWAY/LANEWY',\n",
       "       'STOP VEH OTR THN BCYCL-BYCL LN', 'STAND VEH.-PSGR LD ZN LD/UNLD',\n",
       "       'PARKING MACH-NOT USED/NO FEE', 'PARK - BETWEEN ROAD & SIDEWALK',\n",
       "       'STOP-SIGNED HIGHWAY-RUSH HOUR', 'PARK - NOT WITHIN PERIOD',\n",
       "       'STOP NON-BICYCLE IN CYCLE TRCK', 'STOP SIDE STOPPED/PARKED VEH',\n",
       "       'PARK COMMERC LOAD ZONE NOT LDG', 'STND ONSTRT ACCESSIBLE NO PRMT',\n",
       "       'PARK-30.5M APPROACH TO CRSSWLK', 'PARK-SIGNED HWY-EXC PERMT TIME',\n",
       "       'PARK HEAVY (TRUCK/VEH.) TM/DY', 'PARK MACHINE-REQD FEE NOT PAID',\n",
       "       'STOP-NON-SCHL BUS IN SCHL LDZN', 'STOP - ON BRIDGE',\n",
       "       'PARK FAIL TO DEPOSIT FEE METER', 'PARK TAXI FOR HIRE-UNAUTH LOC',\n",
       "       'STOP-WITHIN (INTERSCTN/PED X)', 'STOP-ROAD SIDE-STOP/PARK VEH.',\n",
       "       'PARK VEHICLE WHILE NOT IN PARK', 'PARK NON-BUS-BUS PK ZNE DY/TM',\n",
       "       'PARK-30.5M SIGNALIZED INTERSCT', 'STOP - ON CENTRE STRIP',\n",
       "       'PARK/STAND CAR-SHARE VEH.-PERM', 'PARK/STOP RGHT WHLS > 30CM CRB',\n",
       "       'PARK/STAND UNAUTH VEH. CAR SHR', 'PARK/STOP LEFT WHLS > 30CM LFT',\n",
       "       'PARK-SIGNED HWY-TURNING BASIN', 'STOP VEH.RESRVD/DESIG LN TM/DY',\n",
       "       'STOP-15M PEDESTRIAN X APPROACH', 'PARK-FAIL TO ACTIVATE MACHINE',\n",
       "       'PARK-SIGNED HWY-\"T\" INTERSECTN', 'STOP-ALONGSIDE EXCAV./OBSTR.',\n",
       "       'STAND VEH.-SIGNED HWY-RUSH HR', 'PARK-ISSUED CARD NOT DISPLAYED',\n",
       "       'PARK VEH.-COMMERCIAL LOAD ZONE', 'STND ONSTRT ACCESSIBLE NOT D/O',\n",
       "       'PARK VEH ON ST WITHOUT PERMIT', 'FAIL ANGLE PARK/STOP AT 45 DEG',\n",
       "       'PARK VEH.-WASH/GREASE/REPAIR', 'STOP BUS-SIGNED HWY-PROH DY/TM',\n",
       "       'STAND TAXI-SIGNED STD-NOT HIRE', 'PARK VEHICLE OUTSIDE OF SPACE',\n",
       "       'STOP-9 M PEDESTRIAN X BEYOND', 'STAND ACCESSIBLE NOT DROP OFF',\n",
       "       'PARK ACCESSIBLE NOT DROP OFF', 'STAND VEH.-PSGR LD ZN DAY TIME',\n",
       "       'PRK/STP LEFT WHLS CLSE TO LEFT', 'STOP-ADJACENT MID. BOUL. SIDE',\n",
       "       'PARK PRO VEH ON BICYCLE PATH', 'STOP UNAUTH VEHICLE VEND AREA',\n",
       "       'PARK MACHINE-FAIL TO ACTIVATE', 'PARK ACC NO PERMIT',\n",
       "       'PARK PRO VEH ON PEDESTRIAN WAY', 'PARK ACCESSIBLE LOAD NO PERMIT',\n",
       "       'PARK-15M OF DEAD END STREET', 'PARK LT 0.3M FROM SIDEWALK',\n",
       "       'STOP - ON MIDDLE BOULEVARD', 'PARK VEHICLE ON ROADWAY',\n",
       "       'PARK-SIGNED HWY-15M INTERSECTN', 'PARK-7.5M FIRE HALL SAME SIDE',\n",
       "       'FAIL PARK/STP NEAR RIGHT LIMIT', 'PARK VEH LNGR THAN 20 MIN',\n",
       "       'PARK MORE THAN 7DAYS NO PERMIT', 'PARK ONSTRT ACCESSIBLE NOT D/O',\n",
       "       'PARK/LEAVE CONTRARY TO SIGN', 'PARK NON-MTRCYCLE IN MTRCYC SP',\n",
       "       'PARK-HWY DRNG PROH TIMES/DAYS', 'PARK - ON FRONT YARD',\n",
       "       'STOP - BESIDE SAFETY ZONE', 'STND BUS-SIGNED HWY-PROH DY/TM',\n",
       "       'FAIL PARK/STP LEFT WHLS PARALL', 'STOP - IN UNDERPASS',\n",
       "       'STOP-WITHIN 9M OF SCHOOL CROSS', 'PARK BUS-FAIL TO ACTIV MACHINE',\n",
       "       'STOP-ADJACENT CENTRE STRIP END', 'PARK IN PARK NOT IN DESIG AREA',\n",
       "       'STOP ONSTRT ACCESSIBLE NO PRMT', 'PARK VEHICLE LONGER THAN 24HR',\n",
       "       'PARK VEHICLE PROHIBITED TIME', 'PARK-30.5M FIRE HALL OPP SIDE',\n",
       "       'PARK VEHICLE - FOR SALE', 'PARK-15M FAR SIDE OF CROSSWALK',\n",
       "       'FAIL TO (PARK/STOP) ANGLE SPCE', 'STOP SIGNED HWY PRO TIMES/DAYS',\n",
       "       'PARK OTHER THAN METERED SPACE', 'PARK ACCESSIBLE LOAD NOT DRP/O',\n",
       "       'PARK BUS PK SPC/MCHINE-PR TIME', 'PARK FAIL TO DISPLAY RECEIPT',\n",
       "       'STOP-ACROSS FROM EXCAV./OBSTR.', 'PARK - METER NOT USED',\n",
       "       'PARK MACHINE-NOT IN PERMITD TM', 'PARK BUS-SIGNED HWY-PROH DY/TM',\n",
       "       'PARK HWY AT PROHIB TIME/DAY', 'STAND VEHICLE-SIGNED HIGHWAY-3',\n",
       "       'PARK-FRONT OF BLDG ENTRY/EXIT', 'PARK HWY PROHIBITED TIMES/DAYS',\n",
       "       'PARK-SIGNED HWY-LESS THAN 6M W', 'PARK-15M MAILBOX SAME SIDE',\n",
       "       'PARK ON MUN PROP NO CONSENT', 'PARK MOTORCYCLE-MCHNE LT 45DEG',\n",
       "       'STOP VEH - PROHIBITED TIME', 'PARK PRIVATE PROP NO CONSENT',\n",
       "       'STOP NON-BUS - BUS LOAD ZONE', 'STAND VEHICLE SIGNED HIGHWAY 2',\n",
       "       'PARK OVERNIGHT NO PERMIT', 'STAND VEHICLE-SIGNED HIGHWAY',\n",
       "       'PARK NON-BUS-BUS PK SPC/MCHINE', 'PARK-ALONGSIDE (RAILWAY/CROSS)',\n",
       "       'PARK - 2 SPACES - NO FEE', 'PARK-FAIL TO DEPOSIT FEE METER',\n",
       "       'PARK - FR YARD NO VALID PLATES', 'PARK - LONGER THAN 3 HOURS ',\n",
       "       'PARK/LEAVE-FIRE ROUTE', 'STOP ON/OVER SIDEWALK/FOOTPATH',\n",
       "       'PARK PRO VEH ON FOOTPATH', 'STAND VEH-HWY-18.5 PST BSTP SM',\n",
       "       'PARK-PREVENT VEHICLE REMOVAL', 'PARK BUS PK SPC/MCHINE-NOFEEPD',\n",
       "       'STAND VEH-HWY-PROH TIME/DAYS', 'PARK IN ELECTRIC VEHICLE SPACE',\n",
       "       'STAND SIGN HWY PRO TIMES/DAYS', 'PARK MOTORCYCLE-METER-LT 45DEG',\n",
       "       'STOP ACC NO PERMIT', 'PARK-FAIL TO ACTIVATE METER',\n",
       "       'PARK HWY OVER PERMITTED TIME', 'LEAVE IN PARK NOT DESIG AREA',\n",
       "       'STAND SIGNED TAXICAB STAND', 'PARALLEL PARK-METERED SPACE-RE',\n",
       "       'PARK ELECT. VEH. NOT CONNECTED', 'PARK MTR REC VE NOT DESIG AREA',\n",
       "       'PARK ON PRIV PROP WITHOUT CONS', 'PARK UNAUTH. VEH IN E-VEH. STN',\n",
       "       'PARK ON PRIV PROP NO CONSENT', 'PARALLEL PARK-METERED SPACE-FR',\n",
       "       'STOP-HWY-PROHIBITED TIMES/DAYS', 'PARK SIGNED HWY EXCESS OF TIME',\n",
       "       'STOP-ADJACENT CNTRE STRIP SIDE', 'PARK-R OF VEH TOO FAR FROM MTR',\n",
       "       'PARK-FRONT OF VEH NOT OPP MTR', 'STAND UNAUTH VEH. CAR SHARE',\n",
       "       'STAND CAR-SHARE VEH.-NO PERM', 'PARK UNAUTH VEH ELEC CHG STN',\n",
       "       'STAND VEH - PROHIBITED TIME', 'PARK-HWY PROHIB TIMES/DAYS',\n",
       "       'PARK HWY PRO TIMES/DAYS', 'ANGLE PARK-TOO FAR FROM METER',\n",
       "       'PARK ELEC VEH CHG NOT CONNECT', 'PARK VEH.-STRTCAR TRK SNOW RT',\n",
       "       'PARK MUN PROP NO CONSENT', 'PARK MTRCYCLE ANGLE SP > 60DEG',\n",
       "       'PARK FAIL TO DEP FEE IN METER', 'PARK/LEAVE BUS CONTR. TO SIGN',\n",
       "       'STOP-ADJACENT MID. BOUL. END', 'STOP-WITHIN 15M OF SAFETY ZONE',\n",
       "       'PARK E-VEH. IN EV SP NOT CONN', 'PARK-2 SPACES-NO FEE-MTR/MACH',\n",
       "       'PARK-FEE NOT PD FOR TIME USED', 'PARK NORTH SIDE FARNHAM AVENUE',\n",
       "       'PARK IN DESIGNATED FIRE ROUTE', 'PARK/LEAVE UNPD PARKING INV',\n",
       "       'PARK VEHICLE - SNOW ROUTE', 'PARK VEH.-BLOCK STCAR SNOW RT',\n",
       "       'PARK-INTERF W FUNERAL PROCESS.', 'Park Prohibited Area No Permit',\n",
       "       'PARK MOTORCYCLE - IN SPACE', 'PRK CAR-SHR VEH. IN WAITL AREA',\n",
       "       'STOP - (ON/OVER)(BOULEVARD)', 'PARK PRIVATE VEHICLE ON SITE',\n",
       "       'PARK LT 0.3M FROM BOTTOM STEP', 'PARAL PRK-MTRD-FR WHLS NO OPP',\n",
       "       'PAR PARK - F TIRES NOT OPP MTR'], dtype=object)"
      ]
     },
     "execution_count": 28,
     "metadata": {},
     "output_type": "execute_result"
    }
   ],
   "source": [
    "parking_df['infraction_description'].unique()"
   ]
  },
  {
   "cell_type": "markdown",
   "id": "d7a044bd",
   "metadata": {},
   "source": [
    "TO DO: Inspect `infraction_description` values to assess whether we can group them by some similarity and reduce the number of distinct values."
   ]
  },
  {
   "cell_type": "code",
   "execution_count": 29,
   "id": "ebba556c",
   "metadata": {},
   "outputs": [
    {
     "data": {
      "text/plain": [
       "infraction_code\n",
       "3      1022320\n",
       "207     672177\n",
       "5       653880\n",
       "29      599344\n",
       "9       265643\n",
       "        ...   \n",
       "341          1\n",
       "306          1\n",
       "303          1\n",
       "334          1\n",
       "301          1\n",
       "Name: count, Length: 181, dtype: int64"
      ]
     },
     "execution_count": 29,
     "metadata": {},
     "output_type": "execute_result"
    }
   ],
   "source": [
    "# check infraction_code count\n",
    "parking_df['infraction_code'].value_counts()"
   ]
  },
  {
   "cell_type": "markdown",
   "id": "32dbfee0",
   "metadata": {},
   "source": [
    "There are 181 values of different infraction types."
   ]
  },
  {
   "cell_type": "code",
   "execution_count": 30,
   "id": "66709d86",
   "metadata": {},
   "outputs": [
    {
     "data": {
      "text/plain": [
       "4"
      ]
     },
     "execution_count": 30,
     "metadata": {},
     "output_type": "execute_result"
    }
   ],
   "source": [
    "# check for duplicates\n",
    "parking_df.duplicated().sum()"
   ]
  },
  {
   "cell_type": "code",
   "execution_count": 31,
   "id": "db6aafc7",
   "metadata": {
    "scrolled": true
   },
   "outputs": [
    {
     "name": "stdout",
     "output_type": "stream",
     "text": [
      "Duplicate Rows:\n",
      "\n"
     ]
    },
    {
     "data": {
      "text/html": [
       "<div>\n",
       "<style scoped>\n",
       "    .dataframe tbody tr th:only-of-type {\n",
       "        vertical-align: middle;\n",
       "    }\n",
       "\n",
       "    .dataframe tbody tr th {\n",
       "        vertical-align: top;\n",
       "    }\n",
       "\n",
       "    .dataframe thead th {\n",
       "        text-align: right;\n",
       "    }\n",
       "</style>\n",
       "<table border=\"1\" class=\"dataframe\">\n",
       "  <thead>\n",
       "    <tr style=\"text-align: right;\">\n",
       "      <th></th>\n",
       "      <th>tag_number_masked</th>\n",
       "      <th>date_of_infraction</th>\n",
       "      <th>infraction_code</th>\n",
       "      <th>infraction_description</th>\n",
       "      <th>set_fine_amount</th>\n",
       "      <th>time_of_infraction</th>\n",
       "      <th>location1</th>\n",
       "      <th>location2</th>\n",
       "      <th>location3</th>\n",
       "      <th>location4</th>\n",
       "      <th>province</th>\n",
       "    </tr>\n",
       "  </thead>\n",
       "  <tbody>\n",
       "    <tr>\n",
       "      <th>1676448</th>\n",
       "      <td>***41360</td>\n",
       "      <td>2021-04-29</td>\n",
       "      <td>3</td>\n",
       "      <td>PARK ON PRIVATE PROPERTY</td>\n",
       "      <td>30</td>\n",
       "      <td>1020</td>\n",
       "      <td>NaN</td>\n",
       "      <td>550 BAYVIEW AVE</td>\n",
       "      <td>NaN</td>\n",
       "      <td>NaN</td>\n",
       "      <td>ON</td>\n",
       "    </tr>\n",
       "    <tr>\n",
       "      <th>1957630</th>\n",
       "      <td>***47771</td>\n",
       "      <td>2021-07-13</td>\n",
       "      <td>3</td>\n",
       "      <td>PARK ON PRIVATE PROPERTY</td>\n",
       "      <td>30</td>\n",
       "      <td>1036</td>\n",
       "      <td>NaN</td>\n",
       "      <td>20 DE BOERS DR</td>\n",
       "      <td>NaN</td>\n",
       "      <td>NaN</td>\n",
       "      <td>ON</td>\n",
       "    </tr>\n",
       "    <tr>\n",
       "      <th>2427640</th>\n",
       "      <td>***43500</td>\n",
       "      <td>2021-10-06</td>\n",
       "      <td>207</td>\n",
       "      <td>PARK MACHINE-REQD FEE NOT PAID</td>\n",
       "      <td>30</td>\n",
       "      <td>1806</td>\n",
       "      <td>W/S</td>\n",
       "      <td>EAST DON ROADWAY</td>\n",
       "      <td>S/O</td>\n",
       "      <td>QUEEN ST E</td>\n",
       "      <td>ON</td>\n",
       "    </tr>\n",
       "    <tr>\n",
       "      <th>4558329</th>\n",
       "      <td>***20229</td>\n",
       "      <td>2022-11-26</td>\n",
       "      <td>3</td>\n",
       "      <td>PARK ON PRIVATE PROPERTY</td>\n",
       "      <td>30</td>\n",
       "      <td>1140</td>\n",
       "      <td>NaN</td>\n",
       "      <td>4700 KEELE ST</td>\n",
       "      <td>NaN</td>\n",
       "      <td>NaN</td>\n",
       "      <td>ON</td>\n",
       "    </tr>\n",
       "  </tbody>\n",
       "</table>\n",
       "</div>"
      ],
      "text/plain": [
       "        tag_number_masked date_of_infraction  infraction_code  \\\n",
       "1676448          ***41360         2021-04-29                3   \n",
       "1957630          ***47771         2021-07-13                3   \n",
       "2427640          ***43500         2021-10-06              207   \n",
       "4558329          ***20229         2022-11-26                3   \n",
       "\n",
       "                 infraction_description  set_fine_amount time_of_infraction  \\\n",
       "1676448        PARK ON PRIVATE PROPERTY               30               1020   \n",
       "1957630        PARK ON PRIVATE PROPERTY               30               1036   \n",
       "2427640  PARK MACHINE-REQD FEE NOT PAID               30               1806   \n",
       "4558329        PARK ON PRIVATE PROPERTY               30               1140   \n",
       "\n",
       "        location1         location2 location3   location4 province  \n",
       "1676448       NaN   550 BAYVIEW AVE       NaN         NaN       ON  \n",
       "1957630       NaN    20 DE BOERS DR       NaN         NaN       ON  \n",
       "2427640       W/S  EAST DON ROADWAY       S/O  QUEEN ST E       ON  \n",
       "4558329       NaN     4700 KEELE ST       NaN         NaN       ON  "
      ]
     },
     "execution_count": 31,
     "metadata": {},
     "output_type": "execute_result"
    }
   ],
   "source": [
    "duplicate_rows = parking_df[parking_df.duplicated()]\n",
    "\n",
    "# Print the duplicate rows\n",
    "print(\"Duplicate Rows:\\n\")\n",
    "duplicate_rows"
   ]
  },
  {
   "cell_type": "markdown",
   "id": "0cf477d4",
   "metadata": {},
   "source": [
    "Since we have only four duplicate rows, we can manually compare them with the original rows."
   ]
  },
  {
   "cell_type": "code",
   "execution_count": 32,
   "id": "c7f20738",
   "metadata": {
    "scrolled": false
   },
   "outputs": [
    {
     "data": {
      "text/html": [
       "<div>\n",
       "<style scoped>\n",
       "    .dataframe tbody tr th:only-of-type {\n",
       "        vertical-align: middle;\n",
       "    }\n",
       "\n",
       "    .dataframe tbody tr th {\n",
       "        vertical-align: top;\n",
       "    }\n",
       "\n",
       "    .dataframe thead th {\n",
       "        text-align: right;\n",
       "    }\n",
       "</style>\n",
       "<table border=\"1\" class=\"dataframe\">\n",
       "  <thead>\n",
       "    <tr style=\"text-align: right;\">\n",
       "      <th></th>\n",
       "      <th>tag_number_masked</th>\n",
       "      <th>date_of_infraction</th>\n",
       "      <th>infraction_code</th>\n",
       "      <th>infraction_description</th>\n",
       "      <th>set_fine_amount</th>\n",
       "      <th>time_of_infraction</th>\n",
       "      <th>location1</th>\n",
       "      <th>location2</th>\n",
       "      <th>location3</th>\n",
       "      <th>location4</th>\n",
       "      <th>province</th>\n",
       "    </tr>\n",
       "  </thead>\n",
       "  <tbody>\n",
       "    <tr>\n",
       "      <th>1676445</th>\n",
       "      <td>***41360</td>\n",
       "      <td>2021-04-29</td>\n",
       "      <td>3</td>\n",
       "      <td>PARK ON PRIVATE PROPERTY</td>\n",
       "      <td>30</td>\n",
       "      <td>1020</td>\n",
       "      <td>NaN</td>\n",
       "      <td>550 BAYVIEW AVE</td>\n",
       "      <td>NaN</td>\n",
       "      <td>NaN</td>\n",
       "      <td>ON</td>\n",
       "    </tr>\n",
       "    <tr>\n",
       "      <th>1676448</th>\n",
       "      <td>***41360</td>\n",
       "      <td>2021-04-29</td>\n",
       "      <td>3</td>\n",
       "      <td>PARK ON PRIVATE PROPERTY</td>\n",
       "      <td>30</td>\n",
       "      <td>1020</td>\n",
       "      <td>NaN</td>\n",
       "      <td>550 BAYVIEW AVE</td>\n",
       "      <td>NaN</td>\n",
       "      <td>NaN</td>\n",
       "      <td>ON</td>\n",
       "    </tr>\n",
       "    <tr>\n",
       "      <th>1957624</th>\n",
       "      <td>***47771</td>\n",
       "      <td>2021-07-13</td>\n",
       "      <td>3</td>\n",
       "      <td>PARK ON PRIVATE PROPERTY</td>\n",
       "      <td>30</td>\n",
       "      <td>1036</td>\n",
       "      <td>NaN</td>\n",
       "      <td>20 DE BOERS DR</td>\n",
       "      <td>NaN</td>\n",
       "      <td>NaN</td>\n",
       "      <td>ON</td>\n",
       "    </tr>\n",
       "    <tr>\n",
       "      <th>1957630</th>\n",
       "      <td>***47771</td>\n",
       "      <td>2021-07-13</td>\n",
       "      <td>3</td>\n",
       "      <td>PARK ON PRIVATE PROPERTY</td>\n",
       "      <td>30</td>\n",
       "      <td>1036</td>\n",
       "      <td>NaN</td>\n",
       "      <td>20 DE BOERS DR</td>\n",
       "      <td>NaN</td>\n",
       "      <td>NaN</td>\n",
       "      <td>ON</td>\n",
       "    </tr>\n",
       "    <tr>\n",
       "      <th>2427634</th>\n",
       "      <td>***43500</td>\n",
       "      <td>2021-10-06</td>\n",
       "      <td>207</td>\n",
       "      <td>PARK MACHINE-REQD FEE NOT PAID</td>\n",
       "      <td>30</td>\n",
       "      <td>1806</td>\n",
       "      <td>W/S</td>\n",
       "      <td>EAST DON ROADWAY</td>\n",
       "      <td>S/O</td>\n",
       "      <td>QUEEN ST E</td>\n",
       "      <td>ON</td>\n",
       "    </tr>\n",
       "    <tr>\n",
       "      <th>2427640</th>\n",
       "      <td>***43500</td>\n",
       "      <td>2021-10-06</td>\n",
       "      <td>207</td>\n",
       "      <td>PARK MACHINE-REQD FEE NOT PAID</td>\n",
       "      <td>30</td>\n",
       "      <td>1806</td>\n",
       "      <td>W/S</td>\n",
       "      <td>EAST DON ROADWAY</td>\n",
       "      <td>S/O</td>\n",
       "      <td>QUEEN ST E</td>\n",
       "      <td>ON</td>\n",
       "    </tr>\n",
       "    <tr>\n",
       "      <th>4558328</th>\n",
       "      <td>***20229</td>\n",
       "      <td>2022-11-26</td>\n",
       "      <td>3</td>\n",
       "      <td>PARK ON PRIVATE PROPERTY</td>\n",
       "      <td>30</td>\n",
       "      <td>1140</td>\n",
       "      <td>NaN</td>\n",
       "      <td>4700 KEELE ST</td>\n",
       "      <td>NaN</td>\n",
       "      <td>NaN</td>\n",
       "      <td>ON</td>\n",
       "    </tr>\n",
       "    <tr>\n",
       "      <th>4558329</th>\n",
       "      <td>***20229</td>\n",
       "      <td>2022-11-26</td>\n",
       "      <td>3</td>\n",
       "      <td>PARK ON PRIVATE PROPERTY</td>\n",
       "      <td>30</td>\n",
       "      <td>1140</td>\n",
       "      <td>NaN</td>\n",
       "      <td>4700 KEELE ST</td>\n",
       "      <td>NaN</td>\n",
       "      <td>NaN</td>\n",
       "      <td>ON</td>\n",
       "    </tr>\n",
       "  </tbody>\n",
       "</table>\n",
       "</div>"
      ],
      "text/plain": [
       "        tag_number_masked date_of_infraction  infraction_code  \\\n",
       "1676445          ***41360         2021-04-29                3   \n",
       "1676448          ***41360         2021-04-29                3   \n",
       "1957624          ***47771         2021-07-13                3   \n",
       "1957630          ***47771         2021-07-13                3   \n",
       "2427634          ***43500         2021-10-06              207   \n",
       "2427640          ***43500         2021-10-06              207   \n",
       "4558328          ***20229         2022-11-26                3   \n",
       "4558329          ***20229         2022-11-26                3   \n",
       "\n",
       "                 infraction_description  set_fine_amount time_of_infraction  \\\n",
       "1676445        PARK ON PRIVATE PROPERTY               30               1020   \n",
       "1676448        PARK ON PRIVATE PROPERTY               30               1020   \n",
       "1957624        PARK ON PRIVATE PROPERTY               30               1036   \n",
       "1957630        PARK ON PRIVATE PROPERTY               30               1036   \n",
       "2427634  PARK MACHINE-REQD FEE NOT PAID               30               1806   \n",
       "2427640  PARK MACHINE-REQD FEE NOT PAID               30               1806   \n",
       "4558328        PARK ON PRIVATE PROPERTY               30               1140   \n",
       "4558329        PARK ON PRIVATE PROPERTY               30               1140   \n",
       "\n",
       "        location1         location2 location3   location4 province  \n",
       "1676445       NaN   550 BAYVIEW AVE       NaN         NaN       ON  \n",
       "1676448       NaN   550 BAYVIEW AVE       NaN         NaN       ON  \n",
       "1957624       NaN    20 DE BOERS DR       NaN         NaN       ON  \n",
       "1957630       NaN    20 DE BOERS DR       NaN         NaN       ON  \n",
       "2427634       W/S  EAST DON ROADWAY       S/O  QUEEN ST E       ON  \n",
       "2427640       W/S  EAST DON ROADWAY       S/O  QUEEN ST E       ON  \n",
       "4558328       NaN     4700 KEELE ST       NaN         NaN       ON  \n",
       "4558329       NaN     4700 KEELE ST       NaN         NaN       ON  "
      ]
     },
     "execution_count": 32,
     "metadata": {},
     "output_type": "execute_result"
    }
   ],
   "source": [
    "parking_df[parking_df.duplicated(keep=False)]"
   ]
  },
  {
   "cell_type": "markdown",
   "id": "f7f43b1c",
   "metadata": {},
   "source": [
    "It shows that the duplicates are genuine, so we can safely drop those rows."
   ]
  },
  {
   "cell_type": "code",
   "execution_count": 41,
   "id": "8c60de8a",
   "metadata": {},
   "outputs": [
    {
     "data": {
      "text/plain": [
       "4635365"
      ]
     },
     "execution_count": 41,
     "metadata": {},
     "output_type": "execute_result"
    }
   ],
   "source": [
    "# check (new number of rows should be: original rows - 4\n",
    "new_shape = 4635369 - 4\n",
    "new_shape"
   ]
  },
  {
   "cell_type": "code",
   "execution_count": 34,
   "id": "fff4291d",
   "metadata": {},
   "outputs": [],
   "source": [
    "parking_df = parking_df.drop_duplicates()"
   ]
  },
  {
   "cell_type": "code",
   "execution_count": 35,
   "id": "3ae15913",
   "metadata": {},
   "outputs": [
    {
     "data": {
      "text/plain": [
       "(4635365, 11)"
      ]
     },
     "execution_count": 35,
     "metadata": {},
     "output_type": "execute_result"
    }
   ],
   "source": [
    "parking_df.shape\n"
   ]
  },
  {
   "cell_type": "markdown",
   "id": "fd8e2ab2",
   "metadata": {},
   "source": [
    "Check statistics."
   ]
  },
  {
   "cell_type": "code",
   "execution_count": 36,
   "id": "74d18159",
   "metadata": {
    "scrolled": false
   },
   "outputs": [
    {
     "data": {
      "text/html": [
       "<div>\n",
       "<style scoped>\n",
       "    .dataframe tbody tr th:only-of-type {\n",
       "        vertical-align: middle;\n",
       "    }\n",
       "\n",
       "    .dataframe tbody tr th {\n",
       "        vertical-align: top;\n",
       "    }\n",
       "\n",
       "    .dataframe thead th {\n",
       "        text-align: right;\n",
       "    }\n",
       "</style>\n",
       "<table border=\"1\" class=\"dataframe\">\n",
       "  <thead>\n",
       "    <tr style=\"text-align: right;\">\n",
       "      <th></th>\n",
       "      <th>date_of_infraction</th>\n",
       "      <th>infraction_code</th>\n",
       "      <th>set_fine_amount</th>\n",
       "    </tr>\n",
       "  </thead>\n",
       "  <tbody>\n",
       "    <tr>\n",
       "      <th>count</th>\n",
       "      <td>4635365</td>\n",
       "      <td>4.635365e+06</td>\n",
       "      <td>4.635365e+06</td>\n",
       "    </tr>\n",
       "    <tr>\n",
       "      <th>mean</th>\n",
       "      <td>2021-08-08 17:27:27.742087936</td>\n",
       "      <td>7.630784e+01</td>\n",
       "      <td>5.278848e+01</td>\n",
       "    </tr>\n",
       "    <tr>\n",
       "      <th>min</th>\n",
       "      <td>2020-01-01 00:00:00</td>\n",
       "      <td>1.000000e+00</td>\n",
       "      <td>0.000000e+00</td>\n",
       "    </tr>\n",
       "    <tr>\n",
       "      <th>25%</th>\n",
       "      <td>2020-11-04 00:00:00</td>\n",
       "      <td>3.000000e+00</td>\n",
       "      <td>3.000000e+01</td>\n",
       "    </tr>\n",
       "    <tr>\n",
       "      <th>50%</th>\n",
       "      <td>2021-09-17 00:00:00</td>\n",
       "      <td>8.000000e+00</td>\n",
       "      <td>3.000000e+01</td>\n",
       "    </tr>\n",
       "    <tr>\n",
       "      <th>75%</th>\n",
       "      <td>2022-05-08 00:00:00</td>\n",
       "      <td>1.920000e+02</td>\n",
       "      <td>5.000000e+01</td>\n",
       "    </tr>\n",
       "    <tr>\n",
       "      <th>max</th>\n",
       "      <td>2022-12-12 00:00:00</td>\n",
       "      <td>4.400000e+02</td>\n",
       "      <td>5.000000e+02</td>\n",
       "    </tr>\n",
       "    <tr>\n",
       "      <th>std</th>\n",
       "      <td>NaN</td>\n",
       "      <td>1.187192e+02</td>\n",
       "      <td>5.066851e+01</td>\n",
       "    </tr>\n",
       "  </tbody>\n",
       "</table>\n",
       "</div>"
      ],
      "text/plain": [
       "                  date_of_infraction  infraction_code  set_fine_amount\n",
       "count                        4635365     4.635365e+06     4.635365e+06\n",
       "mean   2021-08-08 17:27:27.742087936     7.630784e+01     5.278848e+01\n",
       "min              2020-01-01 00:00:00     1.000000e+00     0.000000e+00\n",
       "25%              2020-11-04 00:00:00     3.000000e+00     3.000000e+01\n",
       "50%              2021-09-17 00:00:00     8.000000e+00     3.000000e+01\n",
       "75%              2022-05-08 00:00:00     1.920000e+02     5.000000e+01\n",
       "max              2022-12-12 00:00:00     4.400000e+02     5.000000e+02\n",
       "std                              NaN     1.187192e+02     5.066851e+01"
      ]
     },
     "execution_count": 36,
     "metadata": {},
     "output_type": "execute_result"
    }
   ],
   "source": [
    "parking_df.describe()"
   ]
  },
  {
   "cell_type": "markdown",
   "id": "997ac775",
   "metadata": {},
   "source": [
    "`.describe` doesn't provide much information since there is more cleaning to be done with the dataset. `set_fine_amount` shows that the maximum fine was approximately 500 dollars, with an average fine of around 53 dollars."
   ]
  },
  {
   "cell_type": "code",
   "execution_count": 37,
   "id": "da3d94b7",
   "metadata": {},
   "outputs": [
    {
     "data": {
      "text/html": [
       "<div>\n",
       "<style scoped>\n",
       "    .dataframe tbody tr th:only-of-type {\n",
       "        vertical-align: middle;\n",
       "    }\n",
       "\n",
       "    .dataframe tbody tr th {\n",
       "        vertical-align: top;\n",
       "    }\n",
       "\n",
       "    .dataframe thead th {\n",
       "        text-align: right;\n",
       "    }\n",
       "</style>\n",
       "<table border=\"1\" class=\"dataframe\">\n",
       "  <thead>\n",
       "    <tr style=\"text-align: right;\">\n",
       "      <th></th>\n",
       "      <th>tag_number_masked</th>\n",
       "      <th>date_of_infraction</th>\n",
       "      <th>infraction_code</th>\n",
       "      <th>infraction_description</th>\n",
       "      <th>set_fine_amount</th>\n",
       "      <th>time_of_infraction</th>\n",
       "      <th>location1</th>\n",
       "      <th>location2</th>\n",
       "      <th>location3</th>\n",
       "      <th>location4</th>\n",
       "      <th>province</th>\n",
       "    </tr>\n",
       "  </thead>\n",
       "  <tbody>\n",
       "    <tr>\n",
       "      <th>0</th>\n",
       "      <td>***60020</td>\n",
       "      <td>2020-01-01</td>\n",
       "      <td>3</td>\n",
       "      <td>PARK ON PRIVATE PROPERTY</td>\n",
       "      <td>30</td>\n",
       "      <td>0001</td>\n",
       "      <td>NaN</td>\n",
       "      <td>4700 JANE ST</td>\n",
       "      <td>NaN</td>\n",
       "      <td>NaN</td>\n",
       "      <td>SK</td>\n",
       "    </tr>\n",
       "    <tr>\n",
       "      <th>1</th>\n",
       "      <td>***46473</td>\n",
       "      <td>2020-01-01</td>\n",
       "      <td>29</td>\n",
       "      <td>PARK PROHIBITED TIME NO PERMIT</td>\n",
       "      <td>30</td>\n",
       "      <td>0002</td>\n",
       "      <td>OPP</td>\n",
       "      <td>573 CLENDENAN AVE</td>\n",
       "      <td>NaN</td>\n",
       "      <td>NaN</td>\n",
       "      <td>ON</td>\n",
       "    </tr>\n",
       "    <tr>\n",
       "      <th>2</th>\n",
       "      <td>***46474</td>\n",
       "      <td>2020-01-01</td>\n",
       "      <td>29</td>\n",
       "      <td>PARK PROHIBITED TIME NO PERMIT</td>\n",
       "      <td>30</td>\n",
       "      <td>0002</td>\n",
       "      <td>NR</td>\n",
       "      <td>573 CLENDENAN AVE</td>\n",
       "      <td>NaN</td>\n",
       "      <td>NaN</td>\n",
       "      <td>ON</td>\n",
       "    </tr>\n",
       "    <tr>\n",
       "      <th>3</th>\n",
       "      <td>***46475</td>\n",
       "      <td>2020-01-01</td>\n",
       "      <td>29</td>\n",
       "      <td>PARK PROHIBITED TIME NO PERMIT</td>\n",
       "      <td>30</td>\n",
       "      <td>0004</td>\n",
       "      <td>NR</td>\n",
       "      <td>21 MARIA ST</td>\n",
       "      <td>NaN</td>\n",
       "      <td>NaN</td>\n",
       "      <td>ON</td>\n",
       "    </tr>\n",
       "    <tr>\n",
       "      <th>4</th>\n",
       "      <td>***46674</td>\n",
       "      <td>2020-01-01</td>\n",
       "      <td>29</td>\n",
       "      <td>PARK PROHIBITED TIME NO PERMIT</td>\n",
       "      <td>30</td>\n",
       "      <td>0004</td>\n",
       "      <td>NR</td>\n",
       "      <td>164 GLENHOLME AVE</td>\n",
       "      <td>NaN</td>\n",
       "      <td>NaN</td>\n",
       "      <td>ON</td>\n",
       "    </tr>\n",
       "  </tbody>\n",
       "</table>\n",
       "</div>"
      ],
      "text/plain": [
       "  tag_number_masked date_of_infraction  infraction_code  \\\n",
       "0          ***60020         2020-01-01                3   \n",
       "1          ***46473         2020-01-01               29   \n",
       "2          ***46474         2020-01-01               29   \n",
       "3          ***46475         2020-01-01               29   \n",
       "4          ***46674         2020-01-01               29   \n",
       "\n",
       "           infraction_description  set_fine_amount time_of_infraction  \\\n",
       "0        PARK ON PRIVATE PROPERTY               30               0001   \n",
       "1  PARK PROHIBITED TIME NO PERMIT               30               0002   \n",
       "2  PARK PROHIBITED TIME NO PERMIT               30               0002   \n",
       "3  PARK PROHIBITED TIME NO PERMIT               30               0004   \n",
       "4  PARK PROHIBITED TIME NO PERMIT               30               0004   \n",
       "\n",
       "  location1          location2 location3 location4 province  \n",
       "0       NaN       4700 JANE ST       NaN       NaN       SK  \n",
       "1       OPP  573 CLENDENAN AVE       NaN       NaN       ON  \n",
       "2        NR  573 CLENDENAN AVE       NaN       NaN       ON  \n",
       "3        NR        21 MARIA ST       NaN       NaN       ON  \n",
       "4        NR  164 GLENHOLME AVE       NaN       NaN       ON  "
      ]
     },
     "execution_count": 37,
     "metadata": {},
     "output_type": "execute_result"
    }
   ],
   "source": [
    "parking_df.head()"
   ]
  },
  {
   "cell_type": "markdown",
   "id": "7cd3d19d",
   "metadata": {},
   "source": [
    "Check distribution of fine amounts. Plot a histogram."
   ]
  },
  {
   "cell_type": "code",
   "execution_count": 38,
   "id": "9d4303c6",
   "metadata": {
    "scrolled": true
   },
   "outputs": [
    {
     "data": {
      "image/png": "[encoded data removed]",
      "text/plain": [
       "<Figure size 800x600 with 1 Axes>"
      ]
     },
     "metadata": {},
     "output_type": "display_data"
    }
   ],
   "source": [
    "plt.figure(figsize=(8,6))\n",
    "plt.hist(parking_df['set_fine_amount'].values, bins=5)\n",
    "plt.xlabel('Fine Amount')\n",
    "plt.ylabel('Frequency')\n",
    "plt.title('Frequent Fine Amounts')\n",
    "plt.show()"
   ]
  },
  {
   "cell_type": "markdown",
   "id": "ccde1d6f",
   "metadata": {},
   "source": [
    "It shows that most of the tickets were under 100 dollars (almost four million), and around seven hundred thousand were between hundred and two hundred dollars."
   ]
  },
  {
   "cell_type": "markdown",
   "id": "bd54a929",
   "metadata": {},
   "source": [
    "Plot a barplot of `set_fine_amount` by `date_of_infraction`."
   ]
  },
  {
   "cell_type": "code",
   "execution_count": 39,
   "id": "f68fa4ae",
   "metadata": {
    "scrolled": false
   },
   "outputs": [
    {
     "data": {
      "image/png": "[encoded data removed]",
      "text/plain": [
       "<Figure size 800x600 with 1 Axes>"
      ]
     },
     "metadata": {},
     "output_type": "display_data"
    }
   ],
   "source": [
    "# extract the year from the 'date_of_infraction' column\n",
    "parking_df['year'] = parking_df['date_of_infraction'].dt.year\n",
    "\n",
    "# group the data by year and calculate the sum of 'set_fine_amount'\n",
    "sum_by_year = parking_df.groupby('year')['set_fine_amount'].sum()\n",
    "\n",
    "# create a barplot\n",
    "plt.figure(figsize=(8,6))\n",
    "sum_by_year.plot(kind='bar')\n",
    "plt.xlabel('Year')\n",
    "plt.ylabel('Fine Amount')\n",
    "plt.title('Fine Amount by Year')\n",
    "plt.show()"
   ]
  },
  {
   "cell_type": "markdown",
   "id": "e897fff2",
   "metadata": {},
   "source": [
    "Total fines in 2020 were over 70 million dollars, and in 2021, they increased to 80 million. In 2022, the total fines reached 90 million. City data indicates that fines were 124 million in 2019. The decrease in fines in 2020 can be attributed to the Covid-19 pandemic, as people drove less, and the City implemented a more relaxed penalty system."
   ]
  },
  {
   "cell_type": "markdown",
   "id": "78cd0610",
   "metadata": {},
   "source": [
    "Plot a line chart of `set_fine_amount` by year and months. Extract year and month from `date_of_infraction`."
   ]
  },
  {
   "cell_type": "code",
   "execution_count": 40,
   "id": "fd5a497c",
   "metadata": {
    "scrolled": true
   },
   "outputs": [
    {
     "data": {
      "image/png": "[encoded data removed]",
      "text/plain": [
       "<Figure size 800x600 with 1 Axes>"
      ]
     },
     "metadata": {},
     "output_type": "display_data"
    }
   ],
   "source": [
    "# extract the year and month from the 'date_of_infraction' column\n",
    "parking_df['year'] = parking_df['date_of_infraction'].dt.year\n",
    "parking_df['month'] = parking_df['date_of_infraction'].dt.month\n",
    "\n",
    "# group the data by year and month and calculate the sum of 'set_fine_amount'\n",
    "sum_by_year_month = parking_df.groupby(['year', 'month'])['set_fine_amount'].sum()\n",
    "\n",
    "# create a line chart\n",
    "plt.figure(figsize=(8,6))\n",
    "sum_by_year_month.plot(kind='line')\n",
    "plt.xlabel('Year and Month')\n",
    "plt.ylabel('Fine Amount')\n",
    "plt.title('Fine Amounts by Year and Month')\n",
    "plt.xticks(rotation=45)\n",
    "plt.grid(True)\n",
    "plt.show()\n"
   ]
  },
  {
   "cell_type": "markdown",
   "id": "7bc368ca",
   "metadata": {},
   "source": [
    "The chart shows a decline in early spring of 2020 when the pandemic started. By the summer months, fines increased drastically. There is also a seasonality trend observed. In the winter months of 2021 and 2022, total fines were lower than in the summer. In the winter of 2021, it was slightly lower than in 2022, which can also be attributed to the Covid-19 pandemic."
   ]
  },
  {
   "cell_type": "markdown",
   "id": "9c676fc4",
   "metadata": {},
   "source": [
    "## Part 3 - Next Steps"
   ]
  },
  {
   "cell_type": "markdown",
   "id": "fa7af1be",
   "metadata": {},
   "source": [
    "#### SUMMARY OF TO DO'S FOR ADVANCED EDA:\n",
    "\n",
    "- Inspect the location columns to determine whether some of them can be dropped or if they should be concatenated with other location columns.\n",
    "\n",
    "- Inspect `location2` addresses to assess whether we can group them by proximity and reduce the number of distinct values\n",
    "\n",
    "- Inspect `infraction_description` values to assess whether we can group them by some similarity and reduce the number of distinct values\n",
    "\n",
    "- Inspect `time_of_infraction`, find the problem and convert it to Datetime data type\n",
    "\n",
    "- Concatenate `date_of_infraction` and `time_of_infraction` columns\n",
    "\n",
    "- Convert location to Latitude and Longitude\n",
    "\n",
    "- Statistics and relationships\n"
   ]
  }
 ],
 "metadata": {
  "kernelspec": {
   "display_name": "Python 3 (ipykernel)",
   "language": "python",
   "name": "python3"
  },
  "language_info": {
   "codemirror_mode": {
    "name": "ipython",
    "version": 3
   },
   "file_extension": ".py",
   "mimetype": "text/x-python",
   "name": "python",
   "nbconvert_exporter": "python",
   "pygments_lexer": "ipython3",
   "version": "3.11.5"
  }
 },
 "nbformat": 4,
 "nbformat_minor": 5
}
