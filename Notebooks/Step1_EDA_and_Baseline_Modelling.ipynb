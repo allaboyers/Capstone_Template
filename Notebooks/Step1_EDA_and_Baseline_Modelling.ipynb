{
 "cells": [
  {
   "cell_type": "markdown",
   "id": "5c8e1e9c",
   "metadata": {},
   "source": [
    "# Parking Ticket Price Prediction\n",
    "# Capstone Project\n",
    "## Step1\n",
    "## Exploratory Data Analysis and Baseline Models"
   ]
  },
  {
   "cell_type": "markdown",
   "id": "c1829dc2",
   "metadata": {},
   "source": [
    "### Alla B.\n",
    "Email: allaboyers@gmail.com\n",
    "\n",
    "### November 26, 2023"
   ]
  },
  {
   "cell_type": "markdown",
   "id": "83316255",
   "metadata": {},
   "source": [
    "### Table of Contents\n",
    "1. [Overview](#Overview)\n",
    "2. [Explanation of the Data](#Explanation-of-the-Data)\n",
    "    - [Importing Libraries](#Importing-Libraries)\n",
    "    - [Exploring the Dataset](#Exploring-the-Dataset)\n",
    "    - [Cleaning and Feature Engineering](#Cleaning-and-Feature-Engineering)\n",
    "    - [Address to Lat and Lon](#Address-to-Lat-and-Lon)\n",
    "3. [EDA and Data Preprocessing](#EDA-and-Data-Preprocessing)\n",
    "4. [Modelling](#Modelling)\n",
    "    - [Baseline Models](#Baseline-Models)\n",
    "    - [Functions](#Functions)\n",
    "    - [Experimenting With Other Algorithms](#Experimenting-With-Other-Algorithms)\n",
    "    - [RandomForest](#RandomForest)\n",
    "    - [AdaBoost](#AdaBoost)\n",
    "    - [XGBoost](#XGBoost)\n",
    "5. [SUMMARY:](#SUMMARY:)"
   ]
  },
  {
   "cell_type": "markdown",
   "id": "0d9acdbe",
   "metadata": {},
   "source": [
    "## Overview"
   ]
  },
  {
   "cell_type": "markdown",
   "id": "dcc0f334",
   "metadata": {},
   "source": [
    "Parking tickets across the city generate millions in revenue for the City of Toronto every year. Even though the City of Toronto's revenue from parking tickets has gone up slightly in the last 2-3 years, after Covid-19, it has been declining since 2019. There is an opportunity to reverse this decline by making the City of Toronto's Administrative Penalty System (APS) more efficient. Using machine learning can enhance the efficiency of the APS.The impact of an efficient model can make the city safer and more attractive to residents and tourists. "
   ]
  },
  {
   "cell_type": "markdown",
   "id": "5691b7c4",
   "metadata": {},
   "source": [
    "## Explanation of the Data"
   ]
  },
  {
   "cell_type": "markdown",
   "id": "638baa36",
   "metadata": {},
   "source": [
    "The dataset for this project will be sourced from the [Open Data Portal of the City of Toronto](https://open.toronto.ca/dataset/parking-tickets/) (2020-2022). The dataset contains non-identifiable information relating to each parking ticket issued for each calendar year. The tickets are issued by Toronto Police Services (TPS) personnel as well as persons certified and authorized to issue tickets by TPS. "
   ]
  },
  {
   "cell_type": "markdown",
   "id": "1d2c863b",
   "metadata": {},
   "source": [
    "| ITEM   NAME            | DESCRIPTION                                                  |\n",
    "|------------------------|--------------------------------------------------------------|\n",
    "|                        |                                                              |\n",
    "| TAG_NUMBER_MASKED      | First three (3) characters masked   with asterisks           |\n",
    "| DATE_OF_INFRACTION     | Date the infraction   occurred in YYYYMMDD format            |\n",
    "| INFRACTION_CODE        | Applicable Infraction   code (numeric)                       |\n",
    "| INFRACTION_DESCRIPTION | Short description of   the infraction                        |\n",
    "| SET_FINE_AMOUNT        | Amount of set fine   applicable (in dollars)                 |\n",
    "| TIME_OF_INFRACTION     | Time the infraction   occurred  in HHMM format (24-hr clock) |\n",
    "| LOCATION1              | Code to denote   proximity (see table below)                 |\n",
    "| LOCATION2              | Street address                                               |\n",
    "| LOCATION3              | Code to denote   proximity (optional)                        |\n",
    "| LOCATION4              | Street address   (optional)                                  |\n",
    "| PROVINCE               | Province or state   code of vehicle licence plate            |\n",
    "|                        |                                                              |\n",
    "|                        |                                                              |\n",
    "| Proximity Code Table   |                                                              |\n",
    "| PROXIMITY CODE         | DESCRIPTION                                                  |\n",
    "| AT                     | At                                                           |\n",
    "| NR                     | Near                                                         |\n",
    "| OPP                    | Opposite                                                     |\n",
    "| R/O                    | Rear   of                                                    |\n",
    "| N/S                    | North   Side                                                 |\n",
    "| S/S                    | South   Side                                                 |\n",
    "| E/S                    | East   Side                                                  |\n",
    "| W/S                    | West   Side                                                  |\n",
    "| N/O                    | North   of                                                   |\n",
    "| S/O                    | South   of                                                   |\n",
    "| E/O                    | East   of                                                    |\n",
    "| W/O                    | West   of                                                    |"
   ]
  },
  {
   "cell_type": "markdown",
   "id": "9fb51e2b",
   "metadata": {},
   "source": [
    "## Importing Libraries"
   ]
  },
  {
   "cell_type": "code",
   "execution_count": 1,
   "id": "c19df156",
   "metadata": {},
   "outputs": [],
   "source": [
    "# import libraries\n",
    "import numpy as np\n",
    "import pandas as pd\n",
    "import matplotlib.pyplot as plt\n",
    "import seaborn as sns\n",
    "import os\n",
    "import warnings\n",
    "warnings.filterwarnings(\"ignore\")\n",
    "import json\n",
    "from IPython.display import display"
   ]
  },
  {
   "cell_type": "markdown",
   "id": "b220661b",
   "metadata": {},
   "source": [
    "## Exploring the Dataset"
   ]
  },
  {
   "cell_type": "code",
   "execution_count": 2,
   "id": "e1584c14",
   "metadata": {},
   "outputs": [
    {
     "data": {
      "text/html": [
       "<div>\n",
       "<style scoped>\n",
       "    .dataframe tbody tr th:only-of-type {\n",
       "        vertical-align: middle;\n",
       "    }\n",
       "\n",
       "    .dataframe tbody tr th {\n",
       "        vertical-align: top;\n",
       "    }\n",
       "\n",
       "    .dataframe thead th {\n",
       "        text-align: right;\n",
       "    }\n",
       "</style>\n",
       "<table border=\"1\" class=\"dataframe\">\n",
       "  <thead>\n",
       "    <tr style=\"text-align: right;\">\n",
       "      <th></th>\n",
       "      <th>tag_number_masked</th>\n",
       "      <th>date_of_infraction</th>\n",
       "      <th>infraction_code</th>\n",
       "      <th>infraction_description</th>\n",
       "      <th>set_fine_amount</th>\n",
       "      <th>time_of_infraction</th>\n",
       "      <th>location1</th>\n",
       "      <th>location2</th>\n",
       "      <th>location3</th>\n",
       "      <th>location4</th>\n",
       "      <th>province</th>\n",
       "    </tr>\n",
       "  </thead>\n",
       "  <tbody>\n",
       "    <tr>\n",
       "      <th>0</th>\n",
       "      <td>***60020</td>\n",
       "      <td>20200101</td>\n",
       "      <td>3</td>\n",
       "      <td>PARK ON PRIVATE PROPERTY</td>\n",
       "      <td>30</td>\n",
       "      <td>0001</td>\n",
       "      <td>NaN</td>\n",
       "      <td>4700 JANE ST</td>\n",
       "      <td>NaN</td>\n",
       "      <td>NaN</td>\n",
       "      <td>SK</td>\n",
       "    </tr>\n",
       "    <tr>\n",
       "      <th>1</th>\n",
       "      <td>***46473</td>\n",
       "      <td>20200101</td>\n",
       "      <td>29</td>\n",
       "      <td>PARK PROHIBITED TIME NO PERMIT</td>\n",
       "      <td>30</td>\n",
       "      <td>0002</td>\n",
       "      <td>OPP</td>\n",
       "      <td>573 CLENDENAN AVE</td>\n",
       "      <td>NaN</td>\n",
       "      <td>NaN</td>\n",
       "      <td>ON</td>\n",
       "    </tr>\n",
       "    <tr>\n",
       "      <th>2</th>\n",
       "      <td>***46474</td>\n",
       "      <td>20200101</td>\n",
       "      <td>29</td>\n",
       "      <td>PARK PROHIBITED TIME NO PERMIT</td>\n",
       "      <td>30</td>\n",
       "      <td>0002</td>\n",
       "      <td>NR</td>\n",
       "      <td>573 CLENDENAN AVE</td>\n",
       "      <td>NaN</td>\n",
       "      <td>NaN</td>\n",
       "      <td>ON</td>\n",
       "    </tr>\n",
       "    <tr>\n",
       "      <th>3</th>\n",
       "      <td>***46475</td>\n",
       "      <td>20200101</td>\n",
       "      <td>29</td>\n",
       "      <td>PARK PROHIBITED TIME NO PERMIT</td>\n",
       "      <td>30</td>\n",
       "      <td>0004</td>\n",
       "      <td>NR</td>\n",
       "      <td>21 MARIA ST</td>\n",
       "      <td>NaN</td>\n",
       "      <td>NaN</td>\n",
       "      <td>ON</td>\n",
       "    </tr>\n",
       "    <tr>\n",
       "      <th>4</th>\n",
       "      <td>***46674</td>\n",
       "      <td>20200101</td>\n",
       "      <td>29</td>\n",
       "      <td>PARK PROHIBITED TIME NO PERMIT</td>\n",
       "      <td>30</td>\n",
       "      <td>0004</td>\n",
       "      <td>NR</td>\n",
       "      <td>164 GLENHOLME AVE</td>\n",
       "      <td>NaN</td>\n",
       "      <td>NaN</td>\n",
       "      <td>ON</td>\n",
       "    </tr>\n",
       "  </tbody>\n",
       "</table>\n",
       "</div>"
      ],
      "text/plain": [
       "  tag_number_masked  date_of_infraction  infraction_code  \\\n",
       "0          ***60020            20200101                3   \n",
       "1          ***46473            20200101               29   \n",
       "2          ***46474            20200101               29   \n",
       "3          ***46475            20200101               29   \n",
       "4          ***46674            20200101               29   \n",
       "\n",
       "           infraction_description  set_fine_amount time_of_infraction  \\\n",
       "0        PARK ON PRIVATE PROPERTY               30               0001   \n",
       "1  PARK PROHIBITED TIME NO PERMIT               30               0002   \n",
       "2  PARK PROHIBITED TIME NO PERMIT               30               0002   \n",
       "3  PARK PROHIBITED TIME NO PERMIT               30               0004   \n",
       "4  PARK PROHIBITED TIME NO PERMIT               30               0004   \n",
       "\n",
       "  location1          location2 location3 location4 province  \n",
       "0       NaN       4700 JANE ST       NaN       NaN       SK  \n",
       "1       OPP  573 CLENDENAN AVE       NaN       NaN       ON  \n",
       "2        NR  573 CLENDENAN AVE       NaN       NaN       ON  \n",
       "3        NR        21 MARIA ST       NaN       NaN       ON  \n",
       "4        NR  164 GLENHOLME AVE       NaN       NaN       ON  "
      ]
     },
     "execution_count": 2,
     "metadata": {},
     "output_type": "execute_result"
    }
   ],
   "source": [
    "# import the .csv files\n",
    "data_path = '/parking_tickets_all/'\n",
    "df = pd.concat([\n",
    "    pd.read_csv(os.path.join(data_path,file_path), dtype={'time_of_infraction': str})\n",
    "    for file_path in os.listdir(data_path)\n",
    "])\n",
    "# check first 5 rows\n",
    "df.head()"
   ]
  },
  {
   "cell_type": "code",
   "execution_count": 3,
   "id": "6dbdbc17",
   "metadata": {
    "scrolled": true
   },
   "outputs": [
    {
     "data": {
      "text/plain": [
       "(4707259, 11)"
      ]
     },
     "execution_count": 3,
     "metadata": {},
     "output_type": "execute_result"
    }
   ],
   "source": [
    "# check the dataset\n",
    "df.shape"
   ]
  },
  {
   "cell_type": "markdown",
   "id": "1cbb99ee",
   "metadata": {},
   "source": [
    "There are 4707259 rows and 11 columns."
   ]
  },
  {
   "cell_type": "code",
   "execution_count": 4,
   "id": "cbf97058",
   "metadata": {},
   "outputs": [
    {
     "name": "stdout",
     "output_type": "stream",
     "text": [
      "<class 'pandas.core.frame.DataFrame'>\n",
      "Index: 4707259 entries, 0 to 71887\n",
      "Data columns (total 11 columns):\n",
      " #   Column                  Dtype \n",
      "---  ------                  ----- \n",
      " 0   tag_number_masked       object\n",
      " 1   date_of_infraction      int64 \n",
      " 2   infraction_code         int64 \n",
      " 3   infraction_description  object\n",
      " 4   set_fine_amount         int64 \n",
      " 5   time_of_infraction      object\n",
      " 6   location1               object\n",
      " 7   location2               object\n",
      " 8   location3               object\n",
      " 9   location4               object\n",
      " 10  province                object\n",
      "dtypes: int64(3), object(8)\n",
      "memory usage: 431.0+ MB\n"
     ]
    }
   ],
   "source": [
    "# check data types\n",
    "df.info()"
   ]
  },
  {
   "cell_type": "markdown",
   "id": "9af74254",
   "metadata": {},
   "source": [
    "## Cleaning and Feature Engineering "
   ]
  },
  {
   "cell_type": "code",
   "execution_count": 5,
   "id": "10dc85f7",
   "metadata": {},
   "outputs": [
    {
     "data": {
      "text/plain": [
       "4"
      ]
     },
     "execution_count": 5,
     "metadata": {},
     "output_type": "execute_result"
    }
   ],
   "source": [
    "# check for duplicates\n",
    "df.duplicated().sum()"
   ]
  },
  {
   "cell_type": "code",
   "execution_count": 6,
   "id": "222d26ea",
   "metadata": {},
   "outputs": [],
   "source": [
    "# drop duplicate rows\n",
    "df = df.drop_duplicates()"
   ]
  },
  {
   "cell_type": "code",
   "execution_count": 7,
   "id": "238f2722",
   "metadata": {},
   "outputs": [
    {
     "data": {
      "text/plain": [
       "(4707255, 11)"
      ]
     },
     "execution_count": 7,
     "metadata": {},
     "output_type": "execute_result"
    }
   ],
   "source": [
    "# check\n",
    "df.shape"
   ]
  },
  {
   "cell_type": "markdown",
   "id": "92ce697a",
   "metadata": {},
   "source": [
    "There are 4707254 rows (initial 4707259 minus 4 duplicates) and 11 columns."
   ]
  },
  {
   "cell_type": "code",
   "execution_count": 8,
   "id": "a740fc43",
   "metadata": {},
   "outputs": [
    {
     "data": {
      "text/plain": [
       "tag_number_masked               0\n",
       "date_of_infraction              0\n",
       "infraction_code                 0\n",
       "infraction_description          0\n",
       "set_fine_amount                 0\n",
       "time_of_infraction           3159\n",
       "location1                  607130\n",
       "location2                     311\n",
       "location3                 4329547\n",
       "location4                 4328905\n",
       "province                        0\n",
       "dtype: int64"
      ]
     },
     "execution_count": 8,
     "metadata": {},
     "output_type": "execute_result"
    }
   ],
   "source": [
    "# check for missing values\n",
    "df.isnull().sum()"
   ]
  },
  {
   "cell_type": "markdown",
   "id": "42fd782c",
   "metadata": {},
   "source": [
    "We have missing values in `time_of_infraction` and `location` columns. Main location column `location2` has only 311 missing values which is a very small number compared to the total dataset. The other location columns are optional and contain proximity code or intersection street name. I will drop optional location columns since we don't need them for future analysis.\n",
    "\n"
   ]
  },
  {
   "cell_type": "code",
   "execution_count": 9,
   "id": "d93e6718",
   "metadata": {
    "scrolled": true
   },
   "outputs": [
    {
     "data": {
      "text/html": [
       "<div>\n",
       "<style scoped>\n",
       "    .dataframe tbody tr th:only-of-type {\n",
       "        vertical-align: middle;\n",
       "    }\n",
       "\n",
       "    .dataframe tbody tr th {\n",
       "        vertical-align: top;\n",
       "    }\n",
       "\n",
       "    .dataframe thead th {\n",
       "        text-align: right;\n",
       "    }\n",
       "</style>\n",
       "<table border=\"1\" class=\"dataframe\">\n",
       "  <thead>\n",
       "    <tr style=\"text-align: right;\">\n",
       "      <th></th>\n",
       "      <th>tag_number_masked</th>\n",
       "      <th>date_of_infraction</th>\n",
       "      <th>infraction_code</th>\n",
       "      <th>infraction_description</th>\n",
       "      <th>set_fine_amount</th>\n",
       "      <th>time_of_infraction</th>\n",
       "      <th>location</th>\n",
       "      <th>province</th>\n",
       "    </tr>\n",
       "  </thead>\n",
       "  <tbody>\n",
       "    <tr>\n",
       "      <th>0</th>\n",
       "      <td>***60020</td>\n",
       "      <td>20200101</td>\n",
       "      <td>3</td>\n",
       "      <td>PARK ON PRIVATE PROPERTY</td>\n",
       "      <td>30</td>\n",
       "      <td>0001</td>\n",
       "      <td>4700 JANE ST</td>\n",
       "      <td>SK</td>\n",
       "    </tr>\n",
       "    <tr>\n",
       "      <th>1</th>\n",
       "      <td>***46473</td>\n",
       "      <td>20200101</td>\n",
       "      <td>29</td>\n",
       "      <td>PARK PROHIBITED TIME NO PERMIT</td>\n",
       "      <td>30</td>\n",
       "      <td>0002</td>\n",
       "      <td>573 CLENDENAN AVE</td>\n",
       "      <td>ON</td>\n",
       "    </tr>\n",
       "    <tr>\n",
       "      <th>2</th>\n",
       "      <td>***46474</td>\n",
       "      <td>20200101</td>\n",
       "      <td>29</td>\n",
       "      <td>PARK PROHIBITED TIME NO PERMIT</td>\n",
       "      <td>30</td>\n",
       "      <td>0002</td>\n",
       "      <td>573 CLENDENAN AVE</td>\n",
       "      <td>ON</td>\n",
       "    </tr>\n",
       "  </tbody>\n",
       "</table>\n",
       "</div>"
      ],
      "text/plain": [
       "  tag_number_masked  date_of_infraction  infraction_code  \\\n",
       "0          ***60020            20200101                3   \n",
       "1          ***46473            20200101               29   \n",
       "2          ***46474            20200101               29   \n",
       "\n",
       "           infraction_description  set_fine_amount time_of_infraction  \\\n",
       "0        PARK ON PRIVATE PROPERTY               30               0001   \n",
       "1  PARK PROHIBITED TIME NO PERMIT               30               0002   \n",
       "2  PARK PROHIBITED TIME NO PERMIT               30               0002   \n",
       "\n",
       "            location province  \n",
       "0       4700 JANE ST       SK  \n",
       "1  573 CLENDENAN AVE       ON  \n",
       "2  573 CLENDENAN AVE       ON  "
      ]
     },
     "execution_count": 9,
     "metadata": {},
     "output_type": "execute_result"
    }
   ],
   "source": [
    "# drop unnecessary location columns\n",
    "df = df.drop([\"location1\", \"location3\", \"location4\"], axis = 1)\n",
    "df = df.rename(columns = {\"location2\":\"location\"})\n",
    "# check\n",
    "df.head(3)"
   ]
  },
  {
   "cell_type": "markdown",
   "id": "4a0ece09",
   "metadata": {},
   "source": [
    "Let's check percentage of missing values of the`time_of_infraction` column."
   ]
  },
  {
   "cell_type": "code",
   "execution_count": 10,
   "id": "2790e0b4",
   "metadata": {
    "scrolled": true
   },
   "outputs": [
    {
     "data": {
      "text/plain": [
       "0.0671091750924902"
      ]
     },
     "execution_count": 10,
     "metadata": {},
     "output_type": "execute_result"
    }
   ],
   "source": [
    "# check percentage of null values\n",
    "df['time_of_infraction'].isna().sum()/df.shape[0]*100"
   ]
  },
  {
   "cell_type": "markdown",
   "id": "9df62f12",
   "metadata": {},
   "source": [
    "- Missing values account for only 0.067 percent of the total values. We can drop the missing rows."
   ]
  },
  {
   "cell_type": "code",
   "execution_count": 11,
   "id": "3fdd2e9e",
   "metadata": {},
   "outputs": [],
   "source": [
    "# drop null values\n",
    "df.dropna(subset = ['time_of_infraction'], inplace=True)"
   ]
  },
  {
   "cell_type": "markdown",
   "id": "dcd4891a",
   "metadata": {},
   "source": [
    "Let's check `time of infraction` column. It needs to be converted to datetime for further analysis. "
   ]
  },
  {
   "cell_type": "code",
   "execution_count": 12,
   "id": "1cae75f8",
   "metadata": {},
   "outputs": [
    {
     "data": {
      "text/plain": [
       "0    0001\n",
       "1    0002\n",
       "2    0002\n",
       "3    0004\n",
       "4    0004\n",
       "Name: time_of_infraction, dtype: object"
      ]
     },
     "execution_count": 12,
     "metadata": {},
     "output_type": "execute_result"
    }
   ],
   "source": [
    "# check\n",
    "df['time_of_infraction'].head()"
   ]
  },
  {
   "cell_type": "code",
   "execution_count": 13,
   "id": "10f0d49e",
   "metadata": {},
   "outputs": [],
   "source": [
    "# write a function to convert time_of_infraction to proper time format\n",
    "from datetime import datetime\n",
    "def transform_time(x):\n",
    "    try:\n",
    "        time = datetime.strptime(x[:2] + ':' + x[-2:], '%H:%M').time()\n",
    "    except:\n",
    "        time = None\n",
    "    \n",
    "    return time"
   ]
  },
  {
   "cell_type": "code",
   "execution_count": 14,
   "id": "fbf2534e",
   "metadata": {
    "scrolled": true
   },
   "outputs": [
    {
     "data": {
      "text/html": [
       "<div>\n",
       "<style scoped>\n",
       "    .dataframe tbody tr th:only-of-type {\n",
       "        vertical-align: middle;\n",
       "    }\n",
       "\n",
       "    .dataframe tbody tr th {\n",
       "        vertical-align: top;\n",
       "    }\n",
       "\n",
       "    .dataframe thead th {\n",
       "        text-align: right;\n",
       "    }\n",
       "</style>\n",
       "<table border=\"1\" class=\"dataframe\">\n",
       "  <thead>\n",
       "    <tr style=\"text-align: right;\">\n",
       "      <th></th>\n",
       "      <th>tag_number_masked</th>\n",
       "      <th>date_of_infraction</th>\n",
       "      <th>infraction_code</th>\n",
       "      <th>infraction_description</th>\n",
       "      <th>set_fine_amount</th>\n",
       "      <th>time_of_infraction</th>\n",
       "      <th>location</th>\n",
       "      <th>province</th>\n",
       "    </tr>\n",
       "  </thead>\n",
       "  <tbody>\n",
       "    <tr>\n",
       "      <th>0</th>\n",
       "      <td>***60020</td>\n",
       "      <td>20200101</td>\n",
       "      <td>3</td>\n",
       "      <td>PARK ON PRIVATE PROPERTY</td>\n",
       "      <td>30</td>\n",
       "      <td>00:01:00</td>\n",
       "      <td>4700 JANE ST</td>\n",
       "      <td>SK</td>\n",
       "    </tr>\n",
       "    <tr>\n",
       "      <th>1</th>\n",
       "      <td>***46473</td>\n",
       "      <td>20200101</td>\n",
       "      <td>29</td>\n",
       "      <td>PARK PROHIBITED TIME NO PERMIT</td>\n",
       "      <td>30</td>\n",
       "      <td>00:02:00</td>\n",
       "      <td>573 CLENDENAN AVE</td>\n",
       "      <td>ON</td>\n",
       "    </tr>\n",
       "    <tr>\n",
       "      <th>2</th>\n",
       "      <td>***46474</td>\n",
       "      <td>20200101</td>\n",
       "      <td>29</td>\n",
       "      <td>PARK PROHIBITED TIME NO PERMIT</td>\n",
       "      <td>30</td>\n",
       "      <td>00:02:00</td>\n",
       "      <td>573 CLENDENAN AVE</td>\n",
       "      <td>ON</td>\n",
       "    </tr>\n",
       "  </tbody>\n",
       "</table>\n",
       "</div>"
      ],
      "text/plain": [
       "  tag_number_masked  date_of_infraction  infraction_code  \\\n",
       "0          ***60020            20200101                3   \n",
       "1          ***46473            20200101               29   \n",
       "2          ***46474            20200101               29   \n",
       "\n",
       "           infraction_description  set_fine_amount time_of_infraction  \\\n",
       "0        PARK ON PRIVATE PROPERTY               30           00:01:00   \n",
       "1  PARK PROHIBITED TIME NO PERMIT               30           00:02:00   \n",
       "2  PARK PROHIBITED TIME NO PERMIT               30           00:02:00   \n",
       "\n",
       "            location province  \n",
       "0       4700 JANE ST       SK  \n",
       "1  573 CLENDENAN AVE       ON  \n",
       "2  573 CLENDENAN AVE       ON  "
      ]
     },
     "execution_count": 14,
     "metadata": {},
     "output_type": "execute_result"
    }
   ],
   "source": [
    "# apply the function\n",
    "df['time_of_infraction'] = df['time_of_infraction'].apply(transform_time)\n",
    "# check\n",
    "df.head(3)"
   ]
  },
  {
   "cell_type": "code",
   "execution_count": 15,
   "id": "a4cf027f",
   "metadata": {},
   "outputs": [
    {
     "data": {
      "text/plain": [
       "tag_number_masked           0\n",
       "date_of_infraction          0\n",
       "infraction_code             0\n",
       "infraction_description      0\n",
       "set_fine_amount             0\n",
       "time_of_infraction         10\n",
       "location                  262\n",
       "province                    0\n",
       "dtype: int64"
      ]
     },
     "execution_count": 15,
     "metadata": {},
     "output_type": "execute_result"
    }
   ],
   "source": [
    "# check \n",
    "df.isnull().sum()"
   ]
  },
  {
   "cell_type": "markdown",
   "id": "ec7911f9",
   "metadata": {},
   "source": [
    "Ten rows didn't correspont to time format. Drop those 10 values."
   ]
  },
  {
   "cell_type": "code",
   "execution_count": 16,
   "id": "8ae83634",
   "metadata": {},
   "outputs": [
    {
     "data": {
      "text/plain": [
       "0"
      ]
     },
     "execution_count": 16,
     "metadata": {},
     "output_type": "execute_result"
    }
   ],
   "source": [
    "# drop null values \n",
    "df.dropna(subset = ['time_of_infraction'], inplace=True)\n",
    "# check again\n",
    "df[\"time_of_infraction\"].isnull().sum()"
   ]
  },
  {
   "cell_type": "code",
   "execution_count": 17,
   "id": "78670165",
   "metadata": {},
   "outputs": [
    {
     "data": {
      "text/html": [
       "<div>\n",
       "<style scoped>\n",
       "    .dataframe tbody tr th:only-of-type {\n",
       "        vertical-align: middle;\n",
       "    }\n",
       "\n",
       "    .dataframe tbody tr th {\n",
       "        vertical-align: top;\n",
       "    }\n",
       "\n",
       "    .dataframe thead th {\n",
       "        text-align: right;\n",
       "    }\n",
       "</style>\n",
       "<table border=\"1\" class=\"dataframe\">\n",
       "  <thead>\n",
       "    <tr style=\"text-align: right;\">\n",
       "      <th></th>\n",
       "      <th>tag_number_masked</th>\n",
       "      <th>date_of_infraction</th>\n",
       "      <th>infraction_code</th>\n",
       "      <th>infraction_description</th>\n",
       "      <th>set_fine_amount</th>\n",
       "      <th>location</th>\n",
       "      <th>province</th>\n",
       "      <th>hour</th>\n",
       "      <th>min</th>\n",
       "    </tr>\n",
       "  </thead>\n",
       "  <tbody>\n",
       "    <tr>\n",
       "      <th>0</th>\n",
       "      <td>***60020</td>\n",
       "      <td>20200101</td>\n",
       "      <td>3</td>\n",
       "      <td>PARK ON PRIVATE PROPERTY</td>\n",
       "      <td>30</td>\n",
       "      <td>4700 JANE ST</td>\n",
       "      <td>SK</td>\n",
       "      <td>0</td>\n",
       "      <td>1</td>\n",
       "    </tr>\n",
       "    <tr>\n",
       "      <th>1</th>\n",
       "      <td>***46473</td>\n",
       "      <td>20200101</td>\n",
       "      <td>29</td>\n",
       "      <td>PARK PROHIBITED TIME NO PERMIT</td>\n",
       "      <td>30</td>\n",
       "      <td>573 CLENDENAN AVE</td>\n",
       "      <td>ON</td>\n",
       "      <td>0</td>\n",
       "      <td>2</td>\n",
       "    </tr>\n",
       "  </tbody>\n",
       "</table>\n",
       "</div>"
      ],
      "text/plain": [
       "  tag_number_masked  date_of_infraction  infraction_code  \\\n",
       "0          ***60020            20200101                3   \n",
       "1          ***46473            20200101               29   \n",
       "\n",
       "           infraction_description  set_fine_amount           location  \\\n",
       "0        PARK ON PRIVATE PROPERTY               30       4700 JANE ST   \n",
       "1  PARK PROHIBITED TIME NO PERMIT               30  573 CLENDENAN AVE   \n",
       "\n",
       "  province  hour  min  \n",
       "0       SK     0    1  \n",
       "1       ON     0    2  "
      ]
     },
     "execution_count": 17,
     "metadata": {},
     "output_type": "execute_result"
    }
   ],
   "source": [
    "# split time_of_infraction to hh and mm for further analysis and modelling\n",
    "df['hour'] = df['time_of_infraction'].apply(lambda x : x.hour)\n",
    "df['min'] = df['time_of_infraction'].apply(lambda x : x.minute)\n",
    "df = df.drop(\"time_of_infraction\", axis = 1)\n",
    "# check\n",
    "df.head(2)"
   ]
  },
  {
   "cell_type": "markdown",
   "id": "05f3e5d9",
   "metadata": {},
   "source": [
    "Convert `date_of_infraction` to datetime."
   ]
  },
  {
   "cell_type": "code",
   "execution_count": 18,
   "id": "479a702d",
   "metadata": {},
   "outputs": [
    {
     "data": {
      "text/html": [
       "<div>\n",
       "<style scoped>\n",
       "    .dataframe tbody tr th:only-of-type {\n",
       "        vertical-align: middle;\n",
       "    }\n",
       "\n",
       "    .dataframe tbody tr th {\n",
       "        vertical-align: top;\n",
       "    }\n",
       "\n",
       "    .dataframe thead th {\n",
       "        text-align: right;\n",
       "    }\n",
       "</style>\n",
       "<table border=\"1\" class=\"dataframe\">\n",
       "  <thead>\n",
       "    <tr style=\"text-align: right;\">\n",
       "      <th></th>\n",
       "      <th>tag_number_masked</th>\n",
       "      <th>date_of_infraction</th>\n",
       "      <th>infraction_code</th>\n",
       "      <th>infraction_description</th>\n",
       "      <th>set_fine_amount</th>\n",
       "      <th>location</th>\n",
       "      <th>province</th>\n",
       "      <th>hour</th>\n",
       "      <th>min</th>\n",
       "    </tr>\n",
       "  </thead>\n",
       "  <tbody>\n",
       "    <tr>\n",
       "      <th>0</th>\n",
       "      <td>***60020</td>\n",
       "      <td>2020-01-01</td>\n",
       "      <td>3</td>\n",
       "      <td>PARK ON PRIVATE PROPERTY</td>\n",
       "      <td>30</td>\n",
       "      <td>4700 JANE ST</td>\n",
       "      <td>SK</td>\n",
       "      <td>0</td>\n",
       "      <td>1</td>\n",
       "    </tr>\n",
       "    <tr>\n",
       "      <th>1</th>\n",
       "      <td>***46473</td>\n",
       "      <td>2020-01-01</td>\n",
       "      <td>29</td>\n",
       "      <td>PARK PROHIBITED TIME NO PERMIT</td>\n",
       "      <td>30</td>\n",
       "      <td>573 CLENDENAN AVE</td>\n",
       "      <td>ON</td>\n",
       "      <td>0</td>\n",
       "      <td>2</td>\n",
       "    </tr>\n",
       "  </tbody>\n",
       "</table>\n",
       "</div>"
      ],
      "text/plain": [
       "  tag_number_masked date_of_infraction  infraction_code  \\\n",
       "0          ***60020         2020-01-01                3   \n",
       "1          ***46473         2020-01-01               29   \n",
       "\n",
       "           infraction_description  set_fine_amount           location  \\\n",
       "0        PARK ON PRIVATE PROPERTY               30       4700 JANE ST   \n",
       "1  PARK PROHIBITED TIME NO PERMIT               30  573 CLENDENAN AVE   \n",
       "\n",
       "  province  hour  min  \n",
       "0       SK     0    1  \n",
       "1       ON     0    2  "
      ]
     },
     "execution_count": 18,
     "metadata": {},
     "output_type": "execute_result"
    }
   ],
   "source": [
    "# convert to datetime\n",
    "df['date_of_infraction'] = pd.to_datetime(df['date_of_infraction'], format='%Y%m%d')\n",
    "# check\n",
    "df.head(2)"
   ]
  },
  {
   "cell_type": "code",
   "execution_count": 19,
   "id": "bdce7bd2",
   "metadata": {},
   "outputs": [
    {
     "data": {
      "text/html": [
       "<div>\n",
       "<style scoped>\n",
       "    .dataframe tbody tr th:only-of-type {\n",
       "        vertical-align: middle;\n",
       "    }\n",
       "\n",
       "    .dataframe tbody tr th {\n",
       "        vertical-align: top;\n",
       "    }\n",
       "\n",
       "    .dataframe thead th {\n",
       "        text-align: right;\n",
       "    }\n",
       "</style>\n",
       "<table border=\"1\" class=\"dataframe\">\n",
       "  <thead>\n",
       "    <tr style=\"text-align: right;\">\n",
       "      <th></th>\n",
       "      <th>tag_number_masked</th>\n",
       "      <th>date_of_infraction</th>\n",
       "      <th>infraction_code</th>\n",
       "      <th>infraction_description</th>\n",
       "      <th>set_fine_amount</th>\n",
       "      <th>location</th>\n",
       "      <th>province</th>\n",
       "      <th>hour</th>\n",
       "      <th>min</th>\n",
       "      <th>Day</th>\n",
       "      <th>Month</th>\n",
       "      <th>Year</th>\n",
       "    </tr>\n",
       "  </thead>\n",
       "  <tbody>\n",
       "    <tr>\n",
       "      <th>0</th>\n",
       "      <td>***60020</td>\n",
       "      <td>2020-01-01</td>\n",
       "      <td>3</td>\n",
       "      <td>PARK ON PRIVATE PROPERTY</td>\n",
       "      <td>30</td>\n",
       "      <td>4700 JANE ST</td>\n",
       "      <td>SK</td>\n",
       "      <td>0</td>\n",
       "      <td>1</td>\n",
       "      <td>1</td>\n",
       "      <td>1</td>\n",
       "      <td>2020</td>\n",
       "    </tr>\n",
       "    <tr>\n",
       "      <th>1</th>\n",
       "      <td>***46473</td>\n",
       "      <td>2020-01-01</td>\n",
       "      <td>29</td>\n",
       "      <td>PARK PROHIBITED TIME NO PERMIT</td>\n",
       "      <td>30</td>\n",
       "      <td>573 CLENDENAN AVE</td>\n",
       "      <td>ON</td>\n",
       "      <td>0</td>\n",
       "      <td>2</td>\n",
       "      <td>1</td>\n",
       "      <td>1</td>\n",
       "      <td>2020</td>\n",
       "    </tr>\n",
       "  </tbody>\n",
       "</table>\n",
       "</div>"
      ],
      "text/plain": [
       "  tag_number_masked date_of_infraction  infraction_code  \\\n",
       "0          ***60020         2020-01-01                3   \n",
       "1          ***46473         2020-01-01               29   \n",
       "\n",
       "           infraction_description  set_fine_amount           location  \\\n",
       "0        PARK ON PRIVATE PROPERTY               30       4700 JANE ST   \n",
       "1  PARK PROHIBITED TIME NO PERMIT               30  573 CLENDENAN AVE   \n",
       "\n",
       "  province  hour  min  Day  Month  Year  \n",
       "0       SK     0    1    1      1  2020  \n",
       "1       ON     0    2    1      1  2020  "
      ]
     },
     "execution_count": 19,
     "metadata": {},
     "output_type": "execute_result"
    }
   ],
   "source": [
    "# split date_of_infraction to Day, Month and Year for further analysis and modelling\n",
    "df['Day'] = df['date_of_infraction'].dt.day\n",
    "df['Month'] = df['date_of_infraction'].dt.month\n",
    "df['Year'] = df['date_of_infraction'].dt.year\n",
    "# check\n",
    "df.head(2)"
   ]
  },
  {
   "cell_type": "code",
   "execution_count": 20,
   "id": "b49a012c",
   "metadata": {},
   "outputs": [
    {
     "data": {
      "text/html": [
       "<div>\n",
       "<style scoped>\n",
       "    .dataframe tbody tr th:only-of-type {\n",
       "        vertical-align: middle;\n",
       "    }\n",
       "\n",
       "    .dataframe tbody tr th {\n",
       "        vertical-align: top;\n",
       "    }\n",
       "\n",
       "    .dataframe thead th {\n",
       "        text-align: right;\n",
       "    }\n",
       "</style>\n",
       "<table border=\"1\" class=\"dataframe\">\n",
       "  <thead>\n",
       "    <tr style=\"text-align: right;\">\n",
       "      <th></th>\n",
       "      <th>tag_number_masked</th>\n",
       "      <th>infraction_code</th>\n",
       "      <th>infraction_description</th>\n",
       "      <th>set_fine_amount</th>\n",
       "      <th>location</th>\n",
       "      <th>province</th>\n",
       "      <th>hour</th>\n",
       "      <th>min</th>\n",
       "      <th>Day</th>\n",
       "      <th>Month</th>\n",
       "      <th>Year</th>\n",
       "    </tr>\n",
       "  </thead>\n",
       "  <tbody>\n",
       "    <tr>\n",
       "      <th>0</th>\n",
       "      <td>***60020</td>\n",
       "      <td>3</td>\n",
       "      <td>PARK ON PRIVATE PROPERTY</td>\n",
       "      <td>30</td>\n",
       "      <td>4700 JANE ST</td>\n",
       "      <td>SK</td>\n",
       "      <td>0</td>\n",
       "      <td>1</td>\n",
       "      <td>1</td>\n",
       "      <td>1</td>\n",
       "      <td>2020</td>\n",
       "    </tr>\n",
       "    <tr>\n",
       "      <th>1</th>\n",
       "      <td>***46473</td>\n",
       "      <td>29</td>\n",
       "      <td>PARK PROHIBITED TIME NO PERMIT</td>\n",
       "      <td>30</td>\n",
       "      <td>573 CLENDENAN AVE</td>\n",
       "      <td>ON</td>\n",
       "      <td>0</td>\n",
       "      <td>2</td>\n",
       "      <td>1</td>\n",
       "      <td>1</td>\n",
       "      <td>2020</td>\n",
       "    </tr>\n",
       "  </tbody>\n",
       "</table>\n",
       "</div>"
      ],
      "text/plain": [
       "  tag_number_masked  infraction_code          infraction_description  \\\n",
       "0          ***60020                3        PARK ON PRIVATE PROPERTY   \n",
       "1          ***46473               29  PARK PROHIBITED TIME NO PERMIT   \n",
       "\n",
       "   set_fine_amount           location province  hour  min  Day  Month  Year  \n",
       "0               30       4700 JANE ST       SK     0    1    1      1  2020  \n",
       "1               30  573 CLENDENAN AVE       ON     0    2    1      1  2020  "
      ]
     },
     "execution_count": 20,
     "metadata": {},
     "output_type": "execute_result"
    }
   ],
   "source": [
    "# drop original date_of_infraction column\n",
    "df = df.drop(\"date_of_infraction\", axis =1)\n",
    "# check\n",
    "df.head(2)"
   ]
  },
  {
   "cell_type": "markdown",
   "id": "3060ced8",
   "metadata": {},
   "source": [
    "## Address to Lat and Lon"
   ]
  },
  {
   "cell_type": "markdown",
   "id": "cea59380",
   "metadata": {},
   "source": [
    "We need to convert addresses to Latitude and Longitude to use it in further analysis.\n",
    "ref: [Openstreetmap-nominatim](https://byteshiva.medium.com/how-to-retrieve-latitude-and-longitude-using-pythons-requests-library-and-openstreetmap-nominatim-7cd286d38aee)\n",
    "Open street map Nominatim will be used to convert addresses to Latitude and Longitude."
   ]
  },
  {
   "cell_type": "code",
   "execution_count": 21,
   "id": "83f83583",
   "metadata": {},
   "outputs": [],
   "source": [
    "## identifying unique locations\n",
    "## some locations start with street name and they don't have street number\n",
    "## identifying locations with missing street number\n",
    "\n",
    "# loc_freq = df[\"location2\"].value_counts()\n",
    "# unique_locations = loc_freq[loc_freq != 1].index\n",
    "# print(\"Before: \", len(unique_locations))\n",
    "# unique_locations = [loc for loc in unique_locations if loc[0].isdigit()]\n",
    "# print(\"After: \", len(unique_locations))\n",
    "\n",
    "# Before:  186530\n",
    "# After:  182234 # there are 4296 (186530-182234) unique locations missing street number\n",
    "\n",
    "## import libraries\n",
    "\n",
    "# import time\n",
    "# from geopy.geocoders import Nominatim\n",
    "# import json\n",
    "\n",
    "## https://byteshiva.medium.com/how-to-retrieve-latitude-and-longitude-using-pythons-requests-\n",
    "## library-and-openstreetmap-nominatim-7cd286d38aee\n",
    "\n",
    "# location_data = {}\n",
    "# total_chunks = len(unique_locations)/200\n",
    "# sample_loc = unique_locations[:10]\n",
    "\n",
    "## used 23 emails from family and friends for user agent \n",
    "\n",
    "# emails = [\"allaboyers@gmail.com\", \"masked@yahoo.ca\", \"masked@gmail.com\", \"masked@gmail.com\", \"masked@gmail.com\", \n",
    "#           \"masked@gmail.com\", \"masked@hotmail.com\", \"masked@yahoo.com\", \"masked@gmailcom\",  \"masked@yahoo.com\",  \n",
    "#          \"masked@gmail.com\",\"masked@gmail.com\", \"masked@gmail.com\", \"masked@gmail.com\", \"masked@gmail.com\", \n",
    "#          \"masked@yahoo.ca\", \"masked@yahoo.com\", \"masked@hotmail.com\", \"masked@yahoo.com\", \"masked@yahoo.com\",\n",
    "#          \"masked@gmail.com\", \"masked@hotmail.com\", \"masked@gmail.com\"]\n",
    "\n",
    "# used_emails = {}\n",
    "# chunk_counter = 1\n",
    "# email_counter =0\n",
    "# i = 0\n",
    "# n_try = 1\n",
    "# num_location = len(unique_locations)\n",
    "# while True:\n",
    "#     if i < num_location:\n",
    "#         try:\n",
    "#             geolocator = Nominatim(user_agent=emails[email_counter])\n",
    "# #             start = time.time()\n",
    "#             address = unique_locations[i]\n",
    "# #             end  = time.time()\n",
    "            \n",
    "#             location = geolocator.geocode(address)\n",
    "            \n",
    "            \n",
    "#             if location:\n",
    "#                 location_data[address] = {\"latitude\":location.latitude, \"longitude\": location.longitude }\n",
    "\n",
    "                \n",
    "#             if len(location_data)==100:\n",
    "                \n",
    "#                 # File path to save the JSON file\n",
    "#                 file_path = f'/location_chunks/chunk{chunk_counter}.json'\n",
    "                \n",
    "#                 # Save the dictionary as JSON\n",
    "#                 with open(file_path, 'w') as json_file:\n",
    "#                     json.dump(location_data, json_file)\n",
    "#                 print(f\"Chunk {chunk_counter}/{total_chunks} Completed\")\n",
    "                \n",
    "#                 location_data = {}\n",
    "#                 chunk_counter+=1\n",
    "            \n",
    "#             if (i+1)%10 ==0:\n",
    "#                 print(f\"{i+1}/{num_location} Completed!\")\n",
    "#                 print(f\"Collecting Chunk {chunk_counter} Length of collected location_data: {len(location_data)}\")\n",
    "#             i += 1\n",
    "#         except:\n",
    "        \n",
    "#             if n_try>3:\n",
    "                \n",
    "#                 print(f\"Timeout error with email {emails[email_counter]}\")\n",
    "#                 time.sleep(5)\n",
    "#                 if email_counter<22:\n",
    "#                     email_counter += 1\n",
    "#                     n_try = 1\n",
    "#                 else:\n",
    "#                     break\n",
    "#             else:\n",
    "#                 print(f\"TimeoutError {n_try} with email {emails[email_counter]}\")\n",
    "#                 n_try+=1\n",
    "#                 i+=1\n",
    "#     else:\n",
    "#         break"
   ]
  },
  {
   "cell_type": "markdown",
   "id": "f7029b37",
   "metadata": {},
   "source": [
    "Due to limit of the API I was able to convert 2500 unique addresses."
   ]
  },
  {
   "cell_type": "markdown",
   "id": "8c0aeb69",
   "metadata": {},
   "source": [
    "- Transforming the location column into latitide and longitude.\n",
    "\n",
    "- For this purpose we already collected the lat and lon value for 2500 unique locations.\n",
    "- We will use them to create new columns."
   ]
  },
  {
   "cell_type": "code",
   "execution_count": 22,
   "id": "5b4feb55",
   "metadata": {},
   "outputs": [
    {
     "data": {
      "text/plain": [
       "(2500, 3)"
      ]
     },
     "execution_count": 22,
     "metadata": {},
     "output_type": "execute_result"
    }
   ],
   "source": [
    "## reading the location data\n",
    "\n",
    "base = \"/location_chunks\"\n",
    "chunk_paths = os.listdir(base)\n",
    "\n",
    "loc_dfs = []\n",
    "for chunk_path in chunk_paths:\n",
    "    # Open the JSON file\n",
    "    with open(f\"/location_chunks/{chunk_path}\", 'r') as file:\n",
    "        # Load JSON data from the file\n",
    "        data = json.load(file)\n",
    "    \n",
    "    # Now 'data' contains the content of the JSON file\n",
    "\n",
    "    loc_df = pd.DataFrame(data).T.reset_index().rename(columns ={\"index\":\"location\"})\n",
    "    loc_dfs.append(loc_df)\n",
    "\n",
    "loc_df = pd.concat(loc_dfs)\n",
    "loc_df.shape # check "
   ]
  },
  {
   "cell_type": "code",
   "execution_count": 23,
   "id": "85908bdb",
   "metadata": {},
   "outputs": [
    {
     "data": {
      "text/html": [
       "<div>\n",
       "<style scoped>\n",
       "    .dataframe tbody tr th:only-of-type {\n",
       "        vertical-align: middle;\n",
       "    }\n",
       "\n",
       "    .dataframe tbody tr th {\n",
       "        vertical-align: top;\n",
       "    }\n",
       "\n",
       "    .dataframe thead th {\n",
       "        text-align: right;\n",
       "    }\n",
       "</style>\n",
       "<table border=\"1\" class=\"dataframe\">\n",
       "  <thead>\n",
       "    <tr style=\"text-align: right;\">\n",
       "      <th></th>\n",
       "      <th>location</th>\n",
       "      <th>latitude</th>\n",
       "      <th>longitude</th>\n",
       "    </tr>\n",
       "  </thead>\n",
       "  <tbody>\n",
       "    <tr>\n",
       "      <th>0</th>\n",
       "      <td>4700 KEELE ST</td>\n",
       "      <td>43.774939</td>\n",
       "      <td>-79.494257</td>\n",
       "    </tr>\n",
       "    <tr>\n",
       "      <th>1</th>\n",
       "      <td>4001 LESLIE ST</td>\n",
       "      <td>43.769228</td>\n",
       "      <td>-79.362558</td>\n",
       "    </tr>\n",
       "    <tr>\n",
       "      <th>2</th>\n",
       "      <td>2075 BAYVIEW AVE</td>\n",
       "      <td>43.721997</td>\n",
       "      <td>-79.372807</td>\n",
       "    </tr>\n",
       "  </tbody>\n",
       "</table>\n",
       "</div>"
      ],
      "text/plain": [
       "           location   latitude  longitude\n",
       "0     4700 KEELE ST  43.774939 -79.494257\n",
       "1    4001 LESLIE ST  43.769228 -79.362558\n",
       "2  2075 BAYVIEW AVE  43.721997 -79.372807"
      ]
     },
     "execution_count": 23,
     "metadata": {},
     "output_type": "execute_result"
    }
   ],
   "source": [
    "# check first 3 rows\n",
    "loc_df.head(3)"
   ]
  },
  {
   "cell_type": "code",
   "execution_count": 24,
   "id": "ada2093c",
   "metadata": {},
   "outputs": [
    {
     "data": {
      "text/html": [
       "<div>\n",
       "<style scoped>\n",
       "    .dataframe tbody tr th:only-of-type {\n",
       "        vertical-align: middle;\n",
       "    }\n",
       "\n",
       "    .dataframe tbody tr th {\n",
       "        vertical-align: top;\n",
       "    }\n",
       "\n",
       "    .dataframe thead th {\n",
       "        text-align: right;\n",
       "    }\n",
       "</style>\n",
       "<table border=\"1\" class=\"dataframe\">\n",
       "  <thead>\n",
       "    <tr style=\"text-align: right;\">\n",
       "      <th></th>\n",
       "      <th>tag_number_masked</th>\n",
       "      <th>infraction_code</th>\n",
       "      <th>infraction_description</th>\n",
       "      <th>set_fine_amount</th>\n",
       "      <th>location</th>\n",
       "      <th>province</th>\n",
       "      <th>hour</th>\n",
       "      <th>min</th>\n",
       "      <th>Day</th>\n",
       "      <th>Month</th>\n",
       "      <th>Year</th>\n",
       "      <th>latitude</th>\n",
       "      <th>longitude</th>\n",
       "    </tr>\n",
       "  </thead>\n",
       "  <tbody>\n",
       "    <tr>\n",
       "      <th>0</th>\n",
       "      <td>***80959</td>\n",
       "      <td>3</td>\n",
       "      <td>PARK ON PRIVATE PROPERTY</td>\n",
       "      <td>30</td>\n",
       "      <td>29 ROSEBANK DR</td>\n",
       "      <td>ON</td>\n",
       "      <td>0</td>\n",
       "      <td>5</td>\n",
       "      <td>1</td>\n",
       "      <td>1</td>\n",
       "      <td>2020</td>\n",
       "      <td>43.792145</td>\n",
       "      <td>-79.234291</td>\n",
       "    </tr>\n",
       "    <tr>\n",
       "      <th>1</th>\n",
       "      <td>***67511</td>\n",
       "      <td>3</td>\n",
       "      <td>PARK ON PRIVATE PROPERTY</td>\n",
       "      <td>30</td>\n",
       "      <td>29 ROSEBANK DR</td>\n",
       "      <td>QC</td>\n",
       "      <td>18</td>\n",
       "      <td>6</td>\n",
       "      <td>2</td>\n",
       "      <td>1</td>\n",
       "      <td>2020</td>\n",
       "      <td>43.792145</td>\n",
       "      <td>-79.234291</td>\n",
       "    </tr>\n",
       "    <tr>\n",
       "      <th>2</th>\n",
       "      <td>***67512</td>\n",
       "      <td>3</td>\n",
       "      <td>PARK ON PRIVATE PROPERTY</td>\n",
       "      <td>30</td>\n",
       "      <td>29 ROSEBANK DR</td>\n",
       "      <td>ON</td>\n",
       "      <td>18</td>\n",
       "      <td>8</td>\n",
       "      <td>2</td>\n",
       "      <td>1</td>\n",
       "      <td>2020</td>\n",
       "      <td>43.792145</td>\n",
       "      <td>-79.234291</td>\n",
       "    </tr>\n",
       "  </tbody>\n",
       "</table>\n",
       "</div>"
      ],
      "text/plain": [
       "  tag_number_masked  infraction_code    infraction_description  \\\n",
       "0          ***80959                3  PARK ON PRIVATE PROPERTY   \n",
       "1          ***67511                3  PARK ON PRIVATE PROPERTY   \n",
       "2          ***67512                3  PARK ON PRIVATE PROPERTY   \n",
       "\n",
       "   set_fine_amount        location province  hour  min  Day  Month  Year  \\\n",
       "0               30  29 ROSEBANK DR       ON     0    5    1      1  2020   \n",
       "1               30  29 ROSEBANK DR       QC    18    6    2      1  2020   \n",
       "2               30  29 ROSEBANK DR       ON    18    8    2      1  2020   \n",
       "\n",
       "    latitude  longitude  \n",
       "0  43.792145 -79.234291  \n",
       "1  43.792145 -79.234291  \n",
       "2  43.792145 -79.234291  "
      ]
     },
     "metadata": {},
     "output_type": "display_data"
    },
    {
     "name": "stdout",
     "output_type": "stream",
     "text": [
      "Shape:  (1883653, 13)\n"
     ]
    }
   ],
   "source": [
    "## merging our dataframe with location dataframe\n",
    "## this will reduce number of rows of original dataset because the location df doesn't cover all unique loactions\n",
    "## In next steps I will collect the remaining data for location to keep all the rows\n",
    "\n",
    "df1 = pd.merge(df, loc_df, on= \"location\", how= \"inner\")\n",
    "# check first 3 rows\n",
    "display(df1.head(3))\n",
    "# check the shape\n",
    "print(\"Shape: \", df1.shape)"
   ]
  },
  {
   "cell_type": "code",
   "execution_count": 25,
   "id": "c1cd3424",
   "metadata": {},
   "outputs": [
    {
     "data": {
      "text/html": [
       "<div>\n",
       "<style scoped>\n",
       "    .dataframe tbody tr th:only-of-type {\n",
       "        vertical-align: middle;\n",
       "    }\n",
       "\n",
       "    .dataframe tbody tr th {\n",
       "        vertical-align: top;\n",
       "    }\n",
       "\n",
       "    .dataframe thead th {\n",
       "        text-align: right;\n",
       "    }\n",
       "</style>\n",
       "<table border=\"1\" class=\"dataframe\">\n",
       "  <thead>\n",
       "    <tr style=\"text-align: right;\">\n",
       "      <th></th>\n",
       "      <th>tag_number_masked</th>\n",
       "      <th>infraction_code</th>\n",
       "      <th>infraction_description</th>\n",
       "      <th>set_fine_amount</th>\n",
       "      <th>province</th>\n",
       "      <th>hour</th>\n",
       "      <th>min</th>\n",
       "      <th>Day</th>\n",
       "      <th>Month</th>\n",
       "      <th>Year</th>\n",
       "      <th>latitude</th>\n",
       "      <th>longitude</th>\n",
       "    </tr>\n",
       "  </thead>\n",
       "  <tbody>\n",
       "    <tr>\n",
       "      <th>0</th>\n",
       "      <td>***80959</td>\n",
       "      <td>3</td>\n",
       "      <td>PARK ON PRIVATE PROPERTY</td>\n",
       "      <td>30</td>\n",
       "      <td>ON</td>\n",
       "      <td>0</td>\n",
       "      <td>5</td>\n",
       "      <td>1</td>\n",
       "      <td>1</td>\n",
       "      <td>2020</td>\n",
       "      <td>43.792145</td>\n",
       "      <td>-79.234291</td>\n",
       "    </tr>\n",
       "    <tr>\n",
       "      <th>1</th>\n",
       "      <td>***67511</td>\n",
       "      <td>3</td>\n",
       "      <td>PARK ON PRIVATE PROPERTY</td>\n",
       "      <td>30</td>\n",
       "      <td>QC</td>\n",
       "      <td>18</td>\n",
       "      <td>6</td>\n",
       "      <td>2</td>\n",
       "      <td>1</td>\n",
       "      <td>2020</td>\n",
       "      <td>43.792145</td>\n",
       "      <td>-79.234291</td>\n",
       "    </tr>\n",
       "    <tr>\n",
       "      <th>2</th>\n",
       "      <td>***67512</td>\n",
       "      <td>3</td>\n",
       "      <td>PARK ON PRIVATE PROPERTY</td>\n",
       "      <td>30</td>\n",
       "      <td>ON</td>\n",
       "      <td>18</td>\n",
       "      <td>8</td>\n",
       "      <td>2</td>\n",
       "      <td>1</td>\n",
       "      <td>2020</td>\n",
       "      <td>43.792145</td>\n",
       "      <td>-79.234291</td>\n",
       "    </tr>\n",
       "  </tbody>\n",
       "</table>\n",
       "</div>"
      ],
      "text/plain": [
       "  tag_number_masked  infraction_code    infraction_description  \\\n",
       "0          ***80959                3  PARK ON PRIVATE PROPERTY   \n",
       "1          ***67511                3  PARK ON PRIVATE PROPERTY   \n",
       "2          ***67512                3  PARK ON PRIVATE PROPERTY   \n",
       "\n",
       "   set_fine_amount province  hour  min  Day  Month  Year   latitude  longitude  \n",
       "0               30       ON     0    5    1      1  2020  43.792145 -79.234291  \n",
       "1               30       QC    18    6    2      1  2020  43.792145 -79.234291  \n",
       "2               30       ON    18    8    2      1  2020  43.792145 -79.234291  "
      ]
     },
     "execution_count": 25,
     "metadata": {},
     "output_type": "execute_result"
    }
   ],
   "source": [
    "# drop original location column\n",
    "df1 = df1.drop(\"location\", axis = 1)\n",
    "# check\n",
    "df1.head(3)"
   ]
  },
  {
   "cell_type": "markdown",
   "id": "45cca90d",
   "metadata": {},
   "source": [
    "## EDA and Data Preprocessing"
   ]
  },
  {
   "cell_type": "code",
   "execution_count": 26,
   "id": "2cfe2c32",
   "metadata": {},
   "outputs": [
    {
     "data": {
      "image/png": "[encoded data removed]",
      "text/plain": [
       "<Figure size 640x480 with 1 Axes>"
      ]
     },
     "metadata": {},
     "output_type": "display_data"
    }
   ],
   "source": [
    "# visualize number of tickets per hour\n",
    "ticket_count_per_hour = df1.groupby('hour')['infraction_code'].count().sort_values(ascending = False).reset_index().rename(columns = {'infraction_code':'Count'})\n",
    "sns.barplot(\n",
    "    data = ticket_count_per_hour,\n",
    "    x = 'hour',\n",
    "    y = 'Count',\n",
    "    color='blue'\n",
    ")\n",
    "plt.title('Number Of Tickets Per Hour')\n",
    "plt.show()"
   ]
  },
  {
   "cell_type": "markdown",
   "id": "4bc8dcf2",
   "metadata": {},
   "source": [
    "- The number of tickets peaks at 2 and 3 am and from 9 am to 2 pm. It decreases in the evening and early morning hours between 5 and 7 am."
   ]
  },
  {
   "cell_type": "code",
   "execution_count": 27,
   "id": "74e9d7fa",
   "metadata": {},
   "outputs": [
    {
     "data": {
      "image/png": "[encoded data removed]",
      "text/plain": [
       "<Figure size 640x480 with 1 Axes>"
      ]
     },
     "metadata": {},
     "output_type": "display_data"
    }
   ],
   "source": [
    "# visualize number of tickets per day\n",
    "ticket_count_per_day = df1.groupby('Day')['infraction_code'].count().sort_values(ascending = False).reset_index().rename(columns = {'infraction_code':'Count'})\n",
    "sns.barplot(\n",
    "    data = ticket_count_per_day,\n",
    "    x = 'Day',\n",
    "    y = 'Count',\n",
    "    color='blue'\n",
    ")\n",
    "plt.xticks(rotation = 90)\n",
    "plt.title('Number Of Tickets Per Day')\n",
    "plt.show()"
   ]
  },
  {
   "cell_type": "markdown",
   "id": "892910cc",
   "metadata": {},
   "source": [
    "As observed in the plot, there is no significant difference in the number of tickets throughout the month. Only a decline is noticeable on the 31st, likely due to traffic enforcement officers meeting their quota and implementing more relaxed penalty enforcement."
   ]
  },
  {
   "cell_type": "code",
   "execution_count": 28,
   "id": "f080cd21",
   "metadata": {},
   "outputs": [
    {
     "data": {
      "image/png": "[encoded data removed]",
      "text/plain": [
       "<Figure size 640x480 with 1 Axes>"
      ]
     },
     "metadata": {},
     "output_type": "display_data"
    }
   ],
   "source": [
    "# visualize number of tickets per year\n",
    "ticket_count_per_day = df.groupby('Year')['infraction_code'].count().sort_values(ascending = False).reset_index().rename(columns = {'infraction_code':'Count'})\n",
    "sns.barplot(\n",
    "    data = ticket_count_per_day,\n",
    "    x = 'Year',\n",
    "    y = 'Count',\n",
    "    color='blue'\n",
    ")\n",
    "plt.xticks(rotation = 90)\n",
    "plt.title('Number Of Tickets Per Year')\n",
    "plt.show()"
   ]
  },
  {
   "cell_type": "code",
   "execution_count": 29,
   "id": "94f7bff1",
   "metadata": {},
   "outputs": [
    {
     "data": {
      "image/png": "[encoded data removed]",
      "text/plain": [
       "<Figure size 640x480 with 1 Axes>"
      ]
     },
     "metadata": {},
     "output_type": "display_data"
    }
   ],
   "source": [
    "# visualize number of tickets per month compared for three years\n",
    "df_temp = df.groupby([\"Year\", \"Month\"])[\"infraction_code\"].count().reset_index().rename(columns = {'infraction_code':'Count'})\n",
    "\n",
    "ax = sns.barplot(\n",
    "    data = df_temp,\n",
    "    x = \"Month\",\n",
    "    y = \"Count\", \n",
    "    hue = \"Year\",\n",
    "    palette=\"Paired\"\n",
    ")\n",
    "# ax.legend(loc=\"upper right\")\n",
    "ax.legend(loc=\"upper right\", bbox_to_anchor=(1.2, 1))\n",
    "plt.show()\n",
    "# df_temp"
   ]
  },
  {
   "cell_type": "markdown",
   "id": "d6cf6f66",
   "metadata": {},
   "source": [
    "We observed a drastic decline in April 2020 due to Covid-19. It started climbing up in June but didn't reach the pre-pandemic levels."
   ]
  },
  {
   "cell_type": "code",
   "execution_count": 30,
   "id": "fc378ab7",
   "metadata": {},
   "outputs": [
    {
     "data": {
      "text/plain": [
       "<Axes: xlabel='Month', ylabel='Day'>"
      ]
     },
     "execution_count": 30,
     "metadata": {},
     "output_type": "execute_result"
    },
    {
     "data": {
      "image/png": "[encoded data removed]",
      "text/plain": [
       "<Figure size 1400x1000 with 2 Axes>"
      ]
     },
     "metadata": {},
     "output_type": "display_data"
    }
   ],
   "source": [
    "# visualize the ticket numbers for each day of the month for the entire period\n",
    "df_temp =  df.groupby([\"Month\", \"Day\"])[\"infraction_code\"].count().reset_index(name = \"Count\")\n",
    "pivot_table = df_temp.pivot_table(values='Count', index='Day', columns='Month', aggfunc='sum', fill_value=0)\n",
    "# sns.heatmap(pivot_table)\n",
    "plt.figure(figsize=(14, 10))\n",
    "\n",
    "# use pivot table to plot a heatmap\n",
    "sns.heatmap(pivot_table, cmap='YlGnBu',  fmt=\".2f\", linewidths=.5)"
   ]
  },
  {
   "cell_type": "markdown",
   "id": "34a9deab",
   "metadata": {},
   "source": [
    "A few observations from the plot:\n",
    "- We can see that the number of tickets declines on 31st of the month, which we already observed above. \n",
    "- The number of tickets inceases on 16th of September. That can be attributed to the beginning of the school year.\n",
    "- Also, it decreases during Christmas time.\n",
    "- In general, the number of tickets is higher from June to November."
   ]
  },
  {
   "cell_type": "code",
   "execution_count": 31,
   "id": "0092f5b2",
   "metadata": {},
   "outputs": [
    {
     "data": {
      "image/png": "[encoded data removed]",
      "text/plain": [
       "<Figure size 1600x600 with 1 Axes>"
      ]
     },
     "metadata": {},
     "output_type": "display_data"
    }
   ],
   "source": [
    "# visualize top 20 infractions\n",
    "infrac_desc_count = df.groupby('infraction_description')['infraction_code'].count().sort_values(ascending = False).reset_index().rename(columns = {'infraction_code':'Count'})\n",
    "top_20 = infrac_desc_count[:20]\n",
    "plt.figure(figsize=(16,6))\n",
    "sns.barplot(\n",
    "    data = top_20,\n",
    "    x = 'infraction_description',\n",
    "    y = 'Count',\n",
    "    color = \"green\",\n",
    ")\n",
    "plt.title('Number of tickets per infraction_description', weight = \"bold\")\n",
    "plt.xticks(rotation = 90)\n",
    "plt.show()"
   ]
  },
  {
   "cell_type": "markdown",
   "id": "4728e77d",
   "metadata": {},
   "source": [
    "We observe from the plot that the highest infraction was Park on Private Property."
   ]
  },
  {
   "cell_type": "markdown",
   "id": "55a40168",
   "metadata": {},
   "source": [
    "## Modelling "
   ]
  },
  {
   "cell_type": "markdown",
   "id": "e3d0b066",
   "metadata": {},
   "source": [
    "Let's prepare our Dataset for modelling."
   ]
  },
  {
   "cell_type": "code",
   "execution_count": 32,
   "id": "262761f3",
   "metadata": {},
   "outputs": [
    {
     "data": {
      "text/html": [
       "<div>\n",
       "<style scoped>\n",
       "    .dataframe tbody tr th:only-of-type {\n",
       "        vertical-align: middle;\n",
       "    }\n",
       "\n",
       "    .dataframe tbody tr th {\n",
       "        vertical-align: top;\n",
       "    }\n",
       "\n",
       "    .dataframe thead th {\n",
       "        text-align: right;\n",
       "    }\n",
       "</style>\n",
       "<table border=\"1\" class=\"dataframe\">\n",
       "  <thead>\n",
       "    <tr style=\"text-align: right;\">\n",
       "      <th></th>\n",
       "      <th>set_fine_amount</th>\n",
       "      <th>hour</th>\n",
       "      <th>min</th>\n",
       "      <th>Day</th>\n",
       "      <th>Month</th>\n",
       "      <th>Year</th>\n",
       "      <th>latitude</th>\n",
       "      <th>longitude</th>\n",
       "    </tr>\n",
       "  </thead>\n",
       "  <tbody>\n",
       "    <tr>\n",
       "      <th>0</th>\n",
       "      <td>30</td>\n",
       "      <td>0</td>\n",
       "      <td>5</td>\n",
       "      <td>1</td>\n",
       "      <td>1</td>\n",
       "      <td>2020</td>\n",
       "      <td>43.792145</td>\n",
       "      <td>-79.234291</td>\n",
       "    </tr>\n",
       "    <tr>\n",
       "      <th>1</th>\n",
       "      <td>30</td>\n",
       "      <td>18</td>\n",
       "      <td>6</td>\n",
       "      <td>2</td>\n",
       "      <td>1</td>\n",
       "      <td>2020</td>\n",
       "      <td>43.792145</td>\n",
       "      <td>-79.234291</td>\n",
       "    </tr>\n",
       "    <tr>\n",
       "      <th>2</th>\n",
       "      <td>30</td>\n",
       "      <td>18</td>\n",
       "      <td>8</td>\n",
       "      <td>2</td>\n",
       "      <td>1</td>\n",
       "      <td>2020</td>\n",
       "      <td>43.792145</td>\n",
       "      <td>-79.234291</td>\n",
       "    </tr>\n",
       "  </tbody>\n",
       "</table>\n",
       "</div>"
      ],
      "text/plain": [
       "   set_fine_amount  hour  min  Day  Month  Year   latitude  longitude\n",
       "0               30     0    5    1      1  2020  43.792145 -79.234291\n",
       "1               30    18    6    2      1  2020  43.792145 -79.234291\n",
       "2               30    18    8    2      1  2020  43.792145 -79.234291"
      ]
     },
     "execution_count": 32,
     "metadata": {},
     "output_type": "execute_result"
    }
   ],
   "source": [
    "# drop unnecessary columns.\n",
    "df2 = df1.drop([\"tag_number_masked\", \"infraction_code\", \"infraction_description\", \"province\"], axis = 1)\n",
    "# check\n",
    "df2.head(3)"
   ]
  },
  {
   "cell_type": "code",
   "execution_count": 33,
   "id": "9dd6d9fa",
   "metadata": {},
   "outputs": [
    {
     "data": {
      "text/plain": [
       "(1883653, 8)"
      ]
     },
     "execution_count": 33,
     "metadata": {},
     "output_type": "execute_result"
    }
   ],
   "source": [
    "# check the shape of the dataset\n",
    "df2.shape"
   ]
  },
  {
   "cell_type": "markdown",
   "id": "7b6d0355",
   "metadata": {},
   "source": [
    "There are 1883653 rows and 8 columns."
   ]
  },
  {
   "cell_type": "code",
   "execution_count": 34,
   "id": "9f369fb7",
   "metadata": {},
   "outputs": [],
   "source": [
    "# save the clean data for advance modelling\n",
    "df2.to_csv(\"full_data.csv\", index = False)"
   ]
  },
  {
   "cell_type": "code",
   "execution_count": 35,
   "id": "c7acdd95",
   "metadata": {},
   "outputs": [],
   "source": [
    "# since the dataset is too big, it takes too long to train the model so I decided to keep less rows for training\n",
    "df3 = df2.sample(frac=0.3)"
   ]
  },
  {
   "cell_type": "code",
   "execution_count": 36,
   "id": "f5909254",
   "metadata": {},
   "outputs": [
    {
     "data": {
      "text/plain": [
       "<Axes: >"
      ]
     },
     "execution_count": 36,
     "metadata": {},
     "output_type": "execute_result"
    },
    {
     "data": {
      "image/png": "[encoded data removed]",
      "text/plain": [
       "<Figure size 640x480 with 2 Axes>"
      ]
     },
     "metadata": {},
     "output_type": "display_data"
    }
   ],
   "source": [
    "# check correlation\n",
    "# draw a heatmap\n",
    "corr = df3.corr()\n",
    "sns.heatmap(corr, cmap='viridis', annot=True, fmt=\".2f\", linewidths=.5)"
   ]
  },
  {
   "cell_type": "markdown",
   "id": "fbddc90f",
   "metadata": {},
   "source": [
    "- After examining the above correlation heatmap I observed that there is a positve correlation of `set_fine_amount` column with `hour` column, also there is some poitive correlation between `longitude` and `year` columns. However other variables have slightly  negative correlation with target column."
   ]
  },
  {
   "cell_type": "markdown",
   "id": "35971611",
   "metadata": {},
   "source": [
    "Check the frequent fine amounts."
   ]
  },
  {
   "cell_type": "code",
   "execution_count": 37,
   "id": "b8fb9a1e",
   "metadata": {},
   "outputs": [],
   "source": [
    "# check fine amount values\n",
    "freq_count_set_fine_amount = df2['set_fine_amount'].value_counts()"
   ]
  },
  {
   "cell_type": "code",
   "execution_count": 38,
   "id": "304703ad",
   "metadata": {},
   "outputs": [
    {
     "data": {
      "text/plain": [
       "set_fine_amount\n",
       "30     1178716\n",
       "100     290626\n",
       "50      156322\n",
       "75       82374\n",
       "40       71991\n",
       "150      48983\n",
       "450      21196\n",
       "250      16459\n",
       "60       16051\n",
       "0          546\n",
       "300        250\n",
       "55          68\n",
       "90          51\n",
       "15          15\n",
       "200          5\n",
       "Name: count, dtype: int64"
      ]
     },
     "execution_count": 38,
     "metadata": {},
     "output_type": "execute_result"
    }
   ],
   "source": [
    "# print fine amount values\n",
    "freq_count_set_fine_amount"
   ]
  },
  {
   "cell_type": "code",
   "execution_count": 39,
   "id": "b0fcceb9",
   "metadata": {},
   "outputs": [
    {
     "data": {
      "text/plain": [
       "<function matplotlib.pyplot.show(close=None, block=None)>"
      ]
     },
     "execution_count": 39,
     "metadata": {},
     "output_type": "execute_result"
    },
    {
     "data": {
      "image/png": "[encoded data removed]",
      "text/plain": [
       "<Figure size 640x480 with 1 Axes>"
      ]
     },
     "metadata": {},
     "output_type": "display_data"
    }
   ],
   "source": [
    "# visualize fine amounts\n",
    "sns.barplot(\n",
    "    x = freq_count_set_fine_amount.index,\n",
    "    y = freq_count_set_fine_amount.values,\n",
    "    color='blue'\n",
    ")\n",
    "plt.title(\"Distribution of Fine Amounts\")\n",
    "plt.show"
   ]
  },
  {
   "cell_type": "code",
   "execution_count": 40,
   "id": "178440e2",
   "metadata": {},
   "outputs": [],
   "source": [
    "# pull out the X and y\n",
    "\n",
    "X = df3.drop('set_fine_amount', axis = 1)\n",
    "y = df3['set_fine_amount']\n"
   ]
  },
  {
   "cell_type": "code",
   "execution_count": 41,
   "id": "23d19aca",
   "metadata": {},
   "outputs": [],
   "source": [
    "# replace the set_fine_amount with classes to use in the model\n",
    "replace_dict = {0: 0, 15: 1, 30: 2, 40: 3, 50: 4, 55: 5, 60: 6, 75: 7, 90: 8, 100: 9, 150: 10, 200: 11, 250: 12, 300: 13, 450: 14}\n",
    "y = y.replace(replace_dict)"
   ]
  },
  {
   "cell_type": "code",
   "execution_count": 42,
   "id": "9859446c",
   "metadata": {},
   "outputs": [],
   "source": [
    "# Train-Test Split\n",
    "from sklearn.model_selection import train_test_split\n",
    "\n",
    "X_train, X_test, y_train, y_test = train_test_split(X, y, test_size=0.20, random_state=42)"
   ]
  },
  {
   "cell_type": "markdown",
   "id": "57d00831",
   "metadata": {},
   "source": [
    "### Functions \n"
   ]
  },
  {
   "cell_type": "code",
   "execution_count": 43,
   "id": "e1d0a874",
   "metadata": {},
   "outputs": [],
   "source": [
    "# create a function to use for all baseline models to print the Classification Report\n",
    "def show_model_report(model, X_test, y_test):\n",
    "    y_pred = model.predict(X_test)\n",
    "    print(\"Classification Report\")\n",
    "    report = classification_report(y_test, y_pred)\n",
    "    print(report)"
   ]
  },
  {
   "cell_type": "code",
   "execution_count": 44,
   "id": "7205310b",
   "metadata": {},
   "outputs": [],
   "source": [
    "# create grid_search_cv function to get the best estimator for all baseline models\n",
    "def grid_search_cv(model, param, X_train, y_train):\n",
    "    gs = GridSearchCV(model,param, cv = 2)\n",
    "    gs.fit(X_train,y_train)\n",
    "    \n",
    "    gs_results = pd.DataFrame(gs.cv_results_)\n",
    "    gs_results = gs_results.sort_values(by = \"mean_test_score\", ascending = False)\n",
    "    \n",
    "    print(\"Performance of top 10 Model on  Parameters\")\n",
    "    display(gs_results.head(10))\n",
    "    \n",
    "    best_estimator = gs.best_estimator_\n",
    "    \n",
    "    return best_estimator"
   ]
  },
  {
   "cell_type": "markdown",
   "id": "7fe5121f",
   "metadata": {},
   "source": [
    "### Baseline Models"
   ]
  },
  {
   "cell_type": "code",
   "execution_count": 46,
   "id": "88500e63",
   "metadata": {},
   "outputs": [
    {
     "data": {
      "text/html": [
       "<style>#sk-container-id-1 {color: black;}#sk-container-id-1 pre{padding: 0;}#sk-container-id-1 div.sk-toggleable {background-color: white;}#sk-container-id-1 label.sk-toggleable__label {cursor: pointer;display: block;width: 100%;margin-bottom: 0;padding: 0.3em;box-sizing: border-box;text-align: center;}#sk-container-id-1 label.sk-toggleable__label-arrow:before {content: \"▸\";float: left;margin-right: 0.25em;color: #696969;}#sk-container-id-1 label.sk-toggleable__label-arrow:hover:before {color: black;}#sk-container-id-1 div.sk-estimator:hover label.sk-toggleable__label-arrow:before {color: black;}#sk-container-id-1 div.sk-toggleable__content {max-height: 0;max-width: 0;overflow: hidden;text-align: left;background-color: #f0f8ff;}#sk-container-id-1 div.sk-toggleable__content pre {margin: 0.2em;color: black;border-radius: 0.25em;background-color: #f0f8ff;}#sk-container-id-1 input.sk-toggleable__control:checked~div.sk-toggleable__content {max-height: 200px;max-width: 100%;overflow: auto;}#sk-container-id-1 input.sk-toggleable__control:checked~label.sk-toggleable__label-arrow:before {content: \"▾\";}#sk-container-id-1 div.sk-estimator input.sk-toggleable__control:checked~label.sk-toggleable__label {background-color: #d4ebff;}#sk-container-id-1 div.sk-label input.sk-toggleable__control:checked~label.sk-toggleable__label {background-color: #d4ebff;}#sk-container-id-1 input.sk-hidden--visually {border: 0;clip: rect(1px 1px 1px 1px);clip: rect(1px, 1px, 1px, 1px);height: 1px;margin: -1px;overflow: hidden;padding: 0;position: absolute;width: 1px;}#sk-container-id-1 div.sk-estimator {font-family: monospace;background-color: #f0f8ff;border: 1px dotted black;border-radius: 0.25em;box-sizing: border-box;margin-bottom: 0.5em;}#sk-container-id-1 div.sk-estimator:hover {background-color: #d4ebff;}#sk-container-id-1 div.sk-parallel-item::after {content: \"\";width: 100%;border-bottom: 1px solid gray;flex-grow: 1;}#sk-container-id-1 div.sk-label:hover label.sk-toggleable__label {background-color: #d4ebff;}#sk-container-id-1 div.sk-serial::before {content: \"\";position: absolute;border-left: 1px solid gray;box-sizing: border-box;top: 0;bottom: 0;left: 50%;z-index: 0;}#sk-container-id-1 div.sk-serial {display: flex;flex-direction: column;align-items: center;background-color: white;padding-right: 0.2em;padding-left: 0.2em;position: relative;}#sk-container-id-1 div.sk-item {position: relative;z-index: 1;}#sk-container-id-1 div.sk-parallel {display: flex;align-items: stretch;justify-content: center;background-color: white;position: relative;}#sk-container-id-1 div.sk-item::before, #sk-container-id-1 div.sk-parallel-item::before {content: \"\";position: absolute;border-left: 1px solid gray;box-sizing: border-box;top: 0;bottom: 0;left: 50%;z-index: -1;}#sk-container-id-1 div.sk-parallel-item {display: flex;flex-direction: column;z-index: 1;position: relative;background-color: white;}#sk-container-id-1 div.sk-parallel-item:first-child::after {align-self: flex-end;width: 50%;}#sk-container-id-1 div.sk-parallel-item:last-child::after {align-self: flex-start;width: 50%;}#sk-container-id-1 div.sk-parallel-item:only-child::after {width: 0;}#sk-container-id-1 div.sk-dashed-wrapped {border: 1px dashed gray;margin: 0 0.4em 0.5em 0.4em;box-sizing: border-box;padding-bottom: 0.4em;background-color: white;}#sk-container-id-1 div.sk-label label {font-family: monospace;font-weight: bold;display: inline-block;line-height: 1.2em;}#sk-container-id-1 div.sk-label-container {text-align: center;}#sk-container-id-1 div.sk-container {/* jupyter's `normalize.less` sets `[hidden] { display: none; }` but bootstrap.min.css set `[hidden] { display: none !important; }` so we also need the `!important` here to be able to override the default hidden behavior on the sphinx rendered scikit-learn.org. See: https://github.com/scikit-learn/scikit-learn/issues/21755 */display: inline-block !important;position: relative;}#sk-container-id-1 div.sk-text-repr-fallback {display: none;}</style><div id=\"sk-container-id-1\" class=\"sk-top-container\"><div class=\"sk-text-repr-fallback\"><pre>LogisticRegression()</pre><b>In a Jupyter environment, please rerun this cell to show the HTML representation or trust the notebook. <br />On GitHub, the HTML representation is unable to render, please try loading this page with nbviewer.org.</b></div><div class=\"sk-container\" hidden><div class=\"sk-item\"><div class=\"sk-estimator sk-toggleable\"><input class=\"sk-toggleable__control sk-hidden--visually\" id=\"sk-estimator-id-1\" type=\"checkbox\" checked><label for=\"sk-estimator-id-1\" class=\"sk-toggleable__label sk-toggleable__label-arrow\">LogisticRegression</label><div class=\"sk-toggleable__content\"><pre>LogisticRegression()</pre></div></div></div></div></div>"
      ],
      "text/plain": [
       "LogisticRegression()"
      ]
     },
     "execution_count": 46,
     "metadata": {},
     "output_type": "execute_result"
    }
   ],
   "source": [
    "# first base model to try is Logistic Regression\n",
    "# import libraries\n",
    "from sklearn.linear_model import LogisticRegression\n",
    "from sklearn.metrics import classification_report, confusion_matrix\n",
    "\n",
    "base_model = LogisticRegression()\n",
    "base_model.fit(X_train, y_train)"
   ]
  },
  {
   "cell_type": "code",
   "execution_count": 47,
   "id": "c879f55b",
   "metadata": {},
   "outputs": [
    {
     "name": "stdout",
     "output_type": "stream",
     "text": [
      "Classification Report\n",
      "              precision    recall  f1-score   support\n",
      "\n",
      "           0       0.00      0.00      0.00        38\n",
      "           2       0.63      1.00      0.77     70850\n",
      "           3       0.00      0.00      0.00      4422\n",
      "           4       0.00      0.00      0.00      9516\n",
      "           5       0.00      0.00      0.00         2\n",
      "           6       0.00      0.00      0.00       992\n",
      "           7       0.00      0.00      0.00      4792\n",
      "           8       0.00      0.00      0.00         6\n",
      "           9       0.22      0.00      0.00     17166\n",
      "          10       0.00      0.00      0.00      2908\n",
      "          12       0.00      0.00      0.00      1013\n",
      "          13       0.00      0.00      0.00        18\n",
      "          14       0.00      0.00      0.00      1297\n",
      "\n",
      "    accuracy                           0.63    113020\n",
      "   macro avg       0.07      0.08      0.06    113020\n",
      "weighted avg       0.43      0.63      0.48    113020\n",
      "\n"
     ]
    }
   ],
   "source": [
    "# print the report\n",
    "show_model_report(base_model, X_test, y_test)"
   ]
  },
  {
   "cell_type": "markdown",
   "id": "168cb989",
   "metadata": {},
   "source": [
    "The accuracy is too low and it performs good only for one class."
   ]
  },
  {
   "cell_type": "markdown",
   "id": "d2414b0e",
   "metadata": {},
   "source": [
    "### Experimenting With Other Algorithms"
   ]
  },
  {
   "cell_type": "code",
   "execution_count": 48,
   "id": "f93e5458",
   "metadata": {},
   "outputs": [],
   "source": [
    "# import libraries\n",
    "from sklearn.ensemble import (\n",
    "            AdaBoostClassifier,\n",
    "            RandomForestClassifier\n",
    ")\n",
    "from xgboost import XGBClassifier\n",
    "from sklearn.model_selection import GridSearchCV\n",
    "from IPython.display import display"
   ]
  },
  {
   "cell_type": "code",
   "execution_count": 49,
   "id": "556bbe57",
   "metadata": {},
   "outputs": [
    {
     "name": "stdout",
     "output_type": "stream",
     "text": [
      "Classification Report\n",
      "              precision    recall  f1-score   support\n",
      "\n",
      "           0       0.18      0.05      0.08        38\n",
      "           2       0.85      0.96      0.90     70850\n",
      "           3       0.82      0.60      0.69      4422\n",
      "           4       0.78      0.52      0.62      9516\n",
      "           5       1.00      0.50      0.67         2\n",
      "           6       0.64      0.34      0.44       992\n",
      "           7       0.96      0.93      0.95      4792\n",
      "           8       0.00      0.00      0.00         6\n",
      "           9       0.77      0.68      0.73     17166\n",
      "          10       0.79      0.49      0.60      2908\n",
      "          12       0.80      0.28      0.41      1013\n",
      "          13       0.50      0.17      0.25        18\n",
      "          14       0.66      0.29      0.40      1297\n",
      "\n",
      "    accuracy                           0.84    113020\n",
      "   macro avg       0.67      0.45      0.52    113020\n",
      "weighted avg       0.83      0.84      0.82    113020\n",
      "\n"
     ]
    }
   ],
   "source": [
    "# fit Random Forest\n",
    "model1 = RandomForestClassifier()\n",
    "model1.fit(X_train, y_train)\n",
    "# print Classification Report\n",
    "show_model_report(model1, X_test, y_test)"
   ]
  },
  {
   "cell_type": "markdown",
   "id": "d7cfa274",
   "metadata": {},
   "source": [
    "The accuracy is not bad but it performs poor for some classes."
   ]
  },
  {
   "cell_type": "code",
   "execution_count": 50,
   "id": "6e204cfa",
   "metadata": {
    "scrolled": true
   },
   "outputs": [
    {
     "name": "stdout",
     "output_type": "stream",
     "text": [
      "Classification Report\n",
      "              precision    recall  f1-score   support\n",
      "\n",
      "           0       0.00      0.00      0.00        38\n",
      "           1       0.00      0.00      0.00         0\n",
      "           2       0.63      0.99      0.77     70850\n",
      "           3       0.00      0.00      0.00      4422\n",
      "           4       0.00      0.00      0.00      9516\n",
      "           5       0.00      0.00      0.00         2\n",
      "           6       0.00      0.00      0.00       992\n",
      "           7       0.00      0.00      0.00      4792\n",
      "           8       0.00      0.00      0.00         6\n",
      "           9       0.00      0.00      0.00     17166\n",
      "          10       0.00      0.00      0.00      2908\n",
      "          12       0.00      0.00      0.00      1013\n",
      "          13       0.00      0.00      0.00        18\n",
      "          14       0.00      0.00      0.00      1297\n",
      "\n",
      "    accuracy                           0.62    113020\n",
      "   macro avg       0.04      0.07      0.05    113020\n",
      "weighted avg       0.39      0.62      0.48    113020\n",
      "\n"
     ]
    }
   ],
   "source": [
    "# fit Ada Boost\n",
    "model2 = AdaBoostClassifier()\n",
    "model2.fit(X_train, y_train)\n",
    "# print Classification Report\n",
    "show_model_report(model2, X_test, y_test)"
   ]
  },
  {
   "cell_type": "markdown",
   "id": "8213ed25",
   "metadata": {},
   "source": [
    "The accuracy is very bad and performance is poor for all classes."
   ]
  },
  {
   "cell_type": "code",
   "execution_count": 51,
   "id": "655250fc",
   "metadata": {},
   "outputs": [
    {
     "name": "stdout",
     "output_type": "stream",
     "text": [
      "Classification Report\n",
      "              precision    recall  f1-score   support\n",
      "\n",
      "           0       0.00      0.00      0.00        38\n",
      "           2       0.85      0.96      0.90     70850\n",
      "           3       0.79      0.65      0.72      4422\n",
      "           4       0.79      0.51      0.62      9516\n",
      "           5       0.00      0.00      0.00         2\n",
      "           6       0.63      0.59      0.61       992\n",
      "           7       0.96      0.95      0.96      4792\n",
      "           8       0.00      0.00      0.00         6\n",
      "           9       0.78      0.67      0.72     17166\n",
      "          10       0.74      0.52      0.61      2908\n",
      "          12       0.73      0.27      0.39      1013\n",
      "          13       0.67      0.11      0.19        18\n",
      "          14       0.68      0.49      0.57      1297\n",
      "\n",
      "    accuracy                           0.84    113020\n",
      "   macro avg       0.59      0.44      0.48    113020\n",
      "weighted avg       0.83      0.84      0.83    113020\n",
      "\n"
     ]
    }
   ],
   "source": [
    "# fit XGBoost\n",
    "model3 = XGBClassifier()\n",
    "model3.fit(X_train, y_train)\n",
    "# print Classification Report\n",
    "show_model_report(model3, X_test, y_test)"
   ]
  },
  {
   "cell_type": "markdown",
   "id": "496d4a89",
   "metadata": {},
   "source": [
    "- After reviewing the classification reports, it's clear that RandomForest and XGBoost are performing well.  Nonetheless, there is a noticeable imbalance in the dataset, where the number of records varies across different classes, potentially leading to poor model performance.\n",
    "\n",
    "- To address this issue, I intend to balance the dataset by keeping an equal number of records for each class. Furthermore, I will remove any class with an insufficient number of records during this balancing process."
   ]
  },
  {
   "cell_type": "code",
   "execution_count": 52,
   "id": "e4891a7d",
   "metadata": {},
   "outputs": [
    {
     "data": {
      "text/plain": [
       "set_fine_amount\n",
       "30     1178716\n",
       "100     290626\n",
       "50      156322\n",
       "75       82374\n",
       "40       71991\n",
       "150      48983\n",
       "450      21196\n",
       "250      16459\n",
       "60       16051\n",
       "0          546\n",
       "300        250\n",
       "55          68\n",
       "90          51\n",
       "15          15\n",
       "200          5\n",
       "Name: count, dtype: int64"
      ]
     },
     "execution_count": 52,
     "metadata": {},
     "output_type": "execute_result"
    }
   ],
   "source": [
    "# check fine amounts\n",
    "df2[\"set_fine_amount\"].value_counts()"
   ]
  },
  {
   "cell_type": "markdown",
   "id": "5606f41a",
   "metadata": {},
   "source": [
    "- The table above illustrates varying numbers of records for each `set_fine_amount`, indicating a state of data imbalance. To address this problem, my approach includes keeping 16000 records for each category. Any category with fewer than 16000 records will be excluded from the dataset."
   ]
  },
  {
   "cell_type": "code",
   "execution_count": 53,
   "id": "b4bcf9be",
   "metadata": {},
   "outputs": [],
   "source": [
    "# pick equal amount of rows for each class\n",
    "freq_count_set_fine_amount = df2[\"set_fine_amount\"].value_counts()\n",
    "dfs = []\n",
    "\n",
    "for CLASS, count in zip(freq_count_set_fine_amount.index, freq_count_set_fine_amount.values):\n",
    "    if count >= 16000:\n",
    "        df_temp = df2[df2['set_fine_amount'] == CLASS].iloc[:16000]\n",
    "        dfs.append(df_temp)\n",
    "    \n",
    "# ref: https://www.dataquest.io/blog/tutorial-advanced-for-loops-python-pandas/\n",
    "# https://www.techversantinfotech.com/python-naming-conventions-points-you-should-know"
   ]
  },
  {
   "cell_type": "code",
   "execution_count": 54,
   "id": "2f2650b6",
   "metadata": {
    "scrolled": true
   },
   "outputs": [
    {
     "data": {
      "text/plain": [
       "set_fine_amount\n",
       "30     16000\n",
       "100    16000\n",
       "50     16000\n",
       "75     16000\n",
       "40     16000\n",
       "150    16000\n",
       "450    16000\n",
       "250    16000\n",
       "60     16000\n",
       "Name: count, dtype: int64"
      ]
     },
     "execution_count": 54,
     "metadata": {},
     "output_type": "execute_result"
    }
   ],
   "source": [
    "# concatenate dfs\n",
    "df4 = pd.concat(dfs)\n",
    "new_freq_count = df4['set_fine_amount'].value_counts()\n",
    "# check\n",
    "new_freq_count"
   ]
  },
  {
   "cell_type": "code",
   "execution_count": 55,
   "id": "f8369d4f",
   "metadata": {},
   "outputs": [],
   "source": [
    "# pick a sample for tuning\n",
    "dfs = []\n",
    "for cls in df4[\"set_fine_amount\"].unique():\n",
    "    temp_df = df4[df4[\"set_fine_amount\"] == cls].sample(1000)\n",
    "    dfs.append(temp_df)\n",
    "    \n",
    "df_tune = pd.concat(dfs)\n",
    "X_tune = df_tune.drop(\"set_fine_amount\", axis = 1)\n",
    "y_tune = df_tune[\"set_fine_amount\"]\n",
    "replace_dict = {30: 0, 40: 1, 50: 2, 60: 3, 75: 4, 100: 5, 150: 6, 250: 7, 450: 8}\n",
    "y_tune = y_tune.replace(replace_dict)"
   ]
  },
  {
   "cell_type": "code",
   "execution_count": 56,
   "id": "f238d044",
   "metadata": {},
   "outputs": [],
   "source": [
    "# pull out the X and y\n",
    "\n",
    "X = df4.drop('set_fine_amount', axis = 1)\n",
    "y = df4['set_fine_amount']\n",
    "replace_dict = {30: 0, 40: 1, 50: 2, 60: 3, 75: 4, 100: 5, 150: 6, 250: 7, 450: 8}\n",
    "y = y.replace(replace_dict)\n",
    "# Train-Test Split\n",
    "from sklearn.model_selection import train_test_split\n",
    "\n",
    "X_train, X_test, y_train, y_test = train_test_split(X, y, test_size=0.20, random_state=42)"
   ]
  },
  {
   "cell_type": "code",
   "execution_count": 57,
   "id": "4d7db9e1",
   "metadata": {},
   "outputs": [],
   "source": [
    "# create a function to visualize feature importance for all models\n",
    "def generate_feature_importance(model):\n",
    "    table = pd.DataFrame(\n",
    "        list(zip(X_train.columns,model.feature_importances_)),\n",
    "        columns = [\"Feature\", \"Importance\"]\n",
    "    ).sort_values(by = \"Importance\", ascending=False)\n",
    "    \n",
    "    # create a bar plot using Seaborn\n",
    "    sns.set(style=\"whitegrid\")\n",
    "    ax = sns.barplot(data = table,x=\"Feature\", y=\"Importance\", palette=\"Blues\")\n",
    "    \n",
    "    # display the values on top of the bars\n",
    "    for i, v in enumerate(table[\"Importance\"]):\n",
    "        ax.text(i, v + 0.001, str(round(v*100,2))+\"%\", ha='center', va='bottom')\n",
    "    \n",
    "    # customize the plot\n",
    "    ax.set(title=f\"Feature Importance {type(model).__name__}\", xlabel=\"Feature\", ylabel=\"Importance\")\n",
    "    \n",
    "    # show the plot\n",
    "    plt.show()"
   ]
  },
  {
   "cell_type": "markdown",
   "id": "d4944127",
   "metadata": {},
   "source": [
    "### RandomForest"
   ]
  },
  {
   "cell_type": "code",
   "execution_count": 58,
   "id": "1b0f6834",
   "metadata": {
    "scrolled": true
   },
   "outputs": [
    {
     "name": "stdout",
     "output_type": "stream",
     "text": [
      "Classification Report\n",
      "              precision    recall  f1-score   support\n",
      "\n",
      "           0       0.93      0.97      0.95      3183\n",
      "           1       0.91      0.92      0.92      3152\n",
      "           2       0.84      0.84      0.84      3268\n",
      "           3       0.92      0.93      0.93      3121\n",
      "           4       0.99      1.00      0.99      3220\n",
      "           5       0.87      0.85      0.86      3230\n",
      "           6       0.91      0.87      0.89      3221\n",
      "           7       0.88      0.91      0.89      3256\n",
      "           8       0.87      0.83      0.85      3149\n",
      "\n",
      "    accuracy                           0.90     28800\n",
      "   macro avg       0.90      0.90      0.90     28800\n",
      "weighted avg       0.90      0.90      0.90     28800\n",
      "\n"
     ]
    }
   ],
   "source": [
    "# instantiate\n",
    "model1 = RandomForestClassifier()\n",
    "# fit\n",
    "model1.fit(X_train, y_train)\n",
    "# print report\n",
    "show_model_report(model1, X_test, y_test)"
   ]
  },
  {
   "cell_type": "markdown",
   "id": "c32c1689",
   "metadata": {},
   "source": [
    "The accuracy is high and performace is good for all classes."
   ]
  },
  {
   "cell_type": "code",
   "execution_count": 60,
   "id": "10a5e38a",
   "metadata": {
    "scrolled": true
   },
   "outputs": [
    {
     "data": {
      "image/png": "[encoded data removed]",
      "text/plain": [
       "<Figure size 640x480 with 1 Axes>"
      ]
     },
     "metadata": {},
     "output_type": "display_data"
    }
   ],
   "source": [
    "# plot feature importance\n",
    "generate_feature_importance(model1)"
   ]
  },
  {
   "cell_type": "markdown",
   "id": "4da41dbe",
   "metadata": {},
   "source": [
    "By looking at the feature importance table we can see that Latitude and Longitude are the most important features with 34.58 and 34.27 respectively."
   ]
  },
  {
   "cell_type": "code",
   "execution_count": 62,
   "id": "2d5754c9",
   "metadata": {},
   "outputs": [
    {
     "name": "stdout",
     "output_type": "stream",
     "text": [
      "Performance of top 10 Model on  Parameters\n"
     ]
    },
    {
     "data": {
      "text/html": [
       "<div>\n",
       "<style scoped>\n",
       "    .dataframe tbody tr th:only-of-type {\n",
       "        vertical-align: middle;\n",
       "    }\n",
       "\n",
       "    .dataframe tbody tr th {\n",
       "        vertical-align: top;\n",
       "    }\n",
       "\n",
       "    .dataframe thead th {\n",
       "        text-align: right;\n",
       "    }\n",
       "</style>\n",
       "<table border=\"1\" class=\"dataframe\">\n",
       "  <thead>\n",
       "    <tr style=\"text-align: right;\">\n",
       "      <th></th>\n",
       "      <th>mean_fit_time</th>\n",
       "      <th>std_fit_time</th>\n",
       "      <th>mean_score_time</th>\n",
       "      <th>std_score_time</th>\n",
       "      <th>param_max_depth</th>\n",
       "      <th>param_min_samples_split</th>\n",
       "      <th>param_n_estimators</th>\n",
       "      <th>params</th>\n",
       "      <th>split0_test_score</th>\n",
       "      <th>split1_test_score</th>\n",
       "      <th>mean_test_score</th>\n",
       "      <th>std_test_score</th>\n",
       "      <th>rank_test_score</th>\n",
       "    </tr>\n",
       "  </thead>\n",
       "  <tbody>\n",
       "    <tr>\n",
       "      <th>45</th>\n",
       "      <td>1.081206</td>\n",
       "      <td>0.005510</td>\n",
       "      <td>0.093155</td>\n",
       "      <td>0.002966</td>\n",
       "      <td>20</td>\n",
       "      <td>3</td>\n",
       "      <td>128</td>\n",
       "      <td>{'max_depth': 20, 'min_samples_split': 3, 'n_e...</td>\n",
       "      <td>0.768444</td>\n",
       "      <td>0.772889</td>\n",
       "      <td>0.770667</td>\n",
       "      <td>0.002222</td>\n",
       "      <td>1</td>\n",
       "    </tr>\n",
       "    <tr>\n",
       "      <th>43</th>\n",
       "      <td>4.535056</td>\n",
       "      <td>0.000514</td>\n",
       "      <td>0.365656</td>\n",
       "      <td>0.002024</td>\n",
       "      <td>20</td>\n",
       "      <td>2</td>\n",
       "      <td>512</td>\n",
       "      <td>{'max_depth': 20, 'min_samples_split': 2, 'n_e...</td>\n",
       "      <td>0.762444</td>\n",
       "      <td>0.776222</td>\n",
       "      <td>0.769333</td>\n",
       "      <td>0.006889</td>\n",
       "      <td>2</td>\n",
       "    </tr>\n",
       "    <tr>\n",
       "      <th>47</th>\n",
       "      <td>4.333866</td>\n",
       "      <td>0.009534</td>\n",
       "      <td>0.365842</td>\n",
       "      <td>0.009200</td>\n",
       "      <td>20</td>\n",
       "      <td>3</td>\n",
       "      <td>512</td>\n",
       "      <td>{'max_depth': 20, 'min_samples_split': 3, 'n_e...</td>\n",
       "      <td>0.765333</td>\n",
       "      <td>0.772000</td>\n",
       "      <td>0.768667</td>\n",
       "      <td>0.003333</td>\n",
       "      <td>3</td>\n",
       "    </tr>\n",
       "    <tr>\n",
       "      <th>42</th>\n",
       "      <td>2.259366</td>\n",
       "      <td>0.015193</td>\n",
       "      <td>0.183308</td>\n",
       "      <td>0.001945</td>\n",
       "      <td>20</td>\n",
       "      <td>2</td>\n",
       "      <td>256</td>\n",
       "      <td>{'max_depth': 20, 'min_samples_split': 2, 'n_e...</td>\n",
       "      <td>0.764444</td>\n",
       "      <td>0.770889</td>\n",
       "      <td>0.767667</td>\n",
       "      <td>0.003222</td>\n",
       "      <td>4</td>\n",
       "    </tr>\n",
       "    <tr>\n",
       "      <th>46</th>\n",
       "      <td>2.165371</td>\n",
       "      <td>0.003247</td>\n",
       "      <td>0.172724</td>\n",
       "      <td>0.000837</td>\n",
       "      <td>20</td>\n",
       "      <td>3</td>\n",
       "      <td>256</td>\n",
       "      <td>{'max_depth': 20, 'min_samples_split': 3, 'n_e...</td>\n",
       "      <td>0.764889</td>\n",
       "      <td>0.764000</td>\n",
       "      <td>0.764444</td>\n",
       "      <td>0.000444</td>\n",
       "      <td>5</td>\n",
       "    </tr>\n",
       "    <tr>\n",
       "      <th>41</th>\n",
       "      <td>1.125218</td>\n",
       "      <td>0.008500</td>\n",
       "      <td>0.100766</td>\n",
       "      <td>0.000665</td>\n",
       "      <td>20</td>\n",
       "      <td>2</td>\n",
       "      <td>128</td>\n",
       "      <td>{'max_depth': 20, 'min_samples_split': 2, 'n_e...</td>\n",
       "      <td>0.765778</td>\n",
       "      <td>0.761778</td>\n",
       "      <td>0.763778</td>\n",
       "      <td>0.002000</td>\n",
       "      <td>6</td>\n",
       "    </tr>\n",
       "    <tr>\n",
       "      <th>31</th>\n",
       "      <td>4.106477</td>\n",
       "      <td>0.023666</td>\n",
       "      <td>0.369130</td>\n",
       "      <td>0.004341</td>\n",
       "      <td>15</td>\n",
       "      <td>2</td>\n",
       "      <td>512</td>\n",
       "      <td>{'max_depth': 15, 'min_samples_split': 2, 'n_e...</td>\n",
       "      <td>0.763778</td>\n",
       "      <td>0.762000</td>\n",
       "      <td>0.762889</td>\n",
       "      <td>0.000889</td>\n",
       "      <td>7</td>\n",
       "    </tr>\n",
       "    <tr>\n",
       "      <th>30</th>\n",
       "      <td>2.051031</td>\n",
       "      <td>0.000611</td>\n",
       "      <td>0.176440</td>\n",
       "      <td>0.001411</td>\n",
       "      <td>15</td>\n",
       "      <td>2</td>\n",
       "      <td>256</td>\n",
       "      <td>{'max_depth': 15, 'min_samples_split': 2, 'n_e...</td>\n",
       "      <td>0.760000</td>\n",
       "      <td>0.762667</td>\n",
       "      <td>0.761333</td>\n",
       "      <td>0.001333</td>\n",
       "      <td>8</td>\n",
       "    </tr>\n",
       "    <tr>\n",
       "      <th>35</th>\n",
       "      <td>3.961147</td>\n",
       "      <td>0.008566</td>\n",
       "      <td>0.366226</td>\n",
       "      <td>0.013689</td>\n",
       "      <td>15</td>\n",
       "      <td>3</td>\n",
       "      <td>512</td>\n",
       "      <td>{'max_depth': 15, 'min_samples_split': 3, 'n_e...</td>\n",
       "      <td>0.758222</td>\n",
       "      <td>0.763556</td>\n",
       "      <td>0.760889</td>\n",
       "      <td>0.002667</td>\n",
       "      <td>9</td>\n",
       "    </tr>\n",
       "    <tr>\n",
       "      <th>29</th>\n",
       "      <td>1.027354</td>\n",
       "      <td>0.004665</td>\n",
       "      <td>0.088084</td>\n",
       "      <td>0.000079</td>\n",
       "      <td>15</td>\n",
       "      <td>2</td>\n",
       "      <td>128</td>\n",
       "      <td>{'max_depth': 15, 'min_samples_split': 2, 'n_e...</td>\n",
       "      <td>0.761556</td>\n",
       "      <td>0.758667</td>\n",
       "      <td>0.760111</td>\n",
       "      <td>0.001444</td>\n",
       "      <td>10</td>\n",
       "    </tr>\n",
       "  </tbody>\n",
       "</table>\n",
       "</div>"
      ],
      "text/plain": [
       "    mean_fit_time  std_fit_time  mean_score_time  std_score_time  \\\n",
       "45       1.081206      0.005510         0.093155        0.002966   \n",
       "43       4.535056      0.000514         0.365656        0.002024   \n",
       "47       4.333866      0.009534         0.365842        0.009200   \n",
       "42       2.259366      0.015193         0.183308        0.001945   \n",
       "46       2.165371      0.003247         0.172724        0.000837   \n",
       "41       1.125218      0.008500         0.100766        0.000665   \n",
       "31       4.106477      0.023666         0.369130        0.004341   \n",
       "30       2.051031      0.000611         0.176440        0.001411   \n",
       "35       3.961147      0.008566         0.366226        0.013689   \n",
       "29       1.027354      0.004665         0.088084        0.000079   \n",
       "\n",
       "   param_max_depth param_min_samples_split param_n_estimators  \\\n",
       "45              20                       3                128   \n",
       "43              20                       2                512   \n",
       "47              20                       3                512   \n",
       "42              20                       2                256   \n",
       "46              20                       3                256   \n",
       "41              20                       2                128   \n",
       "31              15                       2                512   \n",
       "30              15                       2                256   \n",
       "35              15                       3                512   \n",
       "29              15                       2                128   \n",
       "\n",
       "                                               params  split0_test_score  \\\n",
       "45  {'max_depth': 20, 'min_samples_split': 3, 'n_e...           0.768444   \n",
       "43  {'max_depth': 20, 'min_samples_split': 2, 'n_e...           0.762444   \n",
       "47  {'max_depth': 20, 'min_samples_split': 3, 'n_e...           0.765333   \n",
       "42  {'max_depth': 20, 'min_samples_split': 2, 'n_e...           0.764444   \n",
       "46  {'max_depth': 20, 'min_samples_split': 3, 'n_e...           0.764889   \n",
       "41  {'max_depth': 20, 'min_samples_split': 2, 'n_e...           0.765778   \n",
       "31  {'max_depth': 15, 'min_samples_split': 2, 'n_e...           0.763778   \n",
       "30  {'max_depth': 15, 'min_samples_split': 2, 'n_e...           0.760000   \n",
       "35  {'max_depth': 15, 'min_samples_split': 3, 'n_e...           0.758222   \n",
       "29  {'max_depth': 15, 'min_samples_split': 2, 'n_e...           0.761556   \n",
       "\n",
       "    split1_test_score  mean_test_score  std_test_score  rank_test_score  \n",
       "45           0.772889         0.770667        0.002222                1  \n",
       "43           0.776222         0.769333        0.006889                2  \n",
       "47           0.772000         0.768667        0.003333                3  \n",
       "42           0.770889         0.767667        0.003222                4  \n",
       "46           0.764000         0.764444        0.000444                5  \n",
       "41           0.761778         0.763778        0.002000                6  \n",
       "31           0.762000         0.762889        0.000889                7  \n",
       "30           0.762667         0.761333        0.001333                8  \n",
       "35           0.763556         0.760889        0.002667                9  \n",
       "29           0.758667         0.760111        0.001444               10  "
      ]
     },
     "metadata": {},
     "output_type": "display_data"
    },
    {
     "name": "stdout",
     "output_type": "stream",
     "text": [
      "Classification Report\n",
      "              precision    recall  f1-score   support\n",
      "\n",
      "           0       0.93      0.98      0.95      3183\n",
      "           1       0.91      0.92      0.91      3152\n",
      "           2       0.83      0.84      0.84      3268\n",
      "           3       0.92      0.93      0.93      3121\n",
      "           4       0.98      1.00      0.99      3220\n",
      "           5       0.88      0.84      0.86      3230\n",
      "           6       0.92      0.86      0.89      3221\n",
      "           7       0.87      0.92      0.89      3256\n",
      "           8       0.88      0.83      0.85      3149\n",
      "\n",
      "    accuracy                           0.90     28800\n",
      "   macro avg       0.90      0.90      0.90     28800\n",
      "weighted avg       0.90      0.90      0.90     28800\n",
      "\n"
     ]
    }
   ],
   "source": [
    "# hyperparameter tuning\n",
    "model1 = RandomForestClassifier()\n",
    "param_grid = {\n",
    "    'max_depth': [5, 10, 15, 20],\n",
    "    'min_samples_split': [1,2,3],\n",
    "    'n_estimators': [64, 128,256, 512],\n",
    "}\n",
    "best_model1 = grid_search_cv(model1, param_grid, X_tune, y_tune)\n",
    "best_model1.fit(X_train, y_train)\n",
    "show_model_report(best_model1, X_test, y_test)"
   ]
  },
  {
   "cell_type": "markdown",
   "id": "ecc8570a",
   "metadata": {},
   "source": [
    "RandomForest is performing good on the dataset. Using the default settings I was able to get 90% accuracy, \n",
    "however after doing some Hyperparameter tuning the accuray didn't change.\n",
    "\n"
   ]
  },
  {
   "cell_type": "markdown",
   "id": "0086dfda",
   "metadata": {},
   "source": [
    "###  AdaBoost"
   ]
  },
  {
   "cell_type": "code",
   "execution_count": 64,
   "id": "05bc7175",
   "metadata": {},
   "outputs": [
    {
     "name": "stdout",
     "output_type": "stream",
     "text": [
      "Classification Report\n",
      "              precision    recall  f1-score   support\n",
      "\n",
      "           0       0.76      0.67      0.71      3183\n",
      "           1       0.43      0.47      0.45      3152\n",
      "           2       0.39      0.24      0.30      3268\n",
      "           3       0.31      0.63      0.42      3121\n",
      "           4       0.76      0.53      0.62      3220\n",
      "           5       0.38      0.55      0.45      3230\n",
      "           6       0.28      0.11      0.16      3221\n",
      "           7       0.42      0.57      0.49      3256\n",
      "           8       0.47      0.24      0.32      3149\n",
      "\n",
      "    accuracy                           0.45     28800\n",
      "   macro avg       0.47      0.45      0.44     28800\n",
      "weighted avg       0.47      0.45      0.44     28800\n",
      "\n"
     ]
    }
   ],
   "source": [
    "# instantiate\n",
    "model2 = AdaBoostClassifier()\n",
    "# fit\n",
    "model2.fit(X_train, y_train)\n",
    "# print the report\n",
    "show_model_report(model2, X_test, y_test)"
   ]
  },
  {
   "cell_type": "code",
   "execution_count": 65,
   "id": "1624456a",
   "metadata": {
    "scrolled": true
   },
   "outputs": [
    {
     "data": {
      "image/png": "[encoded data removed]",
      "text/plain": [
       "<Figure size 640x480 with 1 Axes>"
      ]
     },
     "metadata": {},
     "output_type": "display_data"
    }
   ],
   "source": [
    "# plot feature importance\n",
    "generate_feature_importance(model2)"
   ]
  },
  {
   "cell_type": "markdown",
   "id": "4cbec199",
   "metadata": {},
   "source": [
    "The latitude and longitude are the most important features among all features with latitude having 42 % and longitude 52 % importance respectively."
   ]
  },
  {
   "cell_type": "code",
   "execution_count": 67,
   "id": "036fd0cd",
   "metadata": {},
   "outputs": [
    {
     "name": "stdout",
     "output_type": "stream",
     "text": [
      "Performance of top 10 Model on  Parameters\n"
     ]
    },
    {
     "data": {
      "text/html": [
       "<div>\n",
       "<style scoped>\n",
       "    .dataframe tbody tr th:only-of-type {\n",
       "        vertical-align: middle;\n",
       "    }\n",
       "\n",
       "    .dataframe tbody tr th {\n",
       "        vertical-align: top;\n",
       "    }\n",
       "\n",
       "    .dataframe thead th {\n",
       "        text-align: right;\n",
       "    }\n",
       "</style>\n",
       "<table border=\"1\" class=\"dataframe\">\n",
       "  <thead>\n",
       "    <tr style=\"text-align: right;\">\n",
       "      <th></th>\n",
       "      <th>mean_fit_time</th>\n",
       "      <th>std_fit_time</th>\n",
       "      <th>mean_score_time</th>\n",
       "      <th>std_score_time</th>\n",
       "      <th>param_learning_rate</th>\n",
       "      <th>param_n_estimators</th>\n",
       "      <th>params</th>\n",
       "      <th>split0_test_score</th>\n",
       "      <th>split1_test_score</th>\n",
       "      <th>mean_test_score</th>\n",
       "      <th>std_test_score</th>\n",
       "      <th>rank_test_score</th>\n",
       "    </tr>\n",
       "  </thead>\n",
       "  <tbody>\n",
       "    <tr>\n",
       "      <th>6</th>\n",
       "      <td>0.183694</td>\n",
       "      <td>0.003819</td>\n",
       "      <td>0.039065</td>\n",
       "      <td>0.007813</td>\n",
       "      <td>1.0</td>\n",
       "      <td>50</td>\n",
       "      <td>{'learning_rate': 1.0, 'n_estimators': 50}</td>\n",
       "      <td>0.404667</td>\n",
       "      <td>0.391556</td>\n",
       "      <td>0.398111</td>\n",
       "      <td>0.006556</td>\n",
       "      <td>1</td>\n",
       "    </tr>\n",
       "    <tr>\n",
       "      <th>5</th>\n",
       "      <td>0.739058</td>\n",
       "      <td>0.007852</td>\n",
       "      <td>0.149033</td>\n",
       "      <td>0.008398</td>\n",
       "      <td>0.1</td>\n",
       "      <td>200</td>\n",
       "      <td>{'learning_rate': 0.1, 'n_estimators': 200}</td>\n",
       "      <td>0.377556</td>\n",
       "      <td>0.392000</td>\n",
       "      <td>0.384778</td>\n",
       "      <td>0.007222</td>\n",
       "      <td>2</td>\n",
       "    </tr>\n",
       "    <tr>\n",
       "      <th>7</th>\n",
       "      <td>0.377795</td>\n",
       "      <td>0.005138</td>\n",
       "      <td>0.069164</td>\n",
       "      <td>0.006642</td>\n",
       "      <td>1.0</td>\n",
       "      <td>100</td>\n",
       "      <td>{'learning_rate': 1.0, 'n_estimators': 100}</td>\n",
       "      <td>0.357778</td>\n",
       "      <td>0.407778</td>\n",
       "      <td>0.382778</td>\n",
       "      <td>0.025000</td>\n",
       "      <td>3</td>\n",
       "    </tr>\n",
       "    <tr>\n",
       "      <th>4</th>\n",
       "      <td>0.368099</td>\n",
       "      <td>0.006846</td>\n",
       "      <td>0.076669</td>\n",
       "      <td>0.001462</td>\n",
       "      <td>0.1</td>\n",
       "      <td>100</td>\n",
       "      <td>{'learning_rate': 0.1, 'n_estimators': 100}</td>\n",
       "      <td>0.356667</td>\n",
       "      <td>0.363556</td>\n",
       "      <td>0.360111</td>\n",
       "      <td>0.003444</td>\n",
       "      <td>4</td>\n",
       "    </tr>\n",
       "    <tr>\n",
       "      <th>3</th>\n",
       "      <td>0.184210</td>\n",
       "      <td>0.003591</td>\n",
       "      <td>0.042325</td>\n",
       "      <td>0.008686</td>\n",
       "      <td>0.1</td>\n",
       "      <td>50</td>\n",
       "      <td>{'learning_rate': 0.1, 'n_estimators': 50}</td>\n",
       "      <td>0.375556</td>\n",
       "      <td>0.341778</td>\n",
       "      <td>0.358667</td>\n",
       "      <td>0.016889</td>\n",
       "      <td>5</td>\n",
       "    </tr>\n",
       "    <tr>\n",
       "      <th>8</th>\n",
       "      <td>0.757412</td>\n",
       "      <td>0.005515</td>\n",
       "      <td>0.156721</td>\n",
       "      <td>0.000272</td>\n",
       "      <td>1.0</td>\n",
       "      <td>200</td>\n",
       "      <td>{'learning_rate': 1.0, 'n_estimators': 200}</td>\n",
       "      <td>0.332000</td>\n",
       "      <td>0.378667</td>\n",
       "      <td>0.355333</td>\n",
       "      <td>0.023333</td>\n",
       "      <td>6</td>\n",
       "    </tr>\n",
       "    <tr>\n",
       "      <th>2</th>\n",
       "      <td>0.768817</td>\n",
       "      <td>0.012102</td>\n",
       "      <td>0.143684</td>\n",
       "      <td>0.003602</td>\n",
       "      <td>0.01</td>\n",
       "      <td>200</td>\n",
       "      <td>{'learning_rate': 0.01, 'n_estimators': 200}</td>\n",
       "      <td>0.329778</td>\n",
       "      <td>0.316000</td>\n",
       "      <td>0.322889</td>\n",
       "      <td>0.006889</td>\n",
       "      <td>7</td>\n",
       "    </tr>\n",
       "    <tr>\n",
       "      <th>1</th>\n",
       "      <td>0.405225</td>\n",
       "      <td>0.005569</td>\n",
       "      <td>0.091329</td>\n",
       "      <td>0.002418</td>\n",
       "      <td>0.01</td>\n",
       "      <td>100</td>\n",
       "      <td>{'learning_rate': 0.01, 'n_estimators': 100}</td>\n",
       "      <td>0.323111</td>\n",
       "      <td>0.318889</td>\n",
       "      <td>0.321000</td>\n",
       "      <td>0.002111</td>\n",
       "      <td>8</td>\n",
       "    </tr>\n",
       "    <tr>\n",
       "      <th>0</th>\n",
       "      <td>0.208547</td>\n",
       "      <td>0.001874</td>\n",
       "      <td>0.045744</td>\n",
       "      <td>0.000298</td>\n",
       "      <td>0.01</td>\n",
       "      <td>50</td>\n",
       "      <td>{'learning_rate': 0.01, 'n_estimators': 50}</td>\n",
       "      <td>0.321778</td>\n",
       "      <td>0.290889</td>\n",
       "      <td>0.306333</td>\n",
       "      <td>0.015444</td>\n",
       "      <td>9</td>\n",
       "    </tr>\n",
       "  </tbody>\n",
       "</table>\n",
       "</div>"
      ],
      "text/plain": [
       "   mean_fit_time  std_fit_time  mean_score_time  std_score_time  \\\n",
       "6       0.183694      0.003819         0.039065        0.007813   \n",
       "5       0.739058      0.007852         0.149033        0.008398   \n",
       "7       0.377795      0.005138         0.069164        0.006642   \n",
       "4       0.368099      0.006846         0.076669        0.001462   \n",
       "3       0.184210      0.003591         0.042325        0.008686   \n",
       "8       0.757412      0.005515         0.156721        0.000272   \n",
       "2       0.768817      0.012102         0.143684        0.003602   \n",
       "1       0.405225      0.005569         0.091329        0.002418   \n",
       "0       0.208547      0.001874         0.045744        0.000298   \n",
       "\n",
       "  param_learning_rate param_n_estimators  \\\n",
       "6                 1.0                 50   \n",
       "5                 0.1                200   \n",
       "7                 1.0                100   \n",
       "4                 0.1                100   \n",
       "3                 0.1                 50   \n",
       "8                 1.0                200   \n",
       "2                0.01                200   \n",
       "1                0.01                100   \n",
       "0                0.01                 50   \n",
       "\n",
       "                                         params  split0_test_score  \\\n",
       "6    {'learning_rate': 1.0, 'n_estimators': 50}           0.404667   \n",
       "5   {'learning_rate': 0.1, 'n_estimators': 200}           0.377556   \n",
       "7   {'learning_rate': 1.0, 'n_estimators': 100}           0.357778   \n",
       "4   {'learning_rate': 0.1, 'n_estimators': 100}           0.356667   \n",
       "3    {'learning_rate': 0.1, 'n_estimators': 50}           0.375556   \n",
       "8   {'learning_rate': 1.0, 'n_estimators': 200}           0.332000   \n",
       "2  {'learning_rate': 0.01, 'n_estimators': 200}           0.329778   \n",
       "1  {'learning_rate': 0.01, 'n_estimators': 100}           0.323111   \n",
       "0   {'learning_rate': 0.01, 'n_estimators': 50}           0.321778   \n",
       "\n",
       "   split1_test_score  mean_test_score  std_test_score  rank_test_score  \n",
       "6           0.391556         0.398111        0.006556                1  \n",
       "5           0.392000         0.384778        0.007222                2  \n",
       "7           0.407778         0.382778        0.025000                3  \n",
       "4           0.363556         0.360111        0.003444                4  \n",
       "3           0.341778         0.358667        0.016889                5  \n",
       "8           0.378667         0.355333        0.023333                6  \n",
       "2           0.316000         0.322889        0.006889                7  \n",
       "1           0.318889         0.321000        0.002111                8  \n",
       "0           0.290889         0.306333        0.015444                9  "
      ]
     },
     "metadata": {},
     "output_type": "display_data"
    },
    {
     "name": "stdout",
     "output_type": "stream",
     "text": [
      "Classification Report\n",
      "              precision    recall  f1-score   support\n",
      "\n",
      "           0       0.76      0.67      0.71      3183\n",
      "           1       0.43      0.47      0.45      3152\n",
      "           2       0.39      0.24      0.30      3268\n",
      "           3       0.31      0.63      0.42      3121\n",
      "           4       0.76      0.53      0.62      3220\n",
      "           5       0.38      0.55      0.45      3230\n",
      "           6       0.28      0.11      0.16      3221\n",
      "           7       0.42      0.57      0.49      3256\n",
      "           8       0.47      0.24      0.32      3149\n",
      "\n",
      "    accuracy                           0.45     28800\n",
      "   macro avg       0.47      0.45      0.44     28800\n",
      "weighted avg       0.47      0.45      0.44     28800\n",
      "\n"
     ]
    }
   ],
   "source": [
    "# hyperparameter tuning\n",
    "model2 = AdaBoostClassifier()\n",
    "param_grid = {\n",
    "    'n_estimators': [50, 100, 200],\n",
    "    'learning_rate': [0.01, 0.1, 1.0],\n",
    "}\n",
    "\n",
    "best_model2 = grid_search_cv(model2, param_grid, X_tune, y_tune)\n",
    "best_model2.fit(X_train, y_train)\n",
    "show_model_report(best_model2, X_test, y_test)"
   ]
  },
  {
   "cell_type": "markdown",
   "id": "f9772132",
   "metadata": {},
   "source": [
    "The performance of Adaboost is not good on the dataset. Using the default setting I was able to get 45% accuracy, however after some Hyperparameter tuning the accuracy didn't change.\n",
    "\n"
   ]
  },
  {
   "cell_type": "markdown",
   "id": "57ed5059",
   "metadata": {},
   "source": [
    "### XGBoost"
   ]
  },
  {
   "cell_type": "code",
   "execution_count": 69,
   "id": "bafee29b",
   "metadata": {
    "scrolled": true
   },
   "outputs": [
    {
     "name": "stdout",
     "output_type": "stream",
     "text": [
      "Classification Report\n",
      "              precision    recall  f1-score   support\n",
      "\n",
      "           0       0.92      0.99      0.95      3183\n",
      "           1       0.92      0.92      0.92      3152\n",
      "           2       0.84      0.88      0.86      3268\n",
      "           3       0.95      0.95      0.95      3121\n",
      "           4       0.99      1.00      1.00      3220\n",
      "           5       0.88      0.85      0.86      3230\n",
      "           6       0.91      0.89      0.90      3221\n",
      "           7       0.91      0.94      0.93      3256\n",
      "           8       0.91      0.85      0.88      3149\n",
      "\n",
      "    accuracy                           0.92     28800\n",
      "   macro avg       0.92      0.92      0.92     28800\n",
      "weighted avg       0.92      0.92      0.92     28800\n",
      "\n"
     ]
    }
   ],
   "source": [
    "# instantiate\n",
    "model3  = XGBClassifier()\n",
    "# fit\n",
    "model3.fit(X_train, y_train)\n",
    "# print the report\n",
    "show_model_report(model3, X_test, y_test)"
   ]
  },
  {
   "cell_type": "markdown",
   "id": "c8d7ec17",
   "metadata": {},
   "source": [
    "The accuracy is high and the model is performing good for all classes."
   ]
  },
  {
   "cell_type": "code",
   "execution_count": 70,
   "id": "de2f3599",
   "metadata": {
    "scrolled": false
   },
   "outputs": [
    {
     "data": {
      "image/png": "[encoded data removed]",
      "text/plain": [
       "<Figure size 640x480 with 1 Axes>"
      ]
     },
     "metadata": {},
     "output_type": "display_data"
    }
   ],
   "source": [
    "# plot feature importance\n",
    "generate_feature_importance(model3)"
   ]
  },
  {
   "cell_type": "markdown",
   "id": "b960d9c8",
   "metadata": {},
   "source": [
    "The latitude and longitude are the most important features among all features with latitude having 33.04 % and longitude 39.68 % importance respectively."
   ]
  },
  {
   "cell_type": "code",
   "execution_count": 71,
   "id": "d827cfd1",
   "metadata": {
    "scrolled": true
   },
   "outputs": [
    {
     "name": "stdout",
     "output_type": "stream",
     "text": [
      "Performance of top 10 Model on  Parameters\n"
     ]
    },
    {
     "data": {
      "text/html": [
       "<div>\n",
       "<style scoped>\n",
       "    .dataframe tbody tr th:only-of-type {\n",
       "        vertical-align: middle;\n",
       "    }\n",
       "\n",
       "    .dataframe tbody tr th {\n",
       "        vertical-align: top;\n",
       "    }\n",
       "\n",
       "    .dataframe thead th {\n",
       "        text-align: right;\n",
       "    }\n",
       "</style>\n",
       "<table border=\"1\" class=\"dataframe\">\n",
       "  <thead>\n",
       "    <tr style=\"text-align: right;\">\n",
       "      <th></th>\n",
       "      <th>mean_fit_time</th>\n",
       "      <th>std_fit_time</th>\n",
       "      <th>mean_score_time</th>\n",
       "      <th>std_score_time</th>\n",
       "      <th>param_colsample_bytree</th>\n",
       "      <th>param_learning_rate</th>\n",
       "      <th>param_max_depth</th>\n",
       "      <th>param_n_estimators</th>\n",
       "      <th>params</th>\n",
       "      <th>split0_test_score</th>\n",
       "      <th>split1_test_score</th>\n",
       "      <th>mean_test_score</th>\n",
       "      <th>std_test_score</th>\n",
       "      <th>rank_test_score</th>\n",
       "    </tr>\n",
       "  </thead>\n",
       "  <tbody>\n",
       "    <tr>\n",
       "      <th>23</th>\n",
       "      <td>1.827386</td>\n",
       "      <td>0.041426</td>\n",
       "      <td>0.078642</td>\n",
       "      <td>1.613700e-02</td>\n",
       "      <td>0.8</td>\n",
       "      <td>0.2</td>\n",
       "      <td>4</td>\n",
       "      <td>256</td>\n",
       "      <td>{'colsample_bytree': 0.8, 'learning_rate': 0.2...</td>\n",
       "      <td>0.869778</td>\n",
       "      <td>0.861556</td>\n",
       "      <td>0.865667</td>\n",
       "      <td>0.004111</td>\n",
       "      <td>1</td>\n",
       "    </tr>\n",
       "    <tr>\n",
       "      <th>26</th>\n",
       "      <td>2.033498</td>\n",
       "      <td>0.016674</td>\n",
       "      <td>0.074567</td>\n",
       "      <td>8.309603e-03</td>\n",
       "      <td>0.8</td>\n",
       "      <td>0.2</td>\n",
       "      <td>5</td>\n",
       "      <td>256</td>\n",
       "      <td>{'colsample_bytree': 0.8, 'learning_rate': 0.2...</td>\n",
       "      <td>0.870889</td>\n",
       "      <td>0.858222</td>\n",
       "      <td>0.864556</td>\n",
       "      <td>0.006333</td>\n",
       "      <td>2</td>\n",
       "    </tr>\n",
       "    <tr>\n",
       "      <th>17</th>\n",
       "      <td>2.078000</td>\n",
       "      <td>0.046706</td>\n",
       "      <td>0.087091</td>\n",
       "      <td>8.961320e-03</td>\n",
       "      <td>0.8</td>\n",
       "      <td>0.1</td>\n",
       "      <td>5</td>\n",
       "      <td>256</td>\n",
       "      <td>{'colsample_bytree': 0.8, 'learning_rate': 0.1...</td>\n",
       "      <td>0.867778</td>\n",
       "      <td>0.861111</td>\n",
       "      <td>0.864444</td>\n",
       "      <td>0.003333</td>\n",
       "      <td>3</td>\n",
       "    </tr>\n",
       "    <tr>\n",
       "      <th>50</th>\n",
       "      <td>1.719545</td>\n",
       "      <td>0.026962</td>\n",
       "      <td>0.062505</td>\n",
       "      <td>4.768372e-07</td>\n",
       "      <td>0.9</td>\n",
       "      <td>0.2</td>\n",
       "      <td>4</td>\n",
       "      <td>256</td>\n",
       "      <td>{'colsample_bytree': 0.9, 'learning_rate': 0.2...</td>\n",
       "      <td>0.867333</td>\n",
       "      <td>0.860444</td>\n",
       "      <td>0.863889</td>\n",
       "      <td>0.003444</td>\n",
       "      <td>4</td>\n",
       "    </tr>\n",
       "    <tr>\n",
       "      <th>53</th>\n",
       "      <td>2.131585</td>\n",
       "      <td>0.020846</td>\n",
       "      <td>0.082999</td>\n",
       "      <td>4.869699e-03</td>\n",
       "      <td>0.9</td>\n",
       "      <td>0.2</td>\n",
       "      <td>5</td>\n",
       "      <td>256</td>\n",
       "      <td>{'colsample_bytree': 0.9, 'learning_rate': 0.2...</td>\n",
       "      <td>0.866000</td>\n",
       "      <td>0.861778</td>\n",
       "      <td>0.863889</td>\n",
       "      <td>0.002111</td>\n",
       "      <td>4</td>\n",
       "    </tr>\n",
       "    <tr>\n",
       "      <th>77</th>\n",
       "      <td>1.761085</td>\n",
       "      <td>0.040919</td>\n",
       "      <td>0.064195</td>\n",
       "      <td>6.297350e-03</td>\n",
       "      <td>1.0</td>\n",
       "      <td>0.2</td>\n",
       "      <td>4</td>\n",
       "      <td>256</td>\n",
       "      <td>{'colsample_bytree': 1.0, 'learning_rate': 0.2...</td>\n",
       "      <td>0.866000</td>\n",
       "      <td>0.861778</td>\n",
       "      <td>0.863889</td>\n",
       "      <td>0.002111</td>\n",
       "      <td>4</td>\n",
       "    </tr>\n",
       "    <tr>\n",
       "      <th>44</th>\n",
       "      <td>2.102860</td>\n",
       "      <td>0.013562</td>\n",
       "      <td>0.078132</td>\n",
       "      <td>7.152557e-07</td>\n",
       "      <td>0.9</td>\n",
       "      <td>0.1</td>\n",
       "      <td>5</td>\n",
       "      <td>256</td>\n",
       "      <td>{'colsample_bytree': 0.9, 'learning_rate': 0.1...</td>\n",
       "      <td>0.866889</td>\n",
       "      <td>0.860889</td>\n",
       "      <td>0.863889</td>\n",
       "      <td>0.003000</td>\n",
       "      <td>4</td>\n",
       "    </tr>\n",
       "    <tr>\n",
       "      <th>25</th>\n",
       "      <td>1.031689</td>\n",
       "      <td>0.006967</td>\n",
       "      <td>0.042135</td>\n",
       "      <td>5.603194e-03</td>\n",
       "      <td>0.8</td>\n",
       "      <td>0.2</td>\n",
       "      <td>5</td>\n",
       "      <td>128</td>\n",
       "      <td>{'colsample_bytree': 0.8, 'learning_rate': 0.2...</td>\n",
       "      <td>0.869333</td>\n",
       "      <td>0.858444</td>\n",
       "      <td>0.863889</td>\n",
       "      <td>0.005444</td>\n",
       "      <td>4</td>\n",
       "    </tr>\n",
       "    <tr>\n",
       "      <th>47</th>\n",
       "      <td>1.609942</td>\n",
       "      <td>0.014394</td>\n",
       "      <td>0.098203</td>\n",
       "      <td>4.446030e-03</td>\n",
       "      <td>0.9</td>\n",
       "      <td>0.2</td>\n",
       "      <td>3</td>\n",
       "      <td>256</td>\n",
       "      <td>{'colsample_bytree': 0.9, 'learning_rate': 0.2...</td>\n",
       "      <td>0.867778</td>\n",
       "      <td>0.857778</td>\n",
       "      <td>0.862778</td>\n",
       "      <td>0.005000</td>\n",
       "      <td>9</td>\n",
       "    </tr>\n",
       "    <tr>\n",
       "      <th>52</th>\n",
       "      <td>1.071465</td>\n",
       "      <td>0.033815</td>\n",
       "      <td>0.051756</td>\n",
       "      <td>2.907515e-03</td>\n",
       "      <td>0.9</td>\n",
       "      <td>0.2</td>\n",
       "      <td>5</td>\n",
       "      <td>128</td>\n",
       "      <td>{'colsample_bytree': 0.9, 'learning_rate': 0.2...</td>\n",
       "      <td>0.866667</td>\n",
       "      <td>0.858667</td>\n",
       "      <td>0.862667</td>\n",
       "      <td>0.004000</td>\n",
       "      <td>10</td>\n",
       "    </tr>\n",
       "  </tbody>\n",
       "</table>\n",
       "</div>"
      ],
      "text/plain": [
       "    mean_fit_time  std_fit_time  mean_score_time  std_score_time  \\\n",
       "23       1.827386      0.041426         0.078642    1.613700e-02   \n",
       "26       2.033498      0.016674         0.074567    8.309603e-03   \n",
       "17       2.078000      0.046706         0.087091    8.961320e-03   \n",
       "50       1.719545      0.026962         0.062505    4.768372e-07   \n",
       "53       2.131585      0.020846         0.082999    4.869699e-03   \n",
       "77       1.761085      0.040919         0.064195    6.297350e-03   \n",
       "44       2.102860      0.013562         0.078132    7.152557e-07   \n",
       "25       1.031689      0.006967         0.042135    5.603194e-03   \n",
       "47       1.609942      0.014394         0.098203    4.446030e-03   \n",
       "52       1.071465      0.033815         0.051756    2.907515e-03   \n",
       "\n",
       "   param_colsample_bytree param_learning_rate param_max_depth  \\\n",
       "23                    0.8                 0.2               4   \n",
       "26                    0.8                 0.2               5   \n",
       "17                    0.8                 0.1               5   \n",
       "50                    0.9                 0.2               4   \n",
       "53                    0.9                 0.2               5   \n",
       "77                    1.0                 0.2               4   \n",
       "44                    0.9                 0.1               5   \n",
       "25                    0.8                 0.2               5   \n",
       "47                    0.9                 0.2               3   \n",
       "52                    0.9                 0.2               5   \n",
       "\n",
       "   param_n_estimators                                             params  \\\n",
       "23                256  {'colsample_bytree': 0.8, 'learning_rate': 0.2...   \n",
       "26                256  {'colsample_bytree': 0.8, 'learning_rate': 0.2...   \n",
       "17                256  {'colsample_bytree': 0.8, 'learning_rate': 0.1...   \n",
       "50                256  {'colsample_bytree': 0.9, 'learning_rate': 0.2...   \n",
       "53                256  {'colsample_bytree': 0.9, 'learning_rate': 0.2...   \n",
       "77                256  {'colsample_bytree': 1.0, 'learning_rate': 0.2...   \n",
       "44                256  {'colsample_bytree': 0.9, 'learning_rate': 0.1...   \n",
       "25                128  {'colsample_bytree': 0.8, 'learning_rate': 0.2...   \n",
       "47                256  {'colsample_bytree': 0.9, 'learning_rate': 0.2...   \n",
       "52                128  {'colsample_bytree': 0.9, 'learning_rate': 0.2...   \n",
       "\n",
       "    split0_test_score  split1_test_score  mean_test_score  std_test_score  \\\n",
       "23           0.869778           0.861556         0.865667        0.004111   \n",
       "26           0.870889           0.858222         0.864556        0.006333   \n",
       "17           0.867778           0.861111         0.864444        0.003333   \n",
       "50           0.867333           0.860444         0.863889        0.003444   \n",
       "53           0.866000           0.861778         0.863889        0.002111   \n",
       "77           0.866000           0.861778         0.863889        0.002111   \n",
       "44           0.866889           0.860889         0.863889        0.003000   \n",
       "25           0.869333           0.858444         0.863889        0.005444   \n",
       "47           0.867778           0.857778         0.862778        0.005000   \n",
       "52           0.866667           0.858667         0.862667        0.004000   \n",
       "\n",
       "    rank_test_score  \n",
       "23                1  \n",
       "26                2  \n",
       "17                3  \n",
       "50                4  \n",
       "53                4  \n",
       "77                4  \n",
       "44                4  \n",
       "25                4  \n",
       "47                9  \n",
       "52               10  "
      ]
     },
     "metadata": {},
     "output_type": "display_data"
    },
    {
     "name": "stdout",
     "output_type": "stream",
     "text": [
      "Classification Report\n",
      "              precision    recall  f1-score   support\n",
      "\n",
      "           0       0.91      0.99      0.95      3183\n",
      "           1       0.91      0.90      0.91      3152\n",
      "           2       0.84      0.87      0.85      3268\n",
      "           3       0.94      0.94      0.94      3121\n",
      "           4       0.99      1.00      1.00      3220\n",
      "           5       0.88      0.84      0.86      3230\n",
      "           6       0.90      0.87      0.89      3221\n",
      "           7       0.90      0.93      0.92      3256\n",
      "           8       0.91      0.83      0.87      3149\n",
      "\n",
      "    accuracy                           0.91     28800\n",
      "   macro avg       0.91      0.91      0.91     28800\n",
      "weighted avg       0.91      0.91      0.91     28800\n",
      "\n"
     ]
    }
   ],
   "source": [
    "# hyperparameter tuning\n",
    "model3 = XGBClassifier() \n",
    "param_grid = {\n",
    "    'learning_rate': [0.01, 0.1, 0.2],\n",
    "    'max_depth': [3, 4, 5],\n",
    "    'colsample_bytree': [0.8, 0.9, 1.0],\n",
    "    'n_estimators': [32, 128, 256],\n",
    "}\n",
    "best_model3 = grid_search_cv(model3, param_grid, X_tune, y_tune)\n",
    "best_model3.fit(X_train, y_train)\n",
    "show_model_report(best_model3, X_test, y_test)"
   ]
  },
  {
   "cell_type": "markdown",
   "id": "e51faa45",
   "metadata": {},
   "source": [
    "XGBoost is the best performing model among all of them. The accuracy on the default parameters was higher, however \n",
    "the accuracy on the tuned model slightly decreased. That means default parameters were performing better."
   ]
  },
  {
   "cell_type": "code",
   "execution_count": 72,
   "id": "c0995ffb",
   "metadata": {
    "scrolled": true
   },
   "outputs": [
    {
     "name": "stdout",
     "output_type": "stream",
     "text": [
      "Performance of top 10 Model on  Parameters\n"
     ]
    },
    {
     "data": {
      "text/html": [
       "<div>\n",
       "<style scoped>\n",
       "    .dataframe tbody tr th:only-of-type {\n",
       "        vertical-align: middle;\n",
       "    }\n",
       "\n",
       "    .dataframe tbody tr th {\n",
       "        vertical-align: top;\n",
       "    }\n",
       "\n",
       "    .dataframe thead th {\n",
       "        text-align: right;\n",
       "    }\n",
       "</style>\n",
       "<table border=\"1\" class=\"dataframe\">\n",
       "  <thead>\n",
       "    <tr style=\"text-align: right;\">\n",
       "      <th></th>\n",
       "      <th>mean_fit_time</th>\n",
       "      <th>std_fit_time</th>\n",
       "      <th>mean_score_time</th>\n",
       "      <th>std_score_time</th>\n",
       "      <th>param_colsample_bytree</th>\n",
       "      <th>param_learning_rate</th>\n",
       "      <th>param_max_depth</th>\n",
       "      <th>param_subsample</th>\n",
       "      <th>params</th>\n",
       "      <th>split0_test_score</th>\n",
       "      <th>split1_test_score</th>\n",
       "      <th>mean_test_score</th>\n",
       "      <th>std_test_score</th>\n",
       "      <th>rank_test_score</th>\n",
       "    </tr>\n",
       "  </thead>\n",
       "  <tbody>\n",
       "    <tr>\n",
       "      <th>26</th>\n",
       "      <td>0.867649</td>\n",
       "      <td>0.002225</td>\n",
       "      <td>0.040094</td>\n",
       "      <td>2.634525e-05</td>\n",
       "      <td>0.8</td>\n",
       "      <td>0.2</td>\n",
       "      <td>5</td>\n",
       "      <td>1.0</td>\n",
       "      <td>{'colsample_bytree': 0.8, 'learning_rate': 0.2...</td>\n",
       "      <td>0.868667</td>\n",
       "      <td>0.856889</td>\n",
       "      <td>0.862778</td>\n",
       "      <td>0.005889</td>\n",
       "      <td>1</td>\n",
       "    </tr>\n",
       "    <tr>\n",
       "      <th>79</th>\n",
       "      <td>1.046722</td>\n",
       "      <td>0.004589</td>\n",
       "      <td>0.046878</td>\n",
       "      <td>3.576279e-07</td>\n",
       "      <td>1.0</td>\n",
       "      <td>0.2</td>\n",
       "      <td>5</td>\n",
       "      <td>0.9</td>\n",
       "      <td>{'colsample_bytree': 1.0, 'learning_rate': 0.2...</td>\n",
       "      <td>0.863333</td>\n",
       "      <td>0.858667</td>\n",
       "      <td>0.861000</td>\n",
       "      <td>0.002333</td>\n",
       "      <td>2</td>\n",
       "    </tr>\n",
       "    <tr>\n",
       "      <th>25</th>\n",
       "      <td>1.030991</td>\n",
       "      <td>0.005273</td>\n",
       "      <td>0.048001</td>\n",
       "      <td>2.142668e-03</td>\n",
       "      <td>0.8</td>\n",
       "      <td>0.2</td>\n",
       "      <td>5</td>\n",
       "      <td>0.9</td>\n",
       "      <td>{'colsample_bytree': 0.8, 'learning_rate': 0.2...</td>\n",
       "      <td>0.867111</td>\n",
       "      <td>0.854000</td>\n",
       "      <td>0.860556</td>\n",
       "      <td>0.006556</td>\n",
       "      <td>3</td>\n",
       "    </tr>\n",
       "    <tr>\n",
       "      <th>24</th>\n",
       "      <td>1.040757</td>\n",
       "      <td>0.004077</td>\n",
       "      <td>0.051742</td>\n",
       "      <td>4.757166e-03</td>\n",
       "      <td>0.8</td>\n",
       "      <td>0.2</td>\n",
       "      <td>5</td>\n",
       "      <td>0.8</td>\n",
       "      <td>{'colsample_bytree': 0.8, 'learning_rate': 0.2...</td>\n",
       "      <td>0.864444</td>\n",
       "      <td>0.856222</td>\n",
       "      <td>0.860333</td>\n",
       "      <td>0.004111</td>\n",
       "      <td>4</td>\n",
       "    </tr>\n",
       "    <tr>\n",
       "      <th>52</th>\n",
       "      <td>1.038648</td>\n",
       "      <td>0.007329</td>\n",
       "      <td>0.049767</td>\n",
       "      <td>2.888799e-03</td>\n",
       "      <td>0.9</td>\n",
       "      <td>0.2</td>\n",
       "      <td>5</td>\n",
       "      <td>0.9</td>\n",
       "      <td>{'colsample_bytree': 0.9, 'learning_rate': 0.2...</td>\n",
       "      <td>0.866444</td>\n",
       "      <td>0.854222</td>\n",
       "      <td>0.860333</td>\n",
       "      <td>0.006111</td>\n",
       "      <td>4</td>\n",
       "    </tr>\n",
       "    <tr>\n",
       "      <th>80</th>\n",
       "      <td>0.870332</td>\n",
       "      <td>0.023596</td>\n",
       "      <td>0.045930</td>\n",
       "      <td>3.448963e-03</td>\n",
       "      <td>1.0</td>\n",
       "      <td>0.2</td>\n",
       "      <td>5</td>\n",
       "      <td>1.0</td>\n",
       "      <td>{'colsample_bytree': 1.0, 'learning_rate': 0.2...</td>\n",
       "      <td>0.866444</td>\n",
       "      <td>0.853333</td>\n",
       "      <td>0.859889</td>\n",
       "      <td>0.006556</td>\n",
       "      <td>6</td>\n",
       "    </tr>\n",
       "    <tr>\n",
       "      <th>53</th>\n",
       "      <td>0.848528</td>\n",
       "      <td>0.004445</td>\n",
       "      <td>0.036199</td>\n",
       "      <td>4.948854e-03</td>\n",
       "      <td>0.9</td>\n",
       "      <td>0.2</td>\n",
       "      <td>5</td>\n",
       "      <td>1.0</td>\n",
       "      <td>{'colsample_bytree': 0.9, 'learning_rate': 0.2...</td>\n",
       "      <td>0.862444</td>\n",
       "      <td>0.856889</td>\n",
       "      <td>0.859667</td>\n",
       "      <td>0.002778</td>\n",
       "      <td>7</td>\n",
       "    </tr>\n",
       "    <tr>\n",
       "      <th>51</th>\n",
       "      <td>1.046708</td>\n",
       "      <td>0.013329</td>\n",
       "      <td>0.047986</td>\n",
       "      <td>1.673126e-02</td>\n",
       "      <td>0.9</td>\n",
       "      <td>0.2</td>\n",
       "      <td>5</td>\n",
       "      <td>0.8</td>\n",
       "      <td>{'colsample_bytree': 0.9, 'learning_rate': 0.2...</td>\n",
       "      <td>0.863778</td>\n",
       "      <td>0.852444</td>\n",
       "      <td>0.858111</td>\n",
       "      <td>0.005667</td>\n",
       "      <td>8</td>\n",
       "    </tr>\n",
       "    <tr>\n",
       "      <th>77</th>\n",
       "      <td>0.688225</td>\n",
       "      <td>0.014343</td>\n",
       "      <td>0.031254</td>\n",
       "      <td>5.960464e-07</td>\n",
       "      <td>1.0</td>\n",
       "      <td>0.2</td>\n",
       "      <td>4</td>\n",
       "      <td>1.0</td>\n",
       "      <td>{'colsample_bytree': 1.0, 'learning_rate': 0.2...</td>\n",
       "      <td>0.860222</td>\n",
       "      <td>0.849333</td>\n",
       "      <td>0.854778</td>\n",
       "      <td>0.005444</td>\n",
       "      <td>9</td>\n",
       "    </tr>\n",
       "    <tr>\n",
       "      <th>78</th>\n",
       "      <td>1.081718</td>\n",
       "      <td>0.010512</td>\n",
       "      <td>0.049951</td>\n",
       "      <td>7.646322e-03</td>\n",
       "      <td>1.0</td>\n",
       "      <td>0.2</td>\n",
       "      <td>5</td>\n",
       "      <td>0.8</td>\n",
       "      <td>{'colsample_bytree': 1.0, 'learning_rate': 0.2...</td>\n",
       "      <td>0.857556</td>\n",
       "      <td>0.852000</td>\n",
       "      <td>0.854778</td>\n",
       "      <td>0.002778</td>\n",
       "      <td>10</td>\n",
       "    </tr>\n",
       "  </tbody>\n",
       "</table>\n",
       "</div>"
      ],
      "text/plain": [
       "    mean_fit_time  std_fit_time  mean_score_time  std_score_time  \\\n",
       "26       0.867649      0.002225         0.040094    2.634525e-05   \n",
       "79       1.046722      0.004589         0.046878    3.576279e-07   \n",
       "25       1.030991      0.005273         0.048001    2.142668e-03   \n",
       "24       1.040757      0.004077         0.051742    4.757166e-03   \n",
       "52       1.038648      0.007329         0.049767    2.888799e-03   \n",
       "80       0.870332      0.023596         0.045930    3.448963e-03   \n",
       "53       0.848528      0.004445         0.036199    4.948854e-03   \n",
       "51       1.046708      0.013329         0.047986    1.673126e-02   \n",
       "77       0.688225      0.014343         0.031254    5.960464e-07   \n",
       "78       1.081718      0.010512         0.049951    7.646322e-03   \n",
       "\n",
       "   param_colsample_bytree param_learning_rate param_max_depth param_subsample  \\\n",
       "26                    0.8                 0.2               5             1.0   \n",
       "79                    1.0                 0.2               5             0.9   \n",
       "25                    0.8                 0.2               5             0.9   \n",
       "24                    0.8                 0.2               5             0.8   \n",
       "52                    0.9                 0.2               5             0.9   \n",
       "80                    1.0                 0.2               5             1.0   \n",
       "53                    0.9                 0.2               5             1.0   \n",
       "51                    0.9                 0.2               5             0.8   \n",
       "77                    1.0                 0.2               4             1.0   \n",
       "78                    1.0                 0.2               5             0.8   \n",
       "\n",
       "                                               params  split0_test_score  \\\n",
       "26  {'colsample_bytree': 0.8, 'learning_rate': 0.2...           0.868667   \n",
       "79  {'colsample_bytree': 1.0, 'learning_rate': 0.2...           0.863333   \n",
       "25  {'colsample_bytree': 0.8, 'learning_rate': 0.2...           0.867111   \n",
       "24  {'colsample_bytree': 0.8, 'learning_rate': 0.2...           0.864444   \n",
       "52  {'colsample_bytree': 0.9, 'learning_rate': 0.2...           0.866444   \n",
       "80  {'colsample_bytree': 1.0, 'learning_rate': 0.2...           0.866444   \n",
       "53  {'colsample_bytree': 0.9, 'learning_rate': 0.2...           0.862444   \n",
       "51  {'colsample_bytree': 0.9, 'learning_rate': 0.2...           0.863778   \n",
       "77  {'colsample_bytree': 1.0, 'learning_rate': 0.2...           0.860222   \n",
       "78  {'colsample_bytree': 1.0, 'learning_rate': 0.2...           0.857556   \n",
       "\n",
       "    split1_test_score  mean_test_score  std_test_score  rank_test_score  \n",
       "26           0.856889         0.862778        0.005889                1  \n",
       "79           0.858667         0.861000        0.002333                2  \n",
       "25           0.854000         0.860556        0.006556                3  \n",
       "24           0.856222         0.860333        0.004111                4  \n",
       "52           0.854222         0.860333        0.006111                4  \n",
       "80           0.853333         0.859889        0.006556                6  \n",
       "53           0.856889         0.859667        0.002778                7  \n",
       "51           0.852444         0.858111        0.005667                8  \n",
       "77           0.849333         0.854778        0.005444                9  \n",
       "78           0.852000         0.854778        0.002778               10  "
      ]
     },
     "metadata": {},
     "output_type": "display_data"
    },
    {
     "name": "stdout",
     "output_type": "stream",
     "text": [
      "Classification Report\n",
      "              precision    recall  f1-score   support\n",
      "\n",
      "           0       0.91      0.97      0.94      3183\n",
      "           1       0.87      0.85      0.86      3152\n",
      "           2       0.81      0.83      0.82      3268\n",
      "           3       0.88      0.90      0.89      3121\n",
      "           4       0.98      1.00      0.99      3220\n",
      "           5       0.85      0.83      0.84      3230\n",
      "           6       0.84      0.81      0.83      3221\n",
      "           7       0.84      0.88      0.86      3256\n",
      "           8       0.88      0.79      0.83      3149\n",
      "\n",
      "    accuracy                           0.87     28800\n",
      "   macro avg       0.87      0.87      0.87     28800\n",
      "weighted avg       0.87      0.87      0.87     28800\n",
      "\n"
     ]
    }
   ],
   "source": [
    "# using different hyperparameters for XGBoost\n",
    "model = XGBClassifier()\n",
    "param_grid = {\n",
    "    'learning_rate': [0.01, 0.1, 0.2],\n",
    "    'max_depth': [3, 4, 5],\n",
    "    'subsample': [0.8, 0.9, 1.0],\n",
    "    'colsample_bytree': [0.8, 0.9, 1.0],\n",
    "}\n",
    "best_model = grid_search_cv(model, param_grid, X_tune, y_tune)\n",
    "show_model_report(best_model, X_test, y_test)"
   ]
  },
  {
   "cell_type": "code",
   "execution_count": 73,
   "id": "04c5fc61",
   "metadata": {
    "scrolled": false
   },
   "outputs": [
    {
     "name": "stdout",
     "output_type": "stream",
     "text": [
      "Classification Report\n",
      "              precision    recall  f1-score   support\n",
      "\n",
      "           0       0.91      0.99      0.95      3183\n",
      "           1       0.90      0.90      0.90      3152\n",
      "           2       0.82      0.87      0.85      3268\n",
      "           3       0.93      0.94      0.93      3121\n",
      "           4       0.99      1.00      0.99      3220\n",
      "           5       0.88      0.84      0.86      3230\n",
      "           6       0.90      0.85      0.88      3221\n",
      "           7       0.89      0.93      0.91      3256\n",
      "           8       0.90      0.82      0.86      3149\n",
      "\n",
      "    accuracy                           0.90     28800\n",
      "   macro avg       0.90      0.90      0.90     28800\n",
      "weighted avg       0.90      0.90      0.90     28800\n",
      "\n"
     ]
    }
   ],
   "source": [
    "# best model fit\n",
    "best_model.fit(X_train, y_train)\n",
    "show_model_report(best_model, X_test, y_test)"
   ]
  },
  {
   "cell_type": "markdown",
   "id": "5e19f979",
   "metadata": {},
   "source": [
    "Using other set of hyperparameters the accuracy decreased slightly, but the model is performing good overall."
   ]
  },
  {
   "cell_type": "code",
   "execution_count": 74,
   "id": "11a18f86",
   "metadata": {
    "scrolled": true
   },
   "outputs": [
    {
     "name": "stdout",
     "output_type": "stream",
     "text": [
      "Performance of top 10 Model on  Parameters\n"
     ]
    },
    {
     "data": {
      "text/html": [
       "<div>\n",
       "<style scoped>\n",
       "    .dataframe tbody tr th:only-of-type {\n",
       "        vertical-align: middle;\n",
       "    }\n",
       "\n",
       "    .dataframe tbody tr th {\n",
       "        vertical-align: top;\n",
       "    }\n",
       "\n",
       "    .dataframe thead th {\n",
       "        text-align: right;\n",
       "    }\n",
       "</style>\n",
       "<table border=\"1\" class=\"dataframe\">\n",
       "  <thead>\n",
       "    <tr style=\"text-align: right;\">\n",
       "      <th></th>\n",
       "      <th>mean_fit_time</th>\n",
       "      <th>std_fit_time</th>\n",
       "      <th>mean_score_time</th>\n",
       "      <th>std_score_time</th>\n",
       "      <th>param_max_depth</th>\n",
       "      <th>param_min_samples_split</th>\n",
       "      <th>param_n_estimators</th>\n",
       "      <th>params</th>\n",
       "      <th>split0_test_score</th>\n",
       "      <th>split1_test_score</th>\n",
       "      <th>mean_test_score</th>\n",
       "      <th>std_test_score</th>\n",
       "      <th>rank_test_score</th>\n",
       "    </tr>\n",
       "  </thead>\n",
       "  <tbody>\n",
       "    <tr>\n",
       "      <th>20</th>\n",
       "      <td>2.003101</td>\n",
       "      <td>0.018201</td>\n",
       "      <td>0.181729</td>\n",
       "      <td>8.154392e-03</td>\n",
       "      <td>15</td>\n",
       "      <td>3</td>\n",
       "      <td>256</td>\n",
       "      <td>{'max_depth': 15, 'min_samples_split': 3, 'n_e...</td>\n",
       "      <td>0.761111</td>\n",
       "      <td>0.763111</td>\n",
       "      <td>0.762111</td>\n",
       "      <td>0.001000</td>\n",
       "      <td>1</td>\n",
       "    </tr>\n",
       "    <tr>\n",
       "      <th>22</th>\n",
       "      <td>0.958993</td>\n",
       "      <td>0.002802</td>\n",
       "      <td>0.083767</td>\n",
       "      <td>1.097631e-02</td>\n",
       "      <td>15</td>\n",
       "      <td>4</td>\n",
       "      <td>128</td>\n",
       "      <td>{'max_depth': 15, 'min_samples_split': 4, 'n_e...</td>\n",
       "      <td>0.762667</td>\n",
       "      <td>0.754667</td>\n",
       "      <td>0.758667</td>\n",
       "      <td>0.004000</td>\n",
       "      <td>2</td>\n",
       "    </tr>\n",
       "    <tr>\n",
       "      <th>23</th>\n",
       "      <td>1.920172</td>\n",
       "      <td>0.006611</td>\n",
       "      <td>0.165901</td>\n",
       "      <td>5.103588e-03</td>\n",
       "      <td>15</td>\n",
       "      <td>4</td>\n",
       "      <td>256</td>\n",
       "      <td>{'max_depth': 15, 'min_samples_split': 4, 'n_e...</td>\n",
       "      <td>0.757111</td>\n",
       "      <td>0.757778</td>\n",
       "      <td>0.757444</td>\n",
       "      <td>0.000333</td>\n",
       "      <td>3</td>\n",
       "    </tr>\n",
       "    <tr>\n",
       "      <th>18</th>\n",
       "      <td>0.486363</td>\n",
       "      <td>0.000230</td>\n",
       "      <td>0.039065</td>\n",
       "      <td>7.812619e-03</td>\n",
       "      <td>15</td>\n",
       "      <td>3</td>\n",
       "      <td>64</td>\n",
       "      <td>{'max_depth': 15, 'min_samples_split': 3, 'n_e...</td>\n",
       "      <td>0.753333</td>\n",
       "      <td>0.760000</td>\n",
       "      <td>0.756667</td>\n",
       "      <td>0.003333</td>\n",
       "      <td>4</td>\n",
       "    </tr>\n",
       "    <tr>\n",
       "      <th>19</th>\n",
       "      <td>0.985418</td>\n",
       "      <td>0.002899</td>\n",
       "      <td>0.078130</td>\n",
       "      <td>1.192093e-07</td>\n",
       "      <td>15</td>\n",
       "      <td>3</td>\n",
       "      <td>128</td>\n",
       "      <td>{'max_depth': 15, 'min_samples_split': 3, 'n_e...</td>\n",
       "      <td>0.752444</td>\n",
       "      <td>0.758222</td>\n",
       "      <td>0.755333</td>\n",
       "      <td>0.002889</td>\n",
       "      <td>5</td>\n",
       "    </tr>\n",
       "    <tr>\n",
       "      <th>25</th>\n",
       "      <td>0.929917</td>\n",
       "      <td>0.000272</td>\n",
       "      <td>0.082365</td>\n",
       "      <td>1.318574e-03</td>\n",
       "      <td>15</td>\n",
       "      <td>5</td>\n",
       "      <td>128</td>\n",
       "      <td>{'max_depth': 15, 'min_samples_split': 5, 'n_e...</td>\n",
       "      <td>0.754889</td>\n",
       "      <td>0.748000</td>\n",
       "      <td>0.751444</td>\n",
       "      <td>0.003444</td>\n",
       "      <td>6</td>\n",
       "    </tr>\n",
       "    <tr>\n",
       "      <th>26</th>\n",
       "      <td>1.849077</td>\n",
       "      <td>0.005402</td>\n",
       "      <td>0.169687</td>\n",
       "      <td>2.214551e-03</td>\n",
       "      <td>15</td>\n",
       "      <td>5</td>\n",
       "      <td>256</td>\n",
       "      <td>{'max_depth': 15, 'min_samples_split': 5, 'n_e...</td>\n",
       "      <td>0.750000</td>\n",
       "      <td>0.751333</td>\n",
       "      <td>0.750667</td>\n",
       "      <td>0.000667</td>\n",
       "      <td>7</td>\n",
       "    </tr>\n",
       "    <tr>\n",
       "      <th>24</th>\n",
       "      <td>0.462718</td>\n",
       "      <td>0.009145</td>\n",
       "      <td>0.045147</td>\n",
       "      <td>1.730919e-03</td>\n",
       "      <td>15</td>\n",
       "      <td>5</td>\n",
       "      <td>64</td>\n",
       "      <td>{'max_depth': 15, 'min_samples_split': 5, 'n_e...</td>\n",
       "      <td>0.747111</td>\n",
       "      <td>0.740000</td>\n",
       "      <td>0.743556</td>\n",
       "      <td>0.003556</td>\n",
       "      <td>8</td>\n",
       "    </tr>\n",
       "    <tr>\n",
       "      <th>21</th>\n",
       "      <td>0.486781</td>\n",
       "      <td>0.007099</td>\n",
       "      <td>0.045520</td>\n",
       "      <td>1.380086e-03</td>\n",
       "      <td>15</td>\n",
       "      <td>4</td>\n",
       "      <td>64</td>\n",
       "      <td>{'max_depth': 15, 'min_samples_split': 4, 'n_e...</td>\n",
       "      <td>0.742889</td>\n",
       "      <td>0.736000</td>\n",
       "      <td>0.739444</td>\n",
       "      <td>0.003444</td>\n",
       "      <td>9</td>\n",
       "    </tr>\n",
       "    <tr>\n",
       "      <th>17</th>\n",
       "      <td>1.332270</td>\n",
       "      <td>0.015308</td>\n",
       "      <td>0.140635</td>\n",
       "      <td>2.384186e-07</td>\n",
       "      <td>10</td>\n",
       "      <td>5</td>\n",
       "      <td>256</td>\n",
       "      <td>{'max_depth': 10, 'min_samples_split': 5, 'n_e...</td>\n",
       "      <td>0.690889</td>\n",
       "      <td>0.702444</td>\n",
       "      <td>0.696667</td>\n",
       "      <td>0.005778</td>\n",
       "      <td>10</td>\n",
       "    </tr>\n",
       "  </tbody>\n",
       "</table>\n",
       "</div>"
      ],
      "text/plain": [
       "    mean_fit_time  std_fit_time  mean_score_time  std_score_time  \\\n",
       "20       2.003101      0.018201         0.181729    8.154392e-03   \n",
       "22       0.958993      0.002802         0.083767    1.097631e-02   \n",
       "23       1.920172      0.006611         0.165901    5.103588e-03   \n",
       "18       0.486363      0.000230         0.039065    7.812619e-03   \n",
       "19       0.985418      0.002899         0.078130    1.192093e-07   \n",
       "25       0.929917      0.000272         0.082365    1.318574e-03   \n",
       "26       1.849077      0.005402         0.169687    2.214551e-03   \n",
       "24       0.462718      0.009145         0.045147    1.730919e-03   \n",
       "21       0.486781      0.007099         0.045520    1.380086e-03   \n",
       "17       1.332270      0.015308         0.140635    2.384186e-07   \n",
       "\n",
       "   param_max_depth param_min_samples_split param_n_estimators  \\\n",
       "20              15                       3                256   \n",
       "22              15                       4                128   \n",
       "23              15                       4                256   \n",
       "18              15                       3                 64   \n",
       "19              15                       3                128   \n",
       "25              15                       5                128   \n",
       "26              15                       5                256   \n",
       "24              15                       5                 64   \n",
       "21              15                       4                 64   \n",
       "17              10                       5                256   \n",
       "\n",
       "                                               params  split0_test_score  \\\n",
       "20  {'max_depth': 15, 'min_samples_split': 3, 'n_e...           0.761111   \n",
       "22  {'max_depth': 15, 'min_samples_split': 4, 'n_e...           0.762667   \n",
       "23  {'max_depth': 15, 'min_samples_split': 4, 'n_e...           0.757111   \n",
       "18  {'max_depth': 15, 'min_samples_split': 3, 'n_e...           0.753333   \n",
       "19  {'max_depth': 15, 'min_samples_split': 3, 'n_e...           0.752444   \n",
       "25  {'max_depth': 15, 'min_samples_split': 5, 'n_e...           0.754889   \n",
       "26  {'max_depth': 15, 'min_samples_split': 5, 'n_e...           0.750000   \n",
       "24  {'max_depth': 15, 'min_samples_split': 5, 'n_e...           0.747111   \n",
       "21  {'max_depth': 15, 'min_samples_split': 4, 'n_e...           0.742889   \n",
       "17  {'max_depth': 10, 'min_samples_split': 5, 'n_e...           0.690889   \n",
       "\n",
       "    split1_test_score  mean_test_score  std_test_score  rank_test_score  \n",
       "20           0.763111         0.762111        0.001000                1  \n",
       "22           0.754667         0.758667        0.004000                2  \n",
       "23           0.757778         0.757444        0.000333                3  \n",
       "18           0.760000         0.756667        0.003333                4  \n",
       "19           0.758222         0.755333        0.002889                5  \n",
       "25           0.748000         0.751444        0.003444                6  \n",
       "26           0.751333         0.750667        0.000667                7  \n",
       "24           0.740000         0.743556        0.003556                8  \n",
       "21           0.736000         0.739444        0.003444                9  \n",
       "17           0.702444         0.696667        0.005778               10  "
      ]
     },
     "metadata": {},
     "output_type": "display_data"
    },
    {
     "name": "stdout",
     "output_type": "stream",
     "text": [
      "Classification Report\n",
      "              precision    recall  f1-score   support\n",
      "\n",
      "           0       0.86      0.94      0.90      3183\n",
      "           1       0.84      0.79      0.81      3152\n",
      "           2       0.72      0.72      0.72      3268\n",
      "           3       0.79      0.80      0.79      3121\n",
      "           4       0.88      0.98      0.93      3220\n",
      "           5       0.81      0.77      0.79      3230\n",
      "           6       0.81      0.72      0.76      3221\n",
      "           7       0.75      0.80      0.77      3256\n",
      "           8       0.76      0.70      0.73      3149\n",
      "\n",
      "    accuracy                           0.80     28800\n",
      "   macro avg       0.80      0.80      0.80     28800\n",
      "weighted avg       0.80      0.80      0.80     28800\n",
      "\n"
     ]
    }
   ],
   "source": [
    "# checking less hyperparameters for Random Forest\n",
    "model = RandomForestClassifier()\n",
    "param_grid = {\n",
    "    'max_depth': [5, 10, 15],\n",
    "    'min_samples_split': [3, 4, 5],\n",
    "    'n_estimators': [64, 128, 256],\n",
    "}\n",
    "best_model = grid_search_cv(model, param_grid, X_tune, y_tune)\n",
    "show_model_report(best_model, X_test, y_test)"
   ]
  },
  {
   "cell_type": "markdown",
   "id": "266dc15a",
   "metadata": {},
   "source": [
    "Using different parameters for RandomForest also decreased the performance of the model."
   ]
  },
  {
   "cell_type": "code",
   "execution_count": 75,
   "id": "69ae5d75",
   "metadata": {
    "scrolled": true
   },
   "outputs": [
    {
     "name": "stdout",
     "output_type": "stream",
     "text": [
      "Classification Report\n",
      "              precision    recall  f1-score   support\n",
      "\n",
      "           0       0.92      0.97      0.94      3183\n",
      "           1       0.90      0.89      0.89      3152\n",
      "           2       0.81      0.81      0.81      3268\n",
      "           3       0.86      0.91      0.89      3121\n",
      "           4       0.94      0.99      0.97      3220\n",
      "           5       0.89      0.81      0.85      3230\n",
      "           6       0.89      0.82      0.85      3221\n",
      "           7       0.82      0.89      0.85      3256\n",
      "           8       0.87      0.79      0.83      3149\n",
      "\n",
      "    accuracy                           0.88     28800\n",
      "   macro avg       0.88      0.88      0.88     28800\n",
      "weighted avg       0.88      0.88      0.87     28800\n",
      "\n"
     ]
    }
   ],
   "source": [
    "# best model fit\n",
    "best_model.fit(X_train, y_train)\n",
    "show_model_report(best_model, X_test, y_test)"
   ]
  },
  {
   "cell_type": "markdown",
   "id": "70fd6d01",
   "metadata": {},
   "source": [
    "### SUMMARY:"
   ]
  },
  {
   "cell_type": "markdown",
   "id": "70b8233a",
   "metadata": {},
   "source": [
    "\n",
    "XGBoost was the best performing model with the highest accuracy score and with the best performance for all classes. I will use XGBoost for advanced model. \n",
    "- Refer to Step2_Modelling.ipynb for the next steps."
   ]
  }
 ],
 "metadata": {
  "kernelspec": {
   "display_name": "Python 3 (ipykernel)",
   "language": "python",
   "name": "python3"
  },
  "language_info": {
   "codemirror_mode": {
    "name": "ipython",
    "version": 3
   },
   "file_extension": ".py",
   "mimetype": "text/x-python",
   "name": "python",
   "nbconvert_exporter": "python",
   "pygments_lexer": "ipython3",
   "version": "3.11.5"
  }
 },
 "nbformat": 4,
 "nbformat_minor": 5
}
